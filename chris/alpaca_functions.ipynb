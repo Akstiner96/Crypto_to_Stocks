{
 "cells": [
  {
   "cell_type": "code",
   "execution_count": 2,
   "metadata": {},
   "outputs": [],
   "source": [
    "import numpy as np\n",
    "import pandas as pd\n",
    "import hvplot.pandas\n",
    "import alpaca_trade_api as tradeapi\n",
    "import requests\n",
    "import os \n",
    "from dotenv import load_dotenv\n",
    "\n",
    "import plotly.express as px\n",
    "import panel as pn\n",
    "import hvplot\n",
    "import hvplot.pandas"
   ]
  },
  {
   "cell_type": "code",
   "execution_count": 3,
   "metadata": {},
   "outputs": [
    {
     "data": {
      "text/plain": [
       "str"
      ]
     },
     "execution_count": 3,
     "metadata": {},
     "output_type": "execute_result"
    }
   ],
   "source": [
    "#load alpaca keys\n",
    "\n",
    "load_dotenv()\n",
    "\n",
    "alpaca_api_key = os.getenv(\"Api_key\")\n",
    "alpaca_secret_key = os.getenv(\"Secret_key\")\n",
    "\n",
    "api = tradeapi.REST(alpaca_api_key, alpaca_secret_key, api_version='v2')\n",
    "\n",
    "\n",
    "type(alpaca_api_key)"
   ]
  },
  {
   "cell_type": "code",
   "execution_count": 4,
   "metadata": {},
   "outputs": [],
   "source": [
    "# This simulates holding a current bank account that can send and receive\n",
    "# money via ACH transfers to and from Alpaca\n",
    "# We are assuming we have 100,000 and we are sending 50,000 to our alpaca algorithm\n",
    "\n",
    "beginning_deposit = 100000\n",
    "\n",
    "bank_balance = 100000\n",
    "\n",
    "send_to_alpaca_amount = 50000\n",
    "\n",
    "withdraw_from_alpaca_amount = 0"
   ]
  },
  {
   "cell_type": "code",
   "execution_count": 5,
   "metadata": {},
   "outputs": [
    {
     "name": "stdout",
     "output_type": "stream",
     "text": [
      "\n",
      "Transfer to alpaca successful. Your bank balance is now 50000 dollars\n",
      "\n"
     ]
    },
    {
     "data": {
      "text/plain": [
       "50000"
      ]
     },
     "execution_count": 5,
     "metadata": {},
     "output_type": "execute_result"
    }
   ],
   "source": [
    "# This function calculates a new bank balance after we send money to alpaca.\n",
    "# In reality this would be an ACH transfer from our bank to alpaca.\n",
    "\n",
    "def send_to_alpaca(send_to_alpaca_amount, bank_balance):\n",
    "    \n",
    "    bank_balance -= send_to_alpaca_amount\n",
    "    print()\n",
    "    print(f\"Transfer to alpaca successful. Your bank balance is now {bank_balance} dollars\")\n",
    "    print()\n",
    "    return bank_balance\n",
    "    \n",
    "send_to_alpaca(send_to_alpaca_amount, bank_balance)  "
   ]
  },
  {
   "cell_type": "code",
   "execution_count": 10,
   "metadata": {},
   "outputs": [],
   "source": [
    "#This function calculates our profits and sends them back to our bank.\n",
    "#In reality this would be an ACH transfer too. If there are no profits no transfer takes place. \n",
    "\n",
    "def transfer_profits_from_alpaca(withdraw_from_alpaca_amount, beginning_deposit):\n",
    "\n",
    "    # get our account data from alpaca \n",
    "    account = api.get_account()\n",
    "\n",
    "    #check to see if we are restricted\n",
    "    if account.trading_blocked:\n",
    "        print('Account is currently restricted from trading.')\n",
    "\n",
    "    #print current market value of account\n",
    "    print('Total market value is ${account.portfolio_value}.')\n",
    "    \n",
    "    #calculate how much profit we have. Withdraw that amount from alpaca to our bank.\n",
    "    if account.portfolio_value > beginning_deposit:\n",
    "\n",
    "        withdraw_from_alpaca_amount += (account.portfolio_value - beginning_deposit)\n",
    "        bank_balance += withdraw_from_alpaca_amount\n",
    "        print(f\"Your withdrawal was successful. Your new bank balance is ${bank_balance}\")\n",
    "        \n",
    "    else:\n",
    "        print(\"There are no profits to withdraw\")\n",
    "        \n"
   ]
  },
  {
   "cell_type": "code",
   "execution_count": null,
   "metadata": {},
   "outputs": [],
   "source": [
    "#Transfer any amount from alpaca to the bank\n",
    "# Set withdraw_from_alpaca_amount = any amount\n",
    "\n",
    "def transfer_from_alpaca(withdraw_from_alpaca_amount, beginning_deposit):\n",
    "\n",
    "    # get our account data from alpaca \n",
    "    account = api.get_account()\n",
    "\n",
    "    #check to see if we are restricted\n",
    "    if account.trading_blocked:\n",
    "        print('Account is currently restricted from trading.')\n",
    "\n",
    "    #print current market value of account\n",
    "    print('Total market value is ${account.portfolio_value}.')\n",
    "    \n",
    "    if withdraw_from_alpaca_amount <= account.portfolio_value:\n",
    "        bank_balance += withdraw_from_alpaca_amount\n",
    "    print(f\"Your withdrawal was successful. Your new bank balance is ${bank_balance})\n",
    "        \n",
    "    else:\n",
    "        print(\"You do not have enough funds to withdraw that amount.\")\n",
    "    \n",
    "    \n",
    "    "
   ]
  },
  {
   "cell_type": "code",
   "execution_count": null,
   "metadata": {},
   "outputs": [],
   "source": [
    "def positions()   \n",
    "    # Get a list of all of our positions.\n",
    "    portfolio = api.list_positions()\n",
    "\n",
    "    # Print the quantity of shares for each position.\n",
    "    for position in portfolio:\n",
    "        print(\"{} shares of {}\".format(position.qty, position.symbol))"
   ]
  }
 ],
 "metadata": {
  "kernelspec": {
   "display_name": "Python 3",
   "language": "python",
   "name": "python3"
  },
  "language_info": {
   "codemirror_mode": {
    "name": "ipython",
    "version": 3
   },
   "file_extension": ".py",
   "mimetype": "text/x-python",
   "name": "python",
   "nbconvert_exporter": "python",
   "pygments_lexer": "ipython3",
   "version": "3.7.7"
  }
 },
 "nbformat": 4,
 "nbformat_minor": 4
}
