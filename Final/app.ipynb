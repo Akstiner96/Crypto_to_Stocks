{
 "cells": [
  {
   "cell_type": "code",
   "execution_count": 35,
   "metadata": {},
   "outputs": [],
   "source": [
    "from alpaca_functions import *\n",
    "import alpaca_functions\n",
    "import stonk_pull \n",
    "import signals\n",
    "import datetime\n",
    "from binance2 import *\n",
    "import binance2\n",
    "import json\n",
    "from datetime import date\n",
    "from time import mktime\n",
    "import time\n",
    "import urllib3\n",
    "import urllib.request\n",
    "import math\n",
    "from dotenv import load_dotenv\n"
   ]
  },
  {
   "cell_type": "code",
   "execution_count": 2,
   "metadata": {},
   "outputs": [],
   "source": [
    "# This simulates holding a current bank account that can send and receive\n",
    "# money via ACH transfers to and from Alpaca\n",
    "# We are assuming we have 100,000 in the bank and we are sending 100,000 to our alpaca algorithm\n",
    "\n",
    "#We will be using STRIPE as our shared bank account, see stripe.py \n",
    "\n",
    "beginning_deposit = 100000\n",
    "\n",
    "bank_balance = 100000\n",
    "\n",
    "send_to_alpaca_amount = 100000\n",
    "\n",
    "withdraw_from_alpaca_amount = 0\n",
    "\n",
    "binance_balance = 0\n",
    "\n",
    "profits = 0"
   ]
  },
  {
   "cell_type": "code",
   "execution_count": 3,
   "metadata": {},
   "outputs": [
    {
     "name": "stderr",
     "output_type": "stream",
     "text": [
      "Python-dotenv could not parse statement starting at line 11\n",
      "Python-dotenv could not parse statement starting at line 15\n",
      "C:\\Users\\costa\\desktop\\byte\\rice\\ru-hou-fin-pt-03-2020-u-c\\Project3_DoH\\Final\\stonk_pull.py:16: UserWarning: Make sure your api keys are renamed to fit this function or alter the function to fit your names\n",
      "  warnings.warn('Make sure your api keys are renamed to fit this function or alter the function to fit your names')\n"
     ]
    }
   ],
   "source": [
    "#load alpaca api keys\n",
    "api = stonk_pull.load()\n"
   ]
  },
  {
   "cell_type": "code",
   "execution_count": 4,
   "metadata": {},
   "outputs": [
    {
     "name": "stdout",
     "output_type": "stream",
     "text": [
      "\n",
      "Transfer to alpaca successful. Your bank balance is now 0 dollars\n",
      "\n"
     ]
    },
    {
     "data": {
      "text/plain": [
       "0"
      ]
     },
     "execution_count": 4,
     "metadata": {},
     "output_type": "execute_result"
    }
   ],
   "source": [
    "# Send money to alpaca. This function calculates a new bank balance after we send money to alpaca\n",
    "# In reality this would be an ACH transfer from our bank to alpaca.\n",
    "bank_balance = send_to_alpaca(send_to_alpaca_amount, bank_balance)\n",
    "bank_balance"
   ]
  },
  {
   "cell_type": "code",
   "execution_count": 5,
   "metadata": {},
   "outputs": [
    {
     "data": {
      "text/html": [
       "<div>\n",
       "<style scoped>\n",
       "    .dataframe tbody tr th:only-of-type {\n",
       "        vertical-align: middle;\n",
       "    }\n",
       "\n",
       "    .dataframe tbody tr th {\n",
       "        vertical-align: top;\n",
       "    }\n",
       "\n",
       "    .dataframe thead th {\n",
       "        text-align: right;\n",
       "    }\n",
       "</style>\n",
       "<table border=\"1\" class=\"dataframe\">\n",
       "  <thead>\n",
       "    <tr style=\"text-align: right;\">\n",
       "      <th></th>\n",
       "      <th>SPY Open</th>\n",
       "      <th>SPY High</th>\n",
       "      <th>SPY Low</th>\n",
       "      <th>SPY Close</th>\n",
       "      <th>SPY Adjusted Close</th>\n",
       "      <th>SPY Volume</th>\n",
       "      <th>SPY Dividend Amount</th>\n",
       "      <th>SPY Split Coefficient</th>\n",
       "    </tr>\n",
       "    <tr>\n",
       "      <th>date</th>\n",
       "      <th></th>\n",
       "      <th></th>\n",
       "      <th></th>\n",
       "      <th></th>\n",
       "      <th></th>\n",
       "      <th></th>\n",
       "      <th></th>\n",
       "      <th></th>\n",
       "    </tr>\n",
       "  </thead>\n",
       "  <tbody>\n",
       "    <tr>\n",
       "      <th>2020-08-24</th>\n",
       "      <td>342.12</td>\n",
       "      <td>343.00</td>\n",
       "      <td>339.4504</td>\n",
       "      <td>342.92</td>\n",
       "      <td>342.92</td>\n",
       "      <td>48588662.0</td>\n",
       "      <td>0.0</td>\n",
       "      <td>1.0</td>\n",
       "    </tr>\n",
       "    <tr>\n",
       "      <th>2020-08-21</th>\n",
       "      <td>337.92</td>\n",
       "      <td>339.72</td>\n",
       "      <td>337.5500</td>\n",
       "      <td>339.48</td>\n",
       "      <td>339.48</td>\n",
       "      <td>55106628.0</td>\n",
       "      <td>0.0</td>\n",
       "      <td>1.0</td>\n",
       "    </tr>\n",
       "    <tr>\n",
       "      <th>2020-08-20</th>\n",
       "      <td>335.36</td>\n",
       "      <td>338.80</td>\n",
       "      <td>335.2200</td>\n",
       "      <td>338.28</td>\n",
       "      <td>338.28</td>\n",
       "      <td>42207826.0</td>\n",
       "      <td>0.0</td>\n",
       "      <td>1.0</td>\n",
       "    </tr>\n",
       "    <tr>\n",
       "      <th>2020-08-19</th>\n",
       "      <td>339.05</td>\n",
       "      <td>339.61</td>\n",
       "      <td>336.6200</td>\n",
       "      <td>337.23</td>\n",
       "      <td>337.23</td>\n",
       "      <td>68054244.0</td>\n",
       "      <td>0.0</td>\n",
       "      <td>1.0</td>\n",
       "    </tr>\n",
       "    <tr>\n",
       "      <th>2020-08-18</th>\n",
       "      <td>338.34</td>\n",
       "      <td>339.10</td>\n",
       "      <td>336.6100</td>\n",
       "      <td>338.64</td>\n",
       "      <td>338.64</td>\n",
       "      <td>38733908.0</td>\n",
       "      <td>0.0</td>\n",
       "      <td>1.0</td>\n",
       "    </tr>\n",
       "  </tbody>\n",
       "</table>\n",
       "</div>"
      ],
      "text/plain": [
       "            SPY Open  SPY High   SPY Low  SPY Close  SPY Adjusted Close  \\\n",
       "date                                                                      \n",
       "2020-08-24    342.12    343.00  339.4504     342.92              342.92   \n",
       "2020-08-21    337.92    339.72  337.5500     339.48              339.48   \n",
       "2020-08-20    335.36    338.80  335.2200     338.28              338.28   \n",
       "2020-08-19    339.05    339.61  336.6200     337.23              337.23   \n",
       "2020-08-18    338.34    339.10  336.6100     338.64              338.64   \n",
       "\n",
       "            SPY Volume  SPY Dividend Amount  SPY Split Coefficient  \n",
       "date                                                                \n",
       "2020-08-24  48588662.0                  0.0                    1.0  \n",
       "2020-08-21  55106628.0                  0.0                    1.0  \n",
       "2020-08-20  42207826.0                  0.0                    1.0  \n",
       "2020-08-19  68054244.0                  0.0                    1.0  \n",
       "2020-08-18  38733908.0                  0.0                    1.0  "
      ]
     },
     "execution_count": 5,
     "metadata": {},
     "output_type": "execute_result"
    }
   ],
   "source": [
    "#Pull the data from alphavantage\n",
    "data = stonk_pull.data_pull(api)\n",
    "data.head()"
   ]
  },
  {
   "cell_type": "code",
   "execution_count": 6,
   "metadata": {},
   "outputs": [
    {
     "data": {
      "text/html": [
       "<div>\n",
       "<style scoped>\n",
       "    .dataframe tbody tr th:only-of-type {\n",
       "        vertical-align: middle;\n",
       "    }\n",
       "\n",
       "    .dataframe tbody tr th {\n",
       "        vertical-align: top;\n",
       "    }\n",
       "\n",
       "    .dataframe thead th {\n",
       "        text-align: right;\n",
       "    }\n",
       "</style>\n",
       "<table border=\"1\" class=\"dataframe\">\n",
       "  <thead>\n",
       "    <tr style=\"text-align: right;\">\n",
       "      <th></th>\n",
       "      <th>SPY Open</th>\n",
       "      <th>SPY Close</th>\n",
       "      <th>SPY Volume</th>\n",
       "    </tr>\n",
       "    <tr>\n",
       "      <th>date</th>\n",
       "      <th></th>\n",
       "      <th></th>\n",
       "      <th></th>\n",
       "    </tr>\n",
       "  </thead>\n",
       "  <tbody>\n",
       "    <tr>\n",
       "      <th>2020-08-24</th>\n",
       "      <td>342.12</td>\n",
       "      <td>342.92</td>\n",
       "      <td>48588662.0</td>\n",
       "    </tr>\n",
       "    <tr>\n",
       "      <th>2020-08-21</th>\n",
       "      <td>337.92</td>\n",
       "      <td>339.48</td>\n",
       "      <td>55106628.0</td>\n",
       "    </tr>\n",
       "    <tr>\n",
       "      <th>2020-08-20</th>\n",
       "      <td>335.36</td>\n",
       "      <td>338.28</td>\n",
       "      <td>42207826.0</td>\n",
       "    </tr>\n",
       "    <tr>\n",
       "      <th>2020-08-19</th>\n",
       "      <td>339.05</td>\n",
       "      <td>337.23</td>\n",
       "      <td>68054244.0</td>\n",
       "    </tr>\n",
       "    <tr>\n",
       "      <th>2020-08-18</th>\n",
       "      <td>338.34</td>\n",
       "      <td>338.64</td>\n",
       "      <td>38733908.0</td>\n",
       "    </tr>\n",
       "  </tbody>\n",
       "</table>\n",
       "</div>"
      ],
      "text/plain": [
       "            SPY Open  SPY Close  SPY Volume\n",
       "date                                       \n",
       "2020-08-24    342.12     342.92  48588662.0\n",
       "2020-08-21    337.92     339.48  55106628.0\n",
       "2020-08-20    335.36     338.28  42207826.0\n",
       "2020-08-19    339.05     337.23  68054244.0\n",
       "2020-08-18    338.34     338.64  38733908.0"
      ]
     },
     "execution_count": 6,
     "metadata": {},
     "output_type": "execute_result"
    }
   ],
   "source": [
    "#Clean the data\n",
    "stock_data_df = stonk_pull.data_clean(data)\n",
    "stock_data_df.head()\n"
   ]
  },
  {
   "cell_type": "code",
   "execution_count": 7,
   "metadata": {},
   "outputs": [
    {
     "data": {
      "text/html": [
       "<div>\n",
       "<style scoped>\n",
       "    .dataframe tbody tr th:only-of-type {\n",
       "        vertical-align: middle;\n",
       "    }\n",
       "\n",
       "    .dataframe tbody tr th {\n",
       "        vertical-align: top;\n",
       "    }\n",
       "\n",
       "    .dataframe thead th {\n",
       "        text-align: right;\n",
       "    }\n",
       "</style>\n",
       "<table border=\"1\" class=\"dataframe\">\n",
       "  <thead>\n",
       "    <tr style=\"text-align: right;\">\n",
       "      <th></th>\n",
       "      <th>SPY Open</th>\n",
       "      <th>SPY Close</th>\n",
       "      <th>SPY Volume</th>\n",
       "    </tr>\n",
       "    <tr>\n",
       "      <th>date</th>\n",
       "      <th></th>\n",
       "      <th></th>\n",
       "      <th></th>\n",
       "    </tr>\n",
       "  </thead>\n",
       "  <tbody>\n",
       "    <tr>\n",
       "      <th>1999-11-01</th>\n",
       "      <td>136.5000</td>\n",
       "      <td>135.5625</td>\n",
       "      <td>4006500.0</td>\n",
       "    </tr>\n",
       "    <tr>\n",
       "      <th>1999-11-02</th>\n",
       "      <td>135.9687</td>\n",
       "      <td>134.5937</td>\n",
       "      <td>6516900.0</td>\n",
       "    </tr>\n",
       "    <tr>\n",
       "      <th>1999-11-03</th>\n",
       "      <td>136.0000</td>\n",
       "      <td>135.5000</td>\n",
       "      <td>7222300.0</td>\n",
       "    </tr>\n",
       "    <tr>\n",
       "      <th>1999-11-04</th>\n",
       "      <td>136.7500</td>\n",
       "      <td>136.5312</td>\n",
       "      <td>7907500.0</td>\n",
       "    </tr>\n",
       "    <tr>\n",
       "      <th>1999-11-05</th>\n",
       "      <td>138.6250</td>\n",
       "      <td>137.8750</td>\n",
       "      <td>7431500.0</td>\n",
       "    </tr>\n",
       "  </tbody>\n",
       "</table>\n",
       "</div>"
      ],
      "text/plain": [
       "            SPY Open  SPY Close  SPY Volume\n",
       "date                                       \n",
       "1999-11-01  136.5000   135.5625   4006500.0\n",
       "1999-11-02  135.9687   134.5937   6516900.0\n",
       "1999-11-03  136.0000   135.5000   7222300.0\n",
       "1999-11-04  136.7500   136.5312   7907500.0\n",
       "1999-11-05  138.6250   137.8750   7431500.0"
      ]
     },
     "execution_count": 7,
     "metadata": {},
     "output_type": "execute_result"
    }
   ],
   "source": [
    "#Sort earliest to latest.\n",
    "stock_data_df.sort_index(inplace=True, ascending=True)\n",
    "stock_data_df.head()\n"
   ]
  },
  {
   "cell_type": "code",
   "execution_count": 8,
   "metadata": {},
   "outputs": [
    {
     "data": {
      "text/html": [
       "<div>\n",
       "<style scoped>\n",
       "    .dataframe tbody tr th:only-of-type {\n",
       "        vertical-align: middle;\n",
       "    }\n",
       "\n",
       "    .dataframe tbody tr th {\n",
       "        vertical-align: top;\n",
       "    }\n",
       "\n",
       "    .dataframe thead th {\n",
       "        text-align: right;\n",
       "    }\n",
       "</style>\n",
       "<table border=\"1\" class=\"dataframe\">\n",
       "  <thead>\n",
       "    <tr style=\"text-align: right;\">\n",
       "      <th></th>\n",
       "      <th>SPY Close</th>\n",
       "    </tr>\n",
       "    <tr>\n",
       "      <th>date</th>\n",
       "      <th></th>\n",
       "    </tr>\n",
       "  </thead>\n",
       "  <tbody>\n",
       "    <tr>\n",
       "      <th>1999-11-01</th>\n",
       "      <td>135.5625</td>\n",
       "    </tr>\n",
       "    <tr>\n",
       "      <th>1999-11-02</th>\n",
       "      <td>134.5937</td>\n",
       "    </tr>\n",
       "    <tr>\n",
       "      <th>1999-11-03</th>\n",
       "      <td>135.5000</td>\n",
       "    </tr>\n",
       "    <tr>\n",
       "      <th>1999-11-04</th>\n",
       "      <td>136.5312</td>\n",
       "    </tr>\n",
       "    <tr>\n",
       "      <th>1999-11-05</th>\n",
       "      <td>137.8750</td>\n",
       "    </tr>\n",
       "  </tbody>\n",
       "</table>\n",
       "</div>"
      ],
      "text/plain": [
       "            SPY Close\n",
       "date                 \n",
       "1999-11-01   135.5625\n",
       "1999-11-02   134.5937\n",
       "1999-11-03   135.5000\n",
       "1999-11-04   136.5312\n",
       "1999-11-05   137.8750"
      ]
     },
     "execution_count": 8,
     "metadata": {},
     "output_type": "execute_result"
    }
   ],
   "source": [
    "#To set up the crossover strategy select the one column we need, \"Close\", and set to dataframe\n",
    "signals_df = stock_data_df['SPY Close'].to_frame()\n",
    "signals_df.head()"
   ]
  },
  {
   "cell_type": "code",
   "execution_count": 9,
   "metadata": {},
   "outputs": [
    {
     "data": {
      "text/html": [
       "<div>\n",
       "<style scoped>\n",
       "    .dataframe tbody tr th:only-of-type {\n",
       "        vertical-align: middle;\n",
       "    }\n",
       "\n",
       "    .dataframe tbody tr th {\n",
       "        vertical-align: top;\n",
       "    }\n",
       "\n",
       "    .dataframe thead th {\n",
       "        text-align: right;\n",
       "    }\n",
       "</style>\n",
       "<table border=\"1\" class=\"dataframe\">\n",
       "  <thead>\n",
       "    <tr style=\"text-align: right;\">\n",
       "      <th></th>\n",
       "      <th>SPY Close</th>\n",
       "      <th>SMA2</th>\n",
       "      <th>SMA13</th>\n",
       "      <th>Signal</th>\n",
       "      <th>Buy/Sell</th>\n",
       "    </tr>\n",
       "    <tr>\n",
       "      <th>date</th>\n",
       "      <th></th>\n",
       "      <th></th>\n",
       "      <th></th>\n",
       "      <th></th>\n",
       "      <th></th>\n",
       "    </tr>\n",
       "  </thead>\n",
       "  <tbody>\n",
       "    <tr>\n",
       "      <th>1999-11-01</th>\n",
       "      <td>135.5625</td>\n",
       "      <td>NaN</td>\n",
       "      <td>NaN</td>\n",
       "      <td>0.0</td>\n",
       "      <td>NaN</td>\n",
       "    </tr>\n",
       "    <tr>\n",
       "      <th>1999-11-02</th>\n",
       "      <td>134.5937</td>\n",
       "      <td>135.07810</td>\n",
       "      <td>NaN</td>\n",
       "      <td>0.0</td>\n",
       "      <td>0.0</td>\n",
       "    </tr>\n",
       "    <tr>\n",
       "      <th>1999-11-03</th>\n",
       "      <td>135.5000</td>\n",
       "      <td>135.04685</td>\n",
       "      <td>NaN</td>\n",
       "      <td>0.0</td>\n",
       "      <td>0.0</td>\n",
       "    </tr>\n",
       "    <tr>\n",
       "      <th>1999-11-04</th>\n",
       "      <td>136.5312</td>\n",
       "      <td>136.01560</td>\n",
       "      <td>NaN</td>\n",
       "      <td>0.0</td>\n",
       "      <td>0.0</td>\n",
       "    </tr>\n",
       "    <tr>\n",
       "      <th>1999-11-05</th>\n",
       "      <td>137.8750</td>\n",
       "      <td>137.20310</td>\n",
       "      <td>NaN</td>\n",
       "      <td>0.0</td>\n",
       "      <td>0.0</td>\n",
       "    </tr>\n",
       "    <tr>\n",
       "      <th>...</th>\n",
       "      <td>...</td>\n",
       "      <td>...</td>\n",
       "      <td>...</td>\n",
       "      <td>...</td>\n",
       "      <td>...</td>\n",
       "    </tr>\n",
       "    <tr>\n",
       "      <th>2020-08-18</th>\n",
       "      <td>338.6400</td>\n",
       "      <td>338.27500</td>\n",
       "      <td>334.031538</td>\n",
       "      <td>1.0</td>\n",
       "      <td>0.0</td>\n",
       "    </tr>\n",
       "    <tr>\n",
       "      <th>2020-08-19</th>\n",
       "      <td>337.2300</td>\n",
       "      <td>337.93500</td>\n",
       "      <td>334.855385</td>\n",
       "      <td>1.0</td>\n",
       "      <td>0.0</td>\n",
       "    </tr>\n",
       "    <tr>\n",
       "      <th>2020-08-20</th>\n",
       "      <td>338.2800</td>\n",
       "      <td>337.75500</td>\n",
       "      <td>335.585385</td>\n",
       "      <td>1.0</td>\n",
       "      <td>0.0</td>\n",
       "    </tr>\n",
       "    <tr>\n",
       "      <th>2020-08-21</th>\n",
       "      <td>339.4800</td>\n",
       "      <td>338.88000</td>\n",
       "      <td>336.310000</td>\n",
       "      <td>1.0</td>\n",
       "      <td>0.0</td>\n",
       "    </tr>\n",
       "    <tr>\n",
       "      <th>2020-08-24</th>\n",
       "      <td>342.9200</td>\n",
       "      <td>341.20000</td>\n",
       "      <td>337.141538</td>\n",
       "      <td>1.0</td>\n",
       "      <td>0.0</td>\n",
       "    </tr>\n",
       "  </tbody>\n",
       "</table>\n",
       "<p>5237 rows × 5 columns</p>\n",
       "</div>"
      ],
      "text/plain": [
       "            SPY Close       SMA2       SMA13  Signal  Buy/Sell\n",
       "date                                                          \n",
       "1999-11-01   135.5625        NaN         NaN     0.0       NaN\n",
       "1999-11-02   134.5937  135.07810         NaN     0.0       0.0\n",
       "1999-11-03   135.5000  135.04685         NaN     0.0       0.0\n",
       "1999-11-04   136.5312  136.01560         NaN     0.0       0.0\n",
       "1999-11-05   137.8750  137.20310         NaN     0.0       0.0\n",
       "...               ...        ...         ...     ...       ...\n",
       "2020-08-18   338.6400  338.27500  334.031538     1.0       0.0\n",
       "2020-08-19   337.2300  337.93500  334.855385     1.0       0.0\n",
       "2020-08-20   338.2800  337.75500  335.585385     1.0       0.0\n",
       "2020-08-21   339.4800  338.88000  336.310000     1.0       0.0\n",
       "2020-08-24   342.9200  341.20000  337.141538     1.0       0.0\n",
       "\n",
       "[5237 rows x 5 columns]"
      ]
     },
     "execution_count": 9,
     "metadata": {},
     "output_type": "execute_result"
    }
   ],
   "source": [
    "#This function generates the signals dataframe\n",
    "signals.generate_sma2_sma13_signals(signals_df)"
   ]
  },
  {
   "cell_type": "code",
   "execution_count": 10,
   "metadata": {},
   "outputs": [
    {
     "name": "stdout",
     "output_type": "stream",
     "text": [
      "The signal is hold. No action taken\n",
      "Current positions are: [Position({   'asset_class': 'us_equity',\n",
      "    'asset_id': 'b28f4066-5c6d-479b-a2af-85dc1a8f16fb',\n",
      "    'avg_entry_price': '343.2',\n",
      "    'change_today': '0.0022162603522688',\n",
      "    'cost_basis': '99871.2',\n",
      "    'current_price': '343.68',\n",
      "    'exchange': 'ARCA',\n",
      "    'lastday_price': '342.92',\n",
      "    'market_value': '100010.88',\n",
      "    'qty': '291',\n",
      "    'side': 'long',\n",
      "    'symbol': 'SPY',\n",
      "    'unrealized_intraday_pl': '139.68',\n",
      "    'unrealized_intraday_plpc': '0.0013986013986014',\n",
      "    'unrealized_pl': '139.68',\n",
      "    'unrealized_plpc': '0.0013986013986014'})]\n"
     ]
    }
   ],
   "source": [
    "#Send Buy and Sell orders to alpaca using the signal, 1 = buy, -1 = sell, 0 = hold\n",
    "\n",
    "if signals_df['Buy/Sell'].iloc[-1] == 1.0:\n",
    "    symbol = \"SPY\"\n",
    "    alpaca_functions.buy(symbol)\n",
    "    \n",
    "elif signals_df['Buy/Sell'].iloc[-1] == -1.0:\n",
    "    symbol = \"SPY\"\n",
    "    alpaca_functions.sell_all(symbol)\n",
    "    \n",
    "elif signals_df['Buy/Sell'].iloc[-1] == 0.0:\n",
    "    print(\"The signal is hold. No action taken\")\n",
    "\n",
    "print(f\"Current positions are: {api.list_positions()}\")"
   ]
  },
  {
   "cell_type": "code",
   "execution_count": 11,
   "metadata": {},
   "outputs": [
    {
     "name": "stdout",
     "output_type": "stream",
     "text": [
      "Waiting...\n",
      "Your transfer of profits from alpaca was successful. Your new bank balance is $891.9499999999971\n"
     ]
    }
   ],
   "source": [
    "#On the first of the month we will send our profits from alpaca to the bank\n",
    "\n",
    "day_of_month = (date.today()).strftime(\"%d\")\n",
    "\n",
    "if day_of_month == '1':\n",
    "    bank_balance = transfer_profits_from_alpaca(bank_balance, beginning_deposit)\n",
    "else:\n",
    "    print(\"No profits were transferred to the bank from alpaca today.\")  \n",
    "    \n",
    "\n"
   ]
  },
  {
   "cell_type": "code",
   "execution_count": 12,
   "metadata": {},
   "outputs": [
    {
     "data": {
      "text/plain": [
       "891.9499999999971"
      ]
     },
     "execution_count": 12,
     "metadata": {},
     "output_type": "execute_result"
    }
   ],
   "source": [
    "bank_balance"
   ]
  },
  {
   "cell_type": "code",
   "execution_count": 13,
   "metadata": {},
   "outputs": [
    {
     "name": "stdout",
     "output_type": "stream",
     "text": [
      "\n",
      "Transfer to Binance successful. Your binance_balance is now 891.9499999999971.\n",
      "Your bank balance is now 0.\n",
      "bank balance: 0\n",
      "binance balance: 891.9499999999971\n"
     ]
    }
   ],
   "source": [
    "#On the second day of the month we will send our profits from our bank to the binance cryptoexchange\n",
    "\n",
    "day_of_month = (date.today()).strftime(\"%d\")\n",
    "\n",
    "#If the the day of the month is 2, we transfer profits to binance and recalculate the bank balance and binance balance\n",
    "\n",
    "if day_of_month == '2':\n",
    "    #transfer function returns a list with the new bank balance and the new binance balance\n",
    "    balances = transfer_profits_to_exchange(bank_balance, binance_balance)\n",
    "    \n",
    "    #set the new bank and the new binance balances\n",
    "    bank_balance = balances[0]\n",
    "    binance_balance = balances[1]\n",
    "    \n",
    "else:\n",
    "    print(\"No profits were transferred from the bank to binance today.\")  \n",
    "\n",
    "print(\"bank balance:\", bank_balance)\n",
    "print(\"binance balance:\", binance_balance)\n"
   ]
  },
  {
   "cell_type": "code",
   "execution_count": 14,
   "metadata": {},
   "outputs": [
    {
     "data": {
      "text/plain": [
       "407.4"
      ]
     },
     "execution_count": 14,
     "metadata": {},
     "output_type": "execute_result"
    }
   ],
   "source": [
    "# Get price for ETH through binance api\n",
    "eth_price = get_eth_price()\n",
    "eth_price = float(eth_price)\n",
    "eth_price"
   ]
  },
  {
   "cell_type": "code",
   "execution_count": 15,
   "metadata": {},
   "outputs": [
    {
     "data": {
      "text/plain": [
       "2"
      ]
     },
     "execution_count": 15,
     "metadata": {},
     "output_type": "execute_result"
    }
   ],
   "source": [
    "\n",
    "\n",
    "#Calculate number of ether to buy, round down to nearest integer because binance does not support fractional buys\n",
    "quantity = math.floor(binance_balance/eth_price)\n",
    "quantity\n"
   ]
  },
  {
   "cell_type": "code",
   "execution_count": 45,
   "metadata": {},
   "outputs": [
    {
     "name": "stdout",
     "output_type": "stream",
     "text": [
      "b'{\"symbol\":\"ETHBUSD\",\"orderId\":46,\"orderListId\":-1,\"clientOrderId\":\"my_order_id_1\",\"transactTime\":1598383158268}'\n"
     ]
    },
    {
     "data": {
      "text/plain": [
       "b'{\"symbol\":\"ETHBUSD\",\"orderId\":46,\"orderListId\":-1,\"clientOrderId\":\"my_order_id_1\",\"transactTime\":1598383158268}'"
      ]
     },
     "execution_count": 45,
     "metadata": {},
     "output_type": "execute_result"
    }
   ],
   "source": [
    "#This buys shares of ETH \n",
    "\n",
    "buy_ETH(quantity)"
   ]
  },
  {
   "cell_type": "code",
   "execution_count": 46,
   "metadata": {},
   "outputs": [
    {
     "name": "stdout",
     "output_type": "stream",
     "text": [
      "This is your account information and current holdings\n"
     ]
    },
    {
     "data": {
      "text/plain": [
       "{'makerCommission': 0,\n",
       " 'takerCommission': 0,\n",
       " 'buyerCommission': 0,\n",
       " 'sellerCommission': 0,\n",
       " 'canTrade': True,\n",
       " 'canWithdraw': False,\n",
       " 'canDeposit': False,\n",
       " 'updateTime': 1598383158268,\n",
       " 'accountType': 'SPOT',\n",
       " 'balances': [{'asset': 'BNB',\n",
       "   'free': '1000.00000000',\n",
       "   'locked': '0.00000000'},\n",
       "  {'asset': 'BTC', 'free': '0.99000000', 'locked': '0.00000000'},\n",
       "  {'asset': 'BUSD', 'free': '5558.07298600', 'locked': '0.00000000'},\n",
       "  {'asset': 'ETH', 'free': '110.90311000', 'locked': '0.00000000'},\n",
       "  {'asset': 'LTC', 'free': '500.00000000', 'locked': '0.00000000'},\n",
       "  {'asset': 'TRX', 'free': '500000.00000000', 'locked': '0.00000000'},\n",
       "  {'asset': 'USDT', 'free': '10400.00000000', 'locked': '0.00000000'},\n",
       "  {'asset': 'XRP', 'free': '50000.00000000', 'locked': '0.00000000'}],\n",
       " 'permissions': ['SPOT']}"
      ]
     },
     "execution_count": 46,
     "metadata": {},
     "output_type": "execute_result"
    }
   ],
   "source": [
    "#check account holdings\n",
    "holdings = get_account_holdings()\n",
    "\n",
    "#convert bytes object to string\n",
    "holdings = holdings.decode(\"utf-8\") \n",
    "    \n",
    "#convert str to json\n",
    "print(f\"This is your account information and current holdings\")\n",
    "holdings = json.loads(holdings)\n",
    "holdings"
   ]
  },
  {
   "cell_type": "code",
   "execution_count": 47,
   "metadata": {},
   "outputs": [
    {
     "name": "stdout",
     "output_type": "stream",
     "text": [
      "b'[{\"id\":0,\"price\":\"386.26000000\",\"qty\":\"1.00000000\",\"quoteQty\":\"386.26000000\",\"time\":1596440526404,\"isBuyerMaker\":true,\"isBestMatch\":true},{\"id\":1,\"price\":\"414.15000000\",\"qty\":\"0.02714000\",\"quoteQty\":\"11.24003100\",\"time\":1597851105665,\"isBuyerMaker\":true,\"isBestMatch\":true},{\"id\":2,\"price\":\"414.15000000\",\"qty\":\"0.02729000\",\"quoteQty\":\"11.30215350\",\"time\":1597854349295,\"isBuyerMaker\":true,\"isBestMatch\":true},{\"id\":3,\"price\":\"414.15000000\",\"qty\":\"0.02733000\",\"quoteQty\":\"11.31871950\",\"time\":1597854483275,\"isBuyerMaker\":true,\"isBestMatch\":true},{\"id\":4,\"price\":\"414.15000000\",\"qty\":\"0.02733000\",\"quoteQty\":\"11.31871950\",\"time\":1597854687743,\"isBuyerMaker\":true,\"isBestMatch\":true},{\"id\":5,\"price\":\"414.15000000\",\"qty\":\"0.02733000\",\"quoteQty\":\"11.31871950\",\"time\":1597854803719,\"isBuyerMaker\":true,\"isBestMatch\":true},{\"id\":6,\"price\":\"414.15000000\",\"qty\":\"0.02738000\",\"quoteQty\":\"11.33942700\",\"time\":1597854865008,\"isBuyerMaker\":true,\"isBestMatch\":true},{\"id\":7,\"price\":\"414.15000000\",\"qty\":\"0.02738000\",\"quoteQty\":\"11.33942700\",\"time\":1597854929976,\"isBuyerMaker\":true,\"isBestMatch\":true},{\"id\":8,\"price\":\"414.15000000\",\"qty\":\"0.02739000\",\"quoteQty\":\"11.34356850\",\"time\":1597855031684,\"isBuyerMaker\":true,\"isBestMatch\":true},{\"id\":9,\"price\":\"414.15000000\",\"qty\":\"0.02080000\",\"quoteQty\":\"8.61432000\",\"time\":1597855138427,\"isBuyerMaker\":true,\"isBestMatch\":true},{\"id\":10,\"price\":\"411.25000000\",\"qty\":\"0.00661000\",\"quoteQty\":\"2.71836250\",\"time\":1597855138427,\"isBuyerMaker\":true,\"isBestMatch\":true},{\"id\":11,\"price\":\"411.25000000\",\"qty\":\"0.02755000\",\"quoteQty\":\"11.32993750\",\"time\":1597855256449,\"isBuyerMaker\":true,\"isBestMatch\":true},{\"id\":12,\"price\":\"411.25000000\",\"qty\":\"0.20669000\",\"quoteQty\":\"85.00126250\",\"time\":1597857373453,\"isBuyerMaker\":true,\"isBestMatch\":true},{\"id\":13,\"price\":\"407.40000000\",\"qty\":\"1.00000000\",\"quoteQty\":\"407.40000000\",\"time\":1598226077748,\"isBuyerMaker\":false,\"isBestMatch\":true},{\"id\":14,\"price\":\"407.40000000\",\"qty\":\"1.00000000\",\"quoteQty\":\"407.40000000\",\"time\":1598226143460,\"isBuyerMaker\":false,\"isBestMatch\":true},{\"id\":15,\"price\":\"407.40000000\",\"qty\":\"1.00000000\",\"quoteQty\":\"407.40000000\",\"time\":1598226366292,\"isBuyerMaker\":false,\"isBestMatch\":true},{\"id\":16,\"price\":\"407.40000000\",\"qty\":\"1.00000000\",\"quoteQty\":\"407.40000000\",\"time\":1598227440986,\"isBuyerMaker\":false,\"isBestMatch\":true},{\"id\":17,\"price\":\"407.40000000\",\"qty\":\"1.00000000\",\"quoteQty\":\"407.40000000\",\"time\":1598319334238,\"isBuyerMaker\":false,\"isBestMatch\":true},{\"id\":18,\"price\":\"407.40000000\",\"qty\":\"1.00000000\",\"quoteQty\":\"407.40000000\",\"time\":1598320124837,\"isBuyerMaker\":false,\"isBestMatch\":true},{\"id\":19,\"price\":\"407.40000000\",\"qty\":\"1.00000000\",\"quoteQty\":\"407.40000000\",\"time\":1598334907681,\"isBuyerMaker\":false,\"isBestMatch\":true},{\"id\":20,\"price\":\"407.40000000\",\"qty\":\"1.00000000\",\"quoteQty\":\"407.40000000\",\"time\":1598335482958,\"isBuyerMaker\":false,\"isBestMatch\":true},{\"id\":21,\"price\":\"407.40000000\",\"qty\":\"2.90311000\",\"quoteQty\":\"1182.72701400\",\"time\":1598338676518,\"isBuyerMaker\":false,\"isBestMatch\":true}]'\n"
     ]
    },
    {
     "data": {
      "text/plain": [
       "[{'id': 0,\n",
       "  'price': '386.26000000',\n",
       "  'qty': '1.00000000',\n",
       "  'quoteQty': '386.26000000',\n",
       "  'time': 1596440526404,\n",
       "  'isBuyerMaker': True,\n",
       "  'isBestMatch': True},\n",
       " {'id': 1,\n",
       "  'price': '414.15000000',\n",
       "  'qty': '0.02714000',\n",
       "  'quoteQty': '11.24003100',\n",
       "  'time': 1597851105665,\n",
       "  'isBuyerMaker': True,\n",
       "  'isBestMatch': True},\n",
       " {'id': 2,\n",
       "  'price': '414.15000000',\n",
       "  'qty': '0.02729000',\n",
       "  'quoteQty': '11.30215350',\n",
       "  'time': 1597854349295,\n",
       "  'isBuyerMaker': True,\n",
       "  'isBestMatch': True},\n",
       " {'id': 3,\n",
       "  'price': '414.15000000',\n",
       "  'qty': '0.02733000',\n",
       "  'quoteQty': '11.31871950',\n",
       "  'time': 1597854483275,\n",
       "  'isBuyerMaker': True,\n",
       "  'isBestMatch': True},\n",
       " {'id': 4,\n",
       "  'price': '414.15000000',\n",
       "  'qty': '0.02733000',\n",
       "  'quoteQty': '11.31871950',\n",
       "  'time': 1597854687743,\n",
       "  'isBuyerMaker': True,\n",
       "  'isBestMatch': True},\n",
       " {'id': 5,\n",
       "  'price': '414.15000000',\n",
       "  'qty': '0.02733000',\n",
       "  'quoteQty': '11.31871950',\n",
       "  'time': 1597854803719,\n",
       "  'isBuyerMaker': True,\n",
       "  'isBestMatch': True},\n",
       " {'id': 6,\n",
       "  'price': '414.15000000',\n",
       "  'qty': '0.02738000',\n",
       "  'quoteQty': '11.33942700',\n",
       "  'time': 1597854865008,\n",
       "  'isBuyerMaker': True,\n",
       "  'isBestMatch': True},\n",
       " {'id': 7,\n",
       "  'price': '414.15000000',\n",
       "  'qty': '0.02738000',\n",
       "  'quoteQty': '11.33942700',\n",
       "  'time': 1597854929976,\n",
       "  'isBuyerMaker': True,\n",
       "  'isBestMatch': True},\n",
       " {'id': 8,\n",
       "  'price': '414.15000000',\n",
       "  'qty': '0.02739000',\n",
       "  'quoteQty': '11.34356850',\n",
       "  'time': 1597855031684,\n",
       "  'isBuyerMaker': True,\n",
       "  'isBestMatch': True},\n",
       " {'id': 9,\n",
       "  'price': '414.15000000',\n",
       "  'qty': '0.02080000',\n",
       "  'quoteQty': '8.61432000',\n",
       "  'time': 1597855138427,\n",
       "  'isBuyerMaker': True,\n",
       "  'isBestMatch': True},\n",
       " {'id': 10,\n",
       "  'price': '411.25000000',\n",
       "  'qty': '0.00661000',\n",
       "  'quoteQty': '2.71836250',\n",
       "  'time': 1597855138427,\n",
       "  'isBuyerMaker': True,\n",
       "  'isBestMatch': True},\n",
       " {'id': 11,\n",
       "  'price': '411.25000000',\n",
       "  'qty': '0.02755000',\n",
       "  'quoteQty': '11.32993750',\n",
       "  'time': 1597855256449,\n",
       "  'isBuyerMaker': True,\n",
       "  'isBestMatch': True},\n",
       " {'id': 12,\n",
       "  'price': '411.25000000',\n",
       "  'qty': '0.20669000',\n",
       "  'quoteQty': '85.00126250',\n",
       "  'time': 1597857373453,\n",
       "  'isBuyerMaker': True,\n",
       "  'isBestMatch': True},\n",
       " {'id': 13,\n",
       "  'price': '407.40000000',\n",
       "  'qty': '1.00000000',\n",
       "  'quoteQty': '407.40000000',\n",
       "  'time': 1598226077748,\n",
       "  'isBuyerMaker': False,\n",
       "  'isBestMatch': True},\n",
       " {'id': 14,\n",
       "  'price': '407.40000000',\n",
       "  'qty': '1.00000000',\n",
       "  'quoteQty': '407.40000000',\n",
       "  'time': 1598226143460,\n",
       "  'isBuyerMaker': False,\n",
       "  'isBestMatch': True},\n",
       " {'id': 15,\n",
       "  'price': '407.40000000',\n",
       "  'qty': '1.00000000',\n",
       "  'quoteQty': '407.40000000',\n",
       "  'time': 1598226366292,\n",
       "  'isBuyerMaker': False,\n",
       "  'isBestMatch': True},\n",
       " {'id': 16,\n",
       "  'price': '407.40000000',\n",
       "  'qty': '1.00000000',\n",
       "  'quoteQty': '407.40000000',\n",
       "  'time': 1598227440986,\n",
       "  'isBuyerMaker': False,\n",
       "  'isBestMatch': True},\n",
       " {'id': 17,\n",
       "  'price': '407.40000000',\n",
       "  'qty': '1.00000000',\n",
       "  'quoteQty': '407.40000000',\n",
       "  'time': 1598319334238,\n",
       "  'isBuyerMaker': False,\n",
       "  'isBestMatch': True},\n",
       " {'id': 18,\n",
       "  'price': '407.40000000',\n",
       "  'qty': '1.00000000',\n",
       "  'quoteQty': '407.40000000',\n",
       "  'time': 1598320124837,\n",
       "  'isBuyerMaker': False,\n",
       "  'isBestMatch': True},\n",
       " {'id': 19,\n",
       "  'price': '407.40000000',\n",
       "  'qty': '1.00000000',\n",
       "  'quoteQty': '407.40000000',\n",
       "  'time': 1598334907681,\n",
       "  'isBuyerMaker': False,\n",
       "  'isBestMatch': True},\n",
       " {'id': 20,\n",
       "  'price': '407.40000000',\n",
       "  'qty': '1.00000000',\n",
       "  'quoteQty': '407.40000000',\n",
       "  'time': 1598335482958,\n",
       "  'isBuyerMaker': False,\n",
       "  'isBestMatch': True},\n",
       " {'id': 21,\n",
       "  'price': '407.40000000',\n",
       "  'qty': '2.90311000',\n",
       "  'quoteQty': '1182.72701400',\n",
       "  'time': 1598338676518,\n",
       "  'isBuyerMaker': False,\n",
       "  'isBestMatch': True}]"
      ]
     },
     "execution_count": 47,
     "metadata": {},
     "output_type": "execute_result"
    }
   ],
   "source": [
    "#check recent trades to see if trade went through\n",
    "recent_trades = json.loads((check_recent_trades()).decode('utf-8'))\n",
    "recent_trades"
   ]
  },
  {
   "cell_type": "code",
   "execution_count": 48,
   "metadata": {},
   "outputs": [
    {
     "name": "stdout",
     "output_type": "stream",
     "text": [
      "b'<!DOCTYPE html>\\n<html lang=\"en\">\\n<head>\\n    <title>Binance Spot Test Network</title>\\n    <link rel=\"shortcut icon\" type=\"image/x-icon\" href=\"/static/images/common/favicon.ico\"/>\\n    <style>\\nhtml {\\n    margin: 0;\\n}\\n\\nbody {\\n    display: flex;\\n    flex-direction: column;\\n    margin: 0;\\n    padding: 0;\\n    min-height: 100vh;\\n    font-family: BinancePlex, Arial, PingFangSC-Regular, \\'Microsoft YaHei\\', sans-serif !important;\\n}\\n\\n#header {\\n    height: 64px;\\n    background-color: #12161C;\\n    margin: 0;\\n    padding: 0;\\n}\\n\\n#body {\\n    display: flex;\\n    flex: 1;\\n    margin: 0;\\n    padding: 0;\\n}\\n\\n#content {\\n    width: 800px;\\n    margin-left: auto;\\n    margin-right: auto;\\n    line-height: 26px;\\n}\\n\\n#footer {\\n    background-color: #12161C;\\n    font-size: 12px;\\n    line-height: 16px;\\n    color: #76808F;\\n    text-align: center;\\n    margin-top: 20px;\\n    margin-bottom: 0;\\n    margin-left: 0;\\n    margin-right: 0;\\n    padding: 12px;\\n}\\n\\n#logo {\\n    position: absolute;\\n    width: 120px;\\n    height: 24px;\\n    margin-right: 16px;\\n    margin-left: 24px;\\n    margin-top: 18px;\\n    fill: #F0B90B;\\n}\\n\\n#title {\\n    position: absolute;\\n    margin-right: 16px;\\n    margin-left: 180px;\\n    margin-top: 12px;\\n    color: white;\\n    font-size: 24px;\\n}\\n\\n#login-state {\\n    position: absolute;\\n    top: 21px;\\n    right: 110px;\\n    color: white;\\n}\\n\\n#logout {\\n    position: absolute;\\n    top: 18px;\\n    right: 25px;\\n    color: white;\\n}\\n\\na {\\n    text-decoration: none;\\n    color: #1890ff;\\n}\\n\\na:hover {\\n    color: #40a9ff;\\n}\\n\\n.block {\\n    margin-bottom: 50px;\\n}\\n\\ncode {\\n    font-family: Consolas, Menlo, Monaco, \"Lucida Console\", \"Liberation Mono\", \"DejaVu Sans Mono\", \"Bitstream Vera Sans Mono\", \"Courier New\", monospace, serif;\\n    font-size: 12px;\\n    background-color: #f3f3f3;\\n    line-height: 18px;\\n    padding: 3px;\\n}\\n\\npre {\\n    display: inline-block;\\n    padding: 10px;\\n    font-family: Consolas, Menlo, Monaco, \"Lucida Console\", \"Liberation Mono\", \"DejaVu Sans Mono\", \"Bitstream Vera Sans Mono\", \"Courier New\", monospace, serif;\\n    font-size: 12px;\\n    background-color: #f3f3f3 !important;\\n    line-height: 18px;\\n}\\n\\ninput[type=\\'text\\'] {\\n    border: 1px solid gray;\\n    font-size: 18px;\\n    padding: 5px 10px;\\n}\\n\\ninput[type=\\'submit\\'] {\\n    border: none;\\n    background: #F0B90B;\\n    border-radius: 4px;\\n    padding: 4px 8px;\\n    font-size: 16px;\\n    font-weight: bold;\\n    cursor: pointer;\\n}\\n\\ntable {\\n    width: 100%;\\n    border: 0;\\n}\\n\\nthead {\\n    font-size: 14px;\\n    color: rgb(132, 142, 156);\\n    text-align: left;\\n}\\n\\ntbody tr:hover {\\n    background: #f0f0f0;\\n}\\n\\nth {\\n    margin: 0;\\n    padding: 5px 10px;\\n    border: none;\\n}\\n\\ntd {\\n    margin: 0;\\n    padding: 5px 10px;\\n    border-top: 1px solid #f2f2f2;\\n    border-bottom: none;\\n    border-left: none;\\n    border-right: none;\\n}\\n\\ntd.key-type {\\n    font-family: \"Lucida Console\", Monaco, monospace;\\n}\\n\\ntd.key-permissions {\\n    font-family: \"Lucida Console\", Monaco, monospace;\\n    font-size: 12px;\\n}\\n\\ntextarea {\\n    resize: none;\\n    font-family: \"Lucida Console\", Monaco, monospace;\\n    font-size: 12px;\\n    width: 100%;\\n}\\n\\n.error {\\n    color: red;\\n    font-size: 20px;\\n    font-weight: bold;\\n}\\n\\n.note {\\n    font-size: 12px;\\n}\\n\\n.back {\\n    margin-top: 40px;\\n}\\n\\nhr {\\n    border-top: 1px solid #e0e0e0;\\n    border-bottom: 0;\\n    border-left: 0;\\n    border-right: 0;\\n}\\n    </style>\\n    <link href=\"/static/fonts/index.min.css\" rel=\"stylesheet\" type=\"text/css\">\\n</head>\\n<body>\\n    <header id=\"header\">\\n        <a href=\"/\">\\n            <svg id=\"logo\" viewBox=\"0 0 5120 1024\"><path d=\"M230.997333 512L116.053333 626.986667 0 512l116.010667-116.010667L230.997333 512zM512 230.997333l197.973333 197.973334 116.053334-115.968L512 0 197.973333 314.026667l116.053334 115.968L512 230.997333z m395.989333 164.992L793.002667 512l116.010666 116.010667L1024.981333 512l-116.992-116.010667zM512 793.002667l-197.973333-198.997334-116.053334 116.010667L512 1024l314.026667-314.026667-116.053334-115.968L512 793.002667z m0-165.973334l116.010667-116.053333L512 396.032 395.989333 512 512 626.986667z m1220.010667 11.946667v-1.962667c0-75.008-40.021333-113.024-105.002667-138.026666 39.978667-21.973333 73.984-58.026667 73.984-121.002667v-1.962667c0-88.021333-70.997333-145.024-185.002667-145.024h-260.992v561.024h267.008c126.976 0.981333 210.005333-51.029333 210.005334-153.002666z m-154.026667-239.957333c0 41.984-34.005333 58.965333-89.002667 58.965333h-113.962666V338.986667h121.984c52.010667 0 80.981333 20.992 80.981333 58.026666v2.005334z m31.018667 224c0 41.984-32.981333 61.013333-87.04 61.013333h-146.944v-123.050667h142.976c63.018667 0 91.008 23.04 91.008 61.013334v1.024z m381.994666 169.984V230.997333h-123.989333v561.024h123.989333v0.981334z m664.021334 0V230.997333h-122.026667v346.026667l-262.997333-346.026667h-114.005334v561.024h122.026667v-356.010666l272 356.992h104.96z m683.946666 0L3098.026667 228.010667h-113.962667l-241.024 564.992h127.018667l50.986666-125.994667h237.013334l50.986666 125.994667h130.005334z m-224.981333-235.008h-148.992l75.008-181.973334 73.984 181.973334z m814.037333 235.008V230.997333h-122.026666v346.026667l-262.997334-346.026667h-114.005333v561.024h122.026667v-356.010666l272 356.992h104.96z m636.970667-91.008l-78.976-78.976c-44.032 39.978667-83.029333 65.962667-148.010667 65.962666-96 0-162.986667-80-162.986666-176v-2.986666c0-96 67.968-174.976 162.986666-174.976 55.978667 0 100.010667 23.978667 144 62.976l78.976-91.008c-51.968-50.986667-114.986667-86.997333-220.970666-86.997334-171.989333 0-292.992 130.986667-292.992 290.005334V512c0 160.981333 122.965333 288.981333 288 288.981333 107.989333 1.024 171.989333-36.992 229.973333-98.986666z m527.018667 91.008v-109.994667h-305.024v-118.016h265.002666v-109.994667h-265.002666V340.992h301.013333V230.997333h-422.997333v561.024h427.008v0.981334z\"></path></svg>\\n        </a>\\n        <div id=\"title\">Spot Test Network</div>\\n        \\n    </header>\\n    <div id=\"body\">\\n        <main id=\"content\">\\n            \\n    <div class=\"block\">\\n        <h2>\\n            Something bad happened :(\\n        </h2>\\n    </div>\\n\\n    <div class=\"back\">\\n        <a href=\"/\">Back</a>\\n    </div>\\n\\n        </main>\\n    </div>\\n    <footer id=\"footer\">\\n        <a href=\"/terms\">Terms</a>\\n        |\\n        <a href=\"/privacy\">Privacy</a>\\n        |\\n        &copy; 2017 - 2020 Binance.com. All rights reserved\\n    </footer>\\n</body>\\n</html>\\n<!-- request_id:  -->'\n"
     ]
    },
    {
     "data": {
      "text/plain": [
       "b'<!DOCTYPE html>\\n<html lang=\"en\">\\n<head>\\n    <title>Binance Spot Test Network</title>\\n    <link rel=\"shortcut icon\" type=\"image/x-icon\" href=\"/static/images/common/favicon.ico\"/>\\n    <style>\\nhtml {\\n    margin: 0;\\n}\\n\\nbody {\\n    display: flex;\\n    flex-direction: column;\\n    margin: 0;\\n    padding: 0;\\n    min-height: 100vh;\\n    font-family: BinancePlex, Arial, PingFangSC-Regular, \\'Microsoft YaHei\\', sans-serif !important;\\n}\\n\\n#header {\\n    height: 64px;\\n    background-color: #12161C;\\n    margin: 0;\\n    padding: 0;\\n}\\n\\n#body {\\n    display: flex;\\n    flex: 1;\\n    margin: 0;\\n    padding: 0;\\n}\\n\\n#content {\\n    width: 800px;\\n    margin-left: auto;\\n    margin-right: auto;\\n    line-height: 26px;\\n}\\n\\n#footer {\\n    background-color: #12161C;\\n    font-size: 12px;\\n    line-height: 16px;\\n    color: #76808F;\\n    text-align: center;\\n    margin-top: 20px;\\n    margin-bottom: 0;\\n    margin-left: 0;\\n    margin-right: 0;\\n    padding: 12px;\\n}\\n\\n#logo {\\n    position: absolute;\\n    width: 120px;\\n    height: 24px;\\n    margin-right: 16px;\\n    margin-left: 24px;\\n    margin-top: 18px;\\n    fill: #F0B90B;\\n}\\n\\n#title {\\n    position: absolute;\\n    margin-right: 16px;\\n    margin-left: 180px;\\n    margin-top: 12px;\\n    color: white;\\n    font-size: 24px;\\n}\\n\\n#login-state {\\n    position: absolute;\\n    top: 21px;\\n    right: 110px;\\n    color: white;\\n}\\n\\n#logout {\\n    position: absolute;\\n    top: 18px;\\n    right: 25px;\\n    color: white;\\n}\\n\\na {\\n    text-decoration: none;\\n    color: #1890ff;\\n}\\n\\na:hover {\\n    color: #40a9ff;\\n}\\n\\n.block {\\n    margin-bottom: 50px;\\n}\\n\\ncode {\\n    font-family: Consolas, Menlo, Monaco, \"Lucida Console\", \"Liberation Mono\", \"DejaVu Sans Mono\", \"Bitstream Vera Sans Mono\", \"Courier New\", monospace, serif;\\n    font-size: 12px;\\n    background-color: #f3f3f3;\\n    line-height: 18px;\\n    padding: 3px;\\n}\\n\\npre {\\n    display: inline-block;\\n    padding: 10px;\\n    font-family: Consolas, Menlo, Monaco, \"Lucida Console\", \"Liberation Mono\", \"DejaVu Sans Mono\", \"Bitstream Vera Sans Mono\", \"Courier New\", monospace, serif;\\n    font-size: 12px;\\n    background-color: #f3f3f3 !important;\\n    line-height: 18px;\\n}\\n\\ninput[type=\\'text\\'] {\\n    border: 1px solid gray;\\n    font-size: 18px;\\n    padding: 5px 10px;\\n}\\n\\ninput[type=\\'submit\\'] {\\n    border: none;\\n    background: #F0B90B;\\n    border-radius: 4px;\\n    padding: 4px 8px;\\n    font-size: 16px;\\n    font-weight: bold;\\n    cursor: pointer;\\n}\\n\\ntable {\\n    width: 100%;\\n    border: 0;\\n}\\n\\nthead {\\n    font-size: 14px;\\n    color: rgb(132, 142, 156);\\n    text-align: left;\\n}\\n\\ntbody tr:hover {\\n    background: #f0f0f0;\\n}\\n\\nth {\\n    margin: 0;\\n    padding: 5px 10px;\\n    border: none;\\n}\\n\\ntd {\\n    margin: 0;\\n    padding: 5px 10px;\\n    border-top: 1px solid #f2f2f2;\\n    border-bottom: none;\\n    border-left: none;\\n    border-right: none;\\n}\\n\\ntd.key-type {\\n    font-family: \"Lucida Console\", Monaco, monospace;\\n}\\n\\ntd.key-permissions {\\n    font-family: \"Lucida Console\", Monaco, monospace;\\n    font-size: 12px;\\n}\\n\\ntextarea {\\n    resize: none;\\n    font-family: \"Lucida Console\", Monaco, monospace;\\n    font-size: 12px;\\n    width: 100%;\\n}\\n\\n.error {\\n    color: red;\\n    font-size: 20px;\\n    font-weight: bold;\\n}\\n\\n.note {\\n    font-size: 12px;\\n}\\n\\n.back {\\n    margin-top: 40px;\\n}\\n\\nhr {\\n    border-top: 1px solid #e0e0e0;\\n    border-bottom: 0;\\n    border-left: 0;\\n    border-right: 0;\\n}\\n    </style>\\n    <link href=\"/static/fonts/index.min.css\" rel=\"stylesheet\" type=\"text/css\">\\n</head>\\n<body>\\n    <header id=\"header\">\\n        <a href=\"/\">\\n            <svg id=\"logo\" viewBox=\"0 0 5120 1024\"><path d=\"M230.997333 512L116.053333 626.986667 0 512l116.010667-116.010667L230.997333 512zM512 230.997333l197.973333 197.973334 116.053334-115.968L512 0 197.973333 314.026667l116.053334 115.968L512 230.997333z m395.989333 164.992L793.002667 512l116.010666 116.010667L1024.981333 512l-116.992-116.010667zM512 793.002667l-197.973333-198.997334-116.053334 116.010667L512 1024l314.026667-314.026667-116.053334-115.968L512 793.002667z m0-165.973334l116.010667-116.053333L512 396.032 395.989333 512 512 626.986667z m1220.010667 11.946667v-1.962667c0-75.008-40.021333-113.024-105.002667-138.026666 39.978667-21.973333 73.984-58.026667 73.984-121.002667v-1.962667c0-88.021333-70.997333-145.024-185.002667-145.024h-260.992v561.024h267.008c126.976 0.981333 210.005333-51.029333 210.005334-153.002666z m-154.026667-239.957333c0 41.984-34.005333 58.965333-89.002667 58.965333h-113.962666V338.986667h121.984c52.010667 0 80.981333 20.992 80.981333 58.026666v2.005334z m31.018667 224c0 41.984-32.981333 61.013333-87.04 61.013333h-146.944v-123.050667h142.976c63.018667 0 91.008 23.04 91.008 61.013334v1.024z m381.994666 169.984V230.997333h-123.989333v561.024h123.989333v0.981334z m664.021334 0V230.997333h-122.026667v346.026667l-262.997333-346.026667h-114.005334v561.024h122.026667v-356.010666l272 356.992h104.96z m683.946666 0L3098.026667 228.010667h-113.962667l-241.024 564.992h127.018667l50.986666-125.994667h237.013334l50.986666 125.994667h130.005334z m-224.981333-235.008h-148.992l75.008-181.973334 73.984 181.973334z m814.037333 235.008V230.997333h-122.026666v346.026667l-262.997334-346.026667h-114.005333v561.024h122.026667v-356.010666l272 356.992h104.96z m636.970667-91.008l-78.976-78.976c-44.032 39.978667-83.029333 65.962667-148.010667 65.962666-96 0-162.986667-80-162.986666-176v-2.986666c0-96 67.968-174.976 162.986666-174.976 55.978667 0 100.010667 23.978667 144 62.976l78.976-91.008c-51.968-50.986667-114.986667-86.997333-220.970666-86.997334-171.989333 0-292.992 130.986667-292.992 290.005334V512c0 160.981333 122.965333 288.981333 288 288.981333 107.989333 1.024 171.989333-36.992 229.973333-98.986666z m527.018667 91.008v-109.994667h-305.024v-118.016h265.002666v-109.994667h-265.002666V340.992h301.013333V230.997333h-422.997333v561.024h427.008v0.981334z\"></path></svg>\\n        </a>\\n        <div id=\"title\">Spot Test Network</div>\\n        \\n    </header>\\n    <div id=\"body\">\\n        <main id=\"content\">\\n            \\n    <div class=\"block\">\\n        <h2>\\n            Something bad happened :(\\n        </h2>\\n    </div>\\n\\n    <div class=\"back\">\\n        <a href=\"/\">Back</a>\\n    </div>\\n\\n        </main>\\n    </div>\\n    <footer id=\"footer\">\\n        <a href=\"/terms\">Terms</a>\\n        |\\n        <a href=\"/privacy\">Privacy</a>\\n        |\\n        &copy; 2017 - 2020 Binance.com. All rights reserved\\n    </footer>\\n</body>\\n</html>\\n<!-- request_id:  -->'"
      ]
     },
     "execution_count": 48,
     "metadata": {},
     "output_type": "execute_result"
    }
   ],
   "source": [
    "#After checking the balance we send the ether to the account address of our profitsplitter.\n",
    "#The profitsplitter should automatically divide the profits and send ether to each team member's wallet.\n",
    "\n",
    "quantity = 7\n",
    "#profit splitter address deployed on the Ropsten test network\n",
    "address = '0xf7748a5b4B867293FeC8ec0c3d3f2dCAc29d7a2e'\n",
    "\n",
    "#Note: This withdraw function will not work on the testnet but should work on the live binance api\n",
    "withdraw(quantity)\n",
    "\n"
   ]
  },
  {
   "cell_type": "code",
   "execution_count": 49,
   "metadata": {},
   "outputs": [
    {
     "name": "stdout",
     "output_type": "stream",
     "text": [
      "This is your account information and current holdings\n"
     ]
    },
    {
     "data": {
      "text/plain": [
       "{'makerCommission': 0,\n",
       " 'takerCommission': 0,\n",
       " 'buyerCommission': 0,\n",
       " 'sellerCommission': 0,\n",
       " 'canTrade': True,\n",
       " 'canWithdraw': False,\n",
       " 'canDeposit': False,\n",
       " 'updateTime': 1598383158268,\n",
       " 'accountType': 'SPOT',\n",
       " 'balances': [{'asset': 'BNB',\n",
       "   'free': '1000.00000000',\n",
       "   'locked': '0.00000000'},\n",
       "  {'asset': 'BTC', 'free': '0.99000000', 'locked': '0.00000000'},\n",
       "  {'asset': 'BUSD', 'free': '5558.07298600', 'locked': '0.00000000'},\n",
       "  {'asset': 'ETH', 'free': '110.90311000', 'locked': '0.00000000'},\n",
       "  {'asset': 'LTC', 'free': '500.00000000', 'locked': '0.00000000'},\n",
       "  {'asset': 'TRX', 'free': '500000.00000000', 'locked': '0.00000000'},\n",
       "  {'asset': 'USDT', 'free': '10400.00000000', 'locked': '0.00000000'},\n",
       "  {'asset': 'XRP', 'free': '50000.00000000', 'locked': '0.00000000'}],\n",
       " 'permissions': ['SPOT']}"
      ]
     },
     "execution_count": 49,
     "metadata": {},
     "output_type": "execute_result"
    }
   ],
   "source": [
    "#Then we check account holdings again to make sure the withdrawal was completed.\n",
    "holdings = get_account_holdings()\n",
    "\n",
    "#convert bytes object to string\n",
    "holdings = holdings.decode(\"utf-8\") \n",
    "    \n",
    "#convert str to json\n",
    "print(f\"This is your account information and current holdings\")\n",
    "holdings = json.loads(holdings)\n",
    "holdings"
   ]
  },
  {
   "cell_type": "code",
   "execution_count": 51,
   "metadata": {},
   "outputs": [
    {
     "name": "stderr",
     "output_type": "stream",
     "text": [
      "Python-dotenv could not parse statement starting at line 11\n",
      "Python-dotenv could not parse statement starting at line 15\n"
     ]
    },
    {
     "ename": "Error",
     "evalue": "Non-hexadecimal digit found",
     "output_type": "error",
     "traceback": [
      "\u001b[1;31m---------------------------------------------------------------------------\u001b[0m",
      "\u001b[1;31mError\u001b[0m                                     Traceback (most recent call last)",
      "\u001b[1;32m<ipython-input-51-c2ecf57df607>\u001b[0m in \u001b[0;36m<module>\u001b[1;34m\u001b[0m\n\u001b[0;32m     19\u001b[0m \u001b[1;33m\u001b[0m\u001b[0m\n\u001b[0;32m     20\u001b[0m \u001b[1;33m\u001b[0m\u001b[0m\n\u001b[1;32m---> 21\u001b[1;33m \u001b[0maccount_one\u001b[0m \u001b[1;33m=\u001b[0m \u001b[0mAccount\u001b[0m\u001b[1;33m.\u001b[0m\u001b[0mfrom_key\u001b[0m\u001b[1;33m(\u001b[0m\u001b[1;34m\"secret_key\"\u001b[0m\u001b[1;33m)\u001b[0m\u001b[1;33m\u001b[0m\u001b[1;33m\u001b[0m\u001b[0m\n\u001b[0m\u001b[0;32m     22\u001b[0m \u001b[1;33m\u001b[0m\u001b[0m\n\u001b[0;32m     23\u001b[0m \u001b[1;33m\u001b[0m\u001b[0m\n",
      "\u001b[1;32m~\\anaconda3\\lib\\site-packages\\eth_utils\\decorators.py\u001b[0m in \u001b[0;36m_wrapper\u001b[1;34m(*args, **kwargs)\u001b[0m\n\u001b[0;32m     18\u001b[0m                 \u001b[1;32mreturn\u001b[0m \u001b[0mself\u001b[0m\u001b[1;33m.\u001b[0m\u001b[0mmethod\u001b[0m\u001b[1;33m(\u001b[0m\u001b[0mobj\u001b[0m\u001b[1;33m,\u001b[0m \u001b[1;33m*\u001b[0m\u001b[0margs\u001b[0m\u001b[1;33m,\u001b[0m \u001b[1;33m**\u001b[0m\u001b[0mkwargs\u001b[0m\u001b[1;33m)\u001b[0m\u001b[1;33m\u001b[0m\u001b[1;33m\u001b[0m\u001b[0m\n\u001b[0;32m     19\u001b[0m             \u001b[1;32melse\u001b[0m\u001b[1;33m:\u001b[0m\u001b[1;33m\u001b[0m\u001b[1;33m\u001b[0m\u001b[0m\n\u001b[1;32m---> 20\u001b[1;33m                 \u001b[1;32mreturn\u001b[0m \u001b[0mself\u001b[0m\u001b[1;33m.\u001b[0m\u001b[0mmethod\u001b[0m\u001b[1;33m(\u001b[0m\u001b[0mobjtype\u001b[0m\u001b[1;33m,\u001b[0m \u001b[1;33m*\u001b[0m\u001b[0margs\u001b[0m\u001b[1;33m,\u001b[0m \u001b[1;33m**\u001b[0m\u001b[0mkwargs\u001b[0m\u001b[1;33m)\u001b[0m\u001b[1;33m\u001b[0m\u001b[1;33m\u001b[0m\u001b[0m\n\u001b[0m\u001b[0;32m     21\u001b[0m \u001b[1;33m\u001b[0m\u001b[0m\n\u001b[0;32m     22\u001b[0m         \u001b[1;32mreturn\u001b[0m \u001b[0m_wrapper\u001b[0m\u001b[1;33m\u001b[0m\u001b[1;33m\u001b[0m\u001b[0m\n",
      "\u001b[1;32m~\\anaconda3\\lib\\site-packages\\eth_account\\account.py\u001b[0m in \u001b[0;36mfrom_key\u001b[1;34m(self, private_key)\u001b[0m\n\u001b[0;32m    244\u001b[0m             \u001b[1;31m# but without the private key argument\u001b[0m\u001b[1;33m\u001b[0m\u001b[1;33m\u001b[0m\u001b[1;33m\u001b[0m\u001b[0m\n\u001b[0;32m    245\u001b[0m         \"\"\"\n\u001b[1;32m--> 246\u001b[1;33m         \u001b[0mkey\u001b[0m \u001b[1;33m=\u001b[0m \u001b[0mself\u001b[0m\u001b[1;33m.\u001b[0m\u001b[0m_parsePrivateKey\u001b[0m\u001b[1;33m(\u001b[0m\u001b[0mprivate_key\u001b[0m\u001b[1;33m)\u001b[0m\u001b[1;33m\u001b[0m\u001b[1;33m\u001b[0m\u001b[0m\n\u001b[0m\u001b[0;32m    247\u001b[0m         \u001b[1;32mreturn\u001b[0m \u001b[0mLocalAccount\u001b[0m\u001b[1;33m(\u001b[0m\u001b[0mkey\u001b[0m\u001b[1;33m,\u001b[0m \u001b[0mself\u001b[0m\u001b[1;33m)\u001b[0m\u001b[1;33m\u001b[0m\u001b[1;33m\u001b[0m\u001b[0m\n\u001b[0;32m    248\u001b[0m \u001b[1;33m\u001b[0m\u001b[0m\n",
      "\u001b[1;32m~\\anaconda3\\lib\\site-packages\\eth_utils\\decorators.py\u001b[0m in \u001b[0;36m_wrapper\u001b[1;34m(*args, **kwargs)\u001b[0m\n\u001b[0;32m     18\u001b[0m                 \u001b[1;32mreturn\u001b[0m \u001b[0mself\u001b[0m\u001b[1;33m.\u001b[0m\u001b[0mmethod\u001b[0m\u001b[1;33m(\u001b[0m\u001b[0mobj\u001b[0m\u001b[1;33m,\u001b[0m \u001b[1;33m*\u001b[0m\u001b[0margs\u001b[0m\u001b[1;33m,\u001b[0m \u001b[1;33m**\u001b[0m\u001b[0mkwargs\u001b[0m\u001b[1;33m)\u001b[0m\u001b[1;33m\u001b[0m\u001b[1;33m\u001b[0m\u001b[0m\n\u001b[0;32m     19\u001b[0m             \u001b[1;32melse\u001b[0m\u001b[1;33m:\u001b[0m\u001b[1;33m\u001b[0m\u001b[1;33m\u001b[0m\u001b[0m\n\u001b[1;32m---> 20\u001b[1;33m                 \u001b[1;32mreturn\u001b[0m \u001b[0mself\u001b[0m\u001b[1;33m.\u001b[0m\u001b[0mmethod\u001b[0m\u001b[1;33m(\u001b[0m\u001b[0mobjtype\u001b[0m\u001b[1;33m,\u001b[0m \u001b[1;33m*\u001b[0m\u001b[0margs\u001b[0m\u001b[1;33m,\u001b[0m \u001b[1;33m**\u001b[0m\u001b[0mkwargs\u001b[0m\u001b[1;33m)\u001b[0m\u001b[1;33m\u001b[0m\u001b[1;33m\u001b[0m\u001b[0m\n\u001b[0m\u001b[0;32m     21\u001b[0m \u001b[1;33m\u001b[0m\u001b[0m\n\u001b[0;32m     22\u001b[0m         \u001b[1;32mreturn\u001b[0m \u001b[0m_wrapper\u001b[0m\u001b[1;33m\u001b[0m\u001b[1;33m\u001b[0m\u001b[0m\n",
      "\u001b[1;32m~\\anaconda3\\lib\\site-packages\\eth_account\\account.py\u001b[0m in \u001b[0;36m_parsePrivateKey\u001b[1;34m(self, key)\u001b[0m\n\u001b[0;32m    692\u001b[0m \u001b[1;33m\u001b[0m\u001b[0m\n\u001b[0;32m    693\u001b[0m         \u001b[1;32mtry\u001b[0m\u001b[1;33m:\u001b[0m\u001b[1;33m\u001b[0m\u001b[1;33m\u001b[0m\u001b[0m\n\u001b[1;32m--> 694\u001b[1;33m             \u001b[1;32mreturn\u001b[0m \u001b[0mself\u001b[0m\u001b[1;33m.\u001b[0m\u001b[0m_keys\u001b[0m\u001b[1;33m.\u001b[0m\u001b[0mPrivateKey\u001b[0m\u001b[1;33m(\u001b[0m\u001b[0mHexBytes\u001b[0m\u001b[1;33m(\u001b[0m\u001b[0mkey\u001b[0m\u001b[1;33m)\u001b[0m\u001b[1;33m)\u001b[0m\u001b[1;33m\u001b[0m\u001b[1;33m\u001b[0m\u001b[0m\n\u001b[0m\u001b[0;32m    695\u001b[0m         \u001b[1;32mexcept\u001b[0m \u001b[0mValidationError\u001b[0m \u001b[1;32mas\u001b[0m \u001b[0moriginal_exception\u001b[0m\u001b[1;33m:\u001b[0m\u001b[1;33m\u001b[0m\u001b[1;33m\u001b[0m\u001b[0m\n\u001b[0;32m    696\u001b[0m             raise ValueError(\n",
      "\u001b[1;32m~\\anaconda3\\lib\\site-packages\\hexbytes\\main.py\u001b[0m in \u001b[0;36m__new__\u001b[1;34m(cls, val)\u001b[0m\n\u001b[0;32m     21\u001b[0m     \"\"\"\n\u001b[0;32m     22\u001b[0m     \u001b[1;32mdef\u001b[0m \u001b[0m__new__\u001b[0m\u001b[1;33m(\u001b[0m\u001b[0mcls\u001b[0m\u001b[1;33m:\u001b[0m \u001b[0mType\u001b[0m\u001b[1;33m[\u001b[0m\u001b[0mbytes\u001b[0m\u001b[1;33m]\u001b[0m\u001b[1;33m,\u001b[0m \u001b[0mval\u001b[0m\u001b[1;33m:\u001b[0m \u001b[0mUnion\u001b[0m\u001b[1;33m[\u001b[0m\u001b[0mbool\u001b[0m\u001b[1;33m,\u001b[0m \u001b[0mbytearray\u001b[0m\u001b[1;33m,\u001b[0m \u001b[0mbytes\u001b[0m\u001b[1;33m,\u001b[0m \u001b[0mint\u001b[0m\u001b[1;33m,\u001b[0m \u001b[0mstr\u001b[0m\u001b[1;33m]\u001b[0m\u001b[1;33m)\u001b[0m \u001b[1;33m->\u001b[0m \u001b[1;34m\"HexBytes\"\u001b[0m\u001b[1;33m:\u001b[0m\u001b[1;33m\u001b[0m\u001b[1;33m\u001b[0m\u001b[0m\n\u001b[1;32m---> 23\u001b[1;33m         \u001b[0mbytesval\u001b[0m \u001b[1;33m=\u001b[0m \u001b[0mto_bytes\u001b[0m\u001b[1;33m(\u001b[0m\u001b[0mval\u001b[0m\u001b[1;33m)\u001b[0m\u001b[1;33m\u001b[0m\u001b[1;33m\u001b[0m\u001b[0m\n\u001b[0m\u001b[0;32m     24\u001b[0m         \u001b[1;32mreturn\u001b[0m \u001b[0mcast\u001b[0m\u001b[1;33m(\u001b[0m\u001b[0mHexBytes\u001b[0m\u001b[1;33m,\u001b[0m \u001b[0msuper\u001b[0m\u001b[1;33m(\u001b[0m\u001b[1;33m)\u001b[0m\u001b[1;33m.\u001b[0m\u001b[0m__new__\u001b[0m\u001b[1;33m(\u001b[0m\u001b[0mcls\u001b[0m\u001b[1;33m,\u001b[0m \u001b[0mbytesval\u001b[0m\u001b[1;33m)\u001b[0m\u001b[1;33m)\u001b[0m  \u001b[1;31m# type: ignore  # https://github.com/python/typeshed/issues/2630  # noqa: E501\u001b[0m\u001b[1;33m\u001b[0m\u001b[1;33m\u001b[0m\u001b[0m\n\u001b[0;32m     25\u001b[0m \u001b[1;33m\u001b[0m\u001b[0m\n",
      "\u001b[1;32m~\\anaconda3\\lib\\site-packages\\hexbytes\\_utils.py\u001b[0m in \u001b[0;36mto_bytes\u001b[1;34m(val)\u001b[0m\n\u001b[0;32m     15\u001b[0m         \u001b[1;32mreturn\u001b[0m \u001b[0mval\u001b[0m\u001b[1;33m\u001b[0m\u001b[1;33m\u001b[0m\u001b[0m\n\u001b[0;32m     16\u001b[0m     \u001b[1;32melif\u001b[0m \u001b[0misinstance\u001b[0m\u001b[1;33m(\u001b[0m\u001b[0mval\u001b[0m\u001b[1;33m,\u001b[0m \u001b[0mstr\u001b[0m\u001b[1;33m)\u001b[0m\u001b[1;33m:\u001b[0m\u001b[1;33m\u001b[0m\u001b[1;33m\u001b[0m\u001b[0m\n\u001b[1;32m---> 17\u001b[1;33m         \u001b[1;32mreturn\u001b[0m \u001b[0mhexstr_to_bytes\u001b[0m\u001b[1;33m(\u001b[0m\u001b[0mval\u001b[0m\u001b[1;33m)\u001b[0m\u001b[1;33m\u001b[0m\u001b[1;33m\u001b[0m\u001b[0m\n\u001b[0m\u001b[0;32m     18\u001b[0m     \u001b[1;32melif\u001b[0m \u001b[0misinstance\u001b[0m\u001b[1;33m(\u001b[0m\u001b[0mval\u001b[0m\u001b[1;33m,\u001b[0m \u001b[0mbytearray\u001b[0m\u001b[1;33m)\u001b[0m\u001b[1;33m:\u001b[0m\u001b[1;33m\u001b[0m\u001b[1;33m\u001b[0m\u001b[0m\n\u001b[0;32m     19\u001b[0m         \u001b[1;32mreturn\u001b[0m \u001b[0mbytes\u001b[0m\u001b[1;33m(\u001b[0m\u001b[0mval\u001b[0m\u001b[1;33m)\u001b[0m\u001b[1;33m\u001b[0m\u001b[1;33m\u001b[0m\u001b[0m\n",
      "\u001b[1;32m~\\anaconda3\\lib\\site-packages\\hexbytes\\_utils.py\u001b[0m in \u001b[0;36mhexstr_to_bytes\u001b[1;34m(hexstr)\u001b[0m\n\u001b[0;32m     48\u001b[0m         \u001b[1;32mraise\u001b[0m \u001b[0mValueError\u001b[0m\u001b[1;33m(\u001b[0m\u001b[1;34mf\"hex string {padded_hex} may only contain [0-9a-fA-F] characters\"\u001b[0m\u001b[1;33m)\u001b[0m\u001b[1;33m\u001b[0m\u001b[1;33m\u001b[0m\u001b[0m\n\u001b[0;32m     49\u001b[0m     \u001b[1;32melse\u001b[0m\u001b[1;33m:\u001b[0m\u001b[1;33m\u001b[0m\u001b[1;33m\u001b[0m\u001b[0m\n\u001b[1;32m---> 50\u001b[1;33m         \u001b[1;32mreturn\u001b[0m \u001b[0mbinascii\u001b[0m\u001b[1;33m.\u001b[0m\u001b[0munhexlify\u001b[0m\u001b[1;33m(\u001b[0m\u001b[0mascii_hex\u001b[0m\u001b[1;33m)\u001b[0m\u001b[1;33m\u001b[0m\u001b[1;33m\u001b[0m\u001b[0m\n\u001b[0m",
      "\u001b[1;31mError\u001b[0m: Non-hexadecimal digit found"
     ]
    }
   ],
   "source": [
    "#Since we cannot use the withdraw function to send ether to our profitsplitter we use web3 instead.\n",
    "\n",
    "from web3 import Web3, HTTPProvider\n",
    "import json\n",
    "    \n",
    "from web3 import Web3 \n",
    "# from web3.middleware import geth_poa_middleware\n",
    "from dotenv import load_dotenv\n",
    "from eth_account import Account\n",
    "from pathlib import Path \n",
    "from getpass import getpass\n",
    "load_dotenv()\n",
    "import os\n",
    "\n",
    "w3 = Web3(Web3.HTTPProvider(\"http://127.0.0.1:8545\"))\n",
    "# w3.middleware_onion.inject(geth_poa_middleware, layer=0)\n",
    "\n",
    "private_key = os.getenv(\"private_key\")\n",
    "\n",
    "\n",
    "account_one = Account.from_key(\"secret_key\")\n",
    "\n",
    "\n",
    "def create_raw_tx(account, recipient, amount):\n",
    "    \"\"\"Sets up dict for a transaction\"\"\"\n",
    "\n",
    "    gasEstimate = w3.eth.estimateGas({\n",
    "        \"from\":account.address,\n",
    "        \"to\":recipient,\n",
    "        \"value\":amount\n",
    "    })\n",
    "\n",
    "    return {\n",
    "        \"from\":account.address,\n",
    "        \"to\":recipient,\n",
    "        \"value\":amount,\n",
    "        \"gasPrice\":w3.eth.gasPrice,\n",
    "        \"gas\":gasEstimate,\n",
    "        \"nonce\": w3.eth.getTransactionCount(account.address)\n",
    "        }\n",
    "\n",
    "def send_tx(account, recipient, amount):\n",
    "    \"\"\"Transforms raw_tx and sends on network using w3\"\"\"\n",
    "\n",
    "    tx = create_raw_tx(account, recipient,amount)\n",
    "    signed_tx = account.sign_transaction(tx)\n",
    "    result = w3.eth.sendRawTransaction(signed_tx.rawTransaction)\n",
    "\n",
    "    print(result.hex())\n",
    "    return result.hex()\n",
    "\n",
    "\n",
    "send_tx(account_one, \"0x8AFbDa01e8eb1d90035c4820ae385c365C6E2f96\", int(50*10e-18))\n",
    "\n",
    "print(w3.eth.blockNumber)\n",
    "\n",
    "\n",
    "print(w3.eth.getBalance(\"0x06297Fe891046c0Bfaaf3577259CEc070E66103a\"))\n"
   ]
  },
  {
   "cell_type": "code",
   "execution_count": null,
   "metadata": {},
   "outputs": [],
   "source": []
  },
  {
   "cell_type": "code",
   "execution_count": null,
   "metadata": {},
   "outputs": [],
   "source": []
  },
  {
   "cell_type": "code",
   "execution_count": null,
   "metadata": {},
   "outputs": [],
   "source": []
  },
  {
   "cell_type": "code",
   "execution_count": null,
   "metadata": {},
   "outputs": [],
   "source": []
  },
  {
   "cell_type": "code",
   "execution_count": null,
   "metadata": {},
   "outputs": [],
   "source": [
    "\n"
   ]
  },
  {
   "cell_type": "code",
   "execution_count": null,
   "metadata": {},
   "outputs": [],
   "source": []
  },
  {
   "cell_type": "code",
   "execution_count": null,
   "metadata": {},
   "outputs": [],
   "source": []
  },
  {
   "cell_type": "code",
   "execution_count": null,
   "metadata": {},
   "outputs": [],
   "source": []
  },
  {
   "cell_type": "code",
   "execution_count": null,
   "metadata": {},
   "outputs": [],
   "source": []
  }
 ],
 "metadata": {
  "kernelspec": {
   "display_name": "Python 3",
   "language": "python",
   "name": "python3"
  },
  "language_info": {
   "codemirror_mode": {
    "name": "ipython",
    "version": 3
   },
   "file_extension": ".py",
   "mimetype": "text/x-python",
   "name": "python",
   "nbconvert_exporter": "python",
   "pygments_lexer": "ipython3",
   "version": "3.7.6"
  }
 },
 "nbformat": 4,
 "nbformat_minor": 4
}
