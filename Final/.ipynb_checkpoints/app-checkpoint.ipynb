{
 "cells": [
  {
   "cell_type": "code",
   "execution_count": 70,
   "metadata": {},
   "outputs": [],
   "source": [
    "from alpaca_functions import *\n",
    "import alpaca_functions\n",
    "import stonk_pull \n",
    "import signals\n",
    "import datetime\n",
    "from binance import *\n",
    "import binance\n",
    "import json\n",
    "from datetime import date\n",
    "\n",
    "from time import mktime"
   ]
  },
  {
   "cell_type": "code",
   "execution_count": 71,
   "metadata": {},
   "outputs": [],
   "source": [
    "# This simulates holding a current bank account that can send and receive\n",
    "# money via ACH transfers to and from Alpaca\n",
    "# We are assuming we have 100,000 in the bank and we are sending 100,000 to our alpaca algorithm\n",
    "\n",
    "#We will be using STRIPE as our shared bank account, see stripe.py \n",
    "\n",
    "beginning_deposit = 100000\n",
    "\n",
    "bank_balance = 100000\n",
    "\n",
    "send_to_alpaca_amount = 100000\n",
    "\n",
    "withdraw_from_alpaca_amount = 0\n",
    "\n",
    "binance_balance = 0\n",
    "\n",
    "profits = 0"
   ]
  },
  {
   "cell_type": "code",
   "execution_count": 72,
   "metadata": {},
   "outputs": [
    {
     "name": "stderr",
     "output_type": "stream",
     "text": [
      "C:\\Users\\costa\\desktop\\byte\\rice\\ru-hou-fin-pt-03-2020-u-c\\Project3_Doh\\Final\\stonk_pull.py:16: UserWarning: Make sure your api keys are renamed to fit this function or alter the function to fit your names\n",
      "  warnings.warn('Make sure your api keys are renamed to fit this function or alter the function to fit your names')\n"
     ]
    }
   ],
   "source": [
    "#load alpaca api keys\n",
    "api = stonk_pull.load()\n"
   ]
  },
  {
   "cell_type": "code",
   "execution_count": 73,
   "metadata": {},
   "outputs": [
    {
     "name": "stdout",
     "output_type": "stream",
     "text": [
      "\n",
      "Transfer to alpaca successful. Your bank balance is now 0 dollars\n",
      "\n"
     ]
    },
    {
     "data": {
      "text/plain": [
       "0"
      ]
     },
     "execution_count": 73,
     "metadata": {},
     "output_type": "execute_result"
    }
   ],
   "source": [
    "# Send money to alpaca. This function calculates a new bank balance after we send money to alpaca\n",
    "# In reality this would be an ACH transfer from our bank to alpaca.\n",
    "send_to_alpaca(send_to_alpaca_amount, bank_balance) "
   ]
  },
  {
   "cell_type": "code",
   "execution_count": 74,
   "metadata": {},
   "outputs": [
    {
     "data": {
      "text/html": [
       "<div>\n",
       "<style scoped>\n",
       "    .dataframe tbody tr th:only-of-type {\n",
       "        vertical-align: middle;\n",
       "    }\n",
       "\n",
       "    .dataframe tbody tr th {\n",
       "        vertical-align: top;\n",
       "    }\n",
       "\n",
       "    .dataframe thead th {\n",
       "        text-align: right;\n",
       "    }\n",
       "</style>\n",
       "<table border=\"1\" class=\"dataframe\">\n",
       "  <thead>\n",
       "    <tr style=\"text-align: right;\">\n",
       "      <th></th>\n",
       "      <th>SPY Open</th>\n",
       "      <th>SPY High</th>\n",
       "      <th>SPY Low</th>\n",
       "      <th>SPY Close</th>\n",
       "      <th>SPY Adjusted Close</th>\n",
       "      <th>SPY Volume</th>\n",
       "      <th>SPY Dividend Amount</th>\n",
       "      <th>SPY Split Coefficient</th>\n",
       "    </tr>\n",
       "    <tr>\n",
       "      <th>date</th>\n",
       "      <th></th>\n",
       "      <th></th>\n",
       "      <th></th>\n",
       "      <th></th>\n",
       "      <th></th>\n",
       "      <th></th>\n",
       "      <th></th>\n",
       "      <th></th>\n",
       "    </tr>\n",
       "  </thead>\n",
       "  <tbody>\n",
       "    <tr>\n",
       "      <th>2020-08-21</th>\n",
       "      <td>337.92</td>\n",
       "      <td>339.72</td>\n",
       "      <td>337.5500</td>\n",
       "      <td>339.48</td>\n",
       "      <td>339.48</td>\n",
       "      <td>55106628.0</td>\n",
       "      <td>0.0</td>\n",
       "      <td>1.0</td>\n",
       "    </tr>\n",
       "    <tr>\n",
       "      <th>2020-08-20</th>\n",
       "      <td>335.36</td>\n",
       "      <td>338.80</td>\n",
       "      <td>335.2200</td>\n",
       "      <td>338.28</td>\n",
       "      <td>338.28</td>\n",
       "      <td>42207826.0</td>\n",
       "      <td>0.0</td>\n",
       "      <td>1.0</td>\n",
       "    </tr>\n",
       "    <tr>\n",
       "      <th>2020-08-19</th>\n",
       "      <td>339.05</td>\n",
       "      <td>339.61</td>\n",
       "      <td>336.6200</td>\n",
       "      <td>337.23</td>\n",
       "      <td>337.23</td>\n",
       "      <td>68054244.0</td>\n",
       "      <td>0.0</td>\n",
       "      <td>1.0</td>\n",
       "    </tr>\n",
       "    <tr>\n",
       "      <th>2020-08-18</th>\n",
       "      <td>338.34</td>\n",
       "      <td>339.10</td>\n",
       "      <td>336.6100</td>\n",
       "      <td>338.64</td>\n",
       "      <td>338.64</td>\n",
       "      <td>38733908.0</td>\n",
       "      <td>0.0</td>\n",
       "      <td>1.0</td>\n",
       "    </tr>\n",
       "    <tr>\n",
       "      <th>2020-08-17</th>\n",
       "      <td>337.94</td>\n",
       "      <td>338.34</td>\n",
       "      <td>336.8517</td>\n",
       "      <td>337.91</td>\n",
       "      <td>337.91</td>\n",
       "      <td>34496002.0</td>\n",
       "      <td>0.0</td>\n",
       "      <td>1.0</td>\n",
       "    </tr>\n",
       "  </tbody>\n",
       "</table>\n",
       "</div>"
      ],
      "text/plain": [
       "            SPY Open  SPY High   SPY Low  SPY Close  SPY Adjusted Close  \\\n",
       "date                                                                      \n",
       "2020-08-21    337.92    339.72  337.5500     339.48              339.48   \n",
       "2020-08-20    335.36    338.80  335.2200     338.28              338.28   \n",
       "2020-08-19    339.05    339.61  336.6200     337.23              337.23   \n",
       "2020-08-18    338.34    339.10  336.6100     338.64              338.64   \n",
       "2020-08-17    337.94    338.34  336.8517     337.91              337.91   \n",
       "\n",
       "            SPY Volume  SPY Dividend Amount  SPY Split Coefficient  \n",
       "date                                                                \n",
       "2020-08-21  55106628.0                  0.0                    1.0  \n",
       "2020-08-20  42207826.0                  0.0                    1.0  \n",
       "2020-08-19  68054244.0                  0.0                    1.0  \n",
       "2020-08-18  38733908.0                  0.0                    1.0  \n",
       "2020-08-17  34496002.0                  0.0                    1.0  "
      ]
     },
     "execution_count": 74,
     "metadata": {},
     "output_type": "execute_result"
    }
   ],
   "source": [
    "#Pull the data from alphavantage\n",
    "data = stonk_pull.data_pull(api)\n",
    "data.head()"
   ]
  },
  {
   "cell_type": "code",
   "execution_count": 75,
   "metadata": {},
   "outputs": [
    {
     "data": {
      "text/html": [
       "<div>\n",
       "<style scoped>\n",
       "    .dataframe tbody tr th:only-of-type {\n",
       "        vertical-align: middle;\n",
       "    }\n",
       "\n",
       "    .dataframe tbody tr th {\n",
       "        vertical-align: top;\n",
       "    }\n",
       "\n",
       "    .dataframe thead th {\n",
       "        text-align: right;\n",
       "    }\n",
       "</style>\n",
       "<table border=\"1\" class=\"dataframe\">\n",
       "  <thead>\n",
       "    <tr style=\"text-align: right;\">\n",
       "      <th></th>\n",
       "      <th>SPY Open</th>\n",
       "      <th>SPY Close</th>\n",
       "      <th>SPY Volume</th>\n",
       "    </tr>\n",
       "    <tr>\n",
       "      <th>date</th>\n",
       "      <th></th>\n",
       "      <th></th>\n",
       "      <th></th>\n",
       "    </tr>\n",
       "  </thead>\n",
       "  <tbody>\n",
       "    <tr>\n",
       "      <th>2020-08-21</th>\n",
       "      <td>337.92</td>\n",
       "      <td>339.48</td>\n",
       "      <td>55106628.0</td>\n",
       "    </tr>\n",
       "    <tr>\n",
       "      <th>2020-08-20</th>\n",
       "      <td>335.36</td>\n",
       "      <td>338.28</td>\n",
       "      <td>42207826.0</td>\n",
       "    </tr>\n",
       "    <tr>\n",
       "      <th>2020-08-19</th>\n",
       "      <td>339.05</td>\n",
       "      <td>337.23</td>\n",
       "      <td>68054244.0</td>\n",
       "    </tr>\n",
       "    <tr>\n",
       "      <th>2020-08-18</th>\n",
       "      <td>338.34</td>\n",
       "      <td>338.64</td>\n",
       "      <td>38733908.0</td>\n",
       "    </tr>\n",
       "    <tr>\n",
       "      <th>2020-08-17</th>\n",
       "      <td>337.94</td>\n",
       "      <td>337.91</td>\n",
       "      <td>34496002.0</td>\n",
       "    </tr>\n",
       "  </tbody>\n",
       "</table>\n",
       "</div>"
      ],
      "text/plain": [
       "            SPY Open  SPY Close  SPY Volume\n",
       "date                                       \n",
       "2020-08-21    337.92     339.48  55106628.0\n",
       "2020-08-20    335.36     338.28  42207826.0\n",
       "2020-08-19    339.05     337.23  68054244.0\n",
       "2020-08-18    338.34     338.64  38733908.0\n",
       "2020-08-17    337.94     337.91  34496002.0"
      ]
     },
     "execution_count": 75,
     "metadata": {},
     "output_type": "execute_result"
    }
   ],
   "source": [
    "#Clean the data\n",
    "stock_data_df = stonk_pull.data_clean(data)\n",
    "stock_data_df.head()\n"
   ]
  },
  {
   "cell_type": "code",
   "execution_count": 76,
   "metadata": {},
   "outputs": [
    {
     "data": {
      "text/html": [
       "<div>\n",
       "<style scoped>\n",
       "    .dataframe tbody tr th:only-of-type {\n",
       "        vertical-align: middle;\n",
       "    }\n",
       "\n",
       "    .dataframe tbody tr th {\n",
       "        vertical-align: top;\n",
       "    }\n",
       "\n",
       "    .dataframe thead th {\n",
       "        text-align: right;\n",
       "    }\n",
       "</style>\n",
       "<table border=\"1\" class=\"dataframe\">\n",
       "  <thead>\n",
       "    <tr style=\"text-align: right;\">\n",
       "      <th></th>\n",
       "      <th>SPY Open</th>\n",
       "      <th>SPY Close</th>\n",
       "      <th>SPY Volume</th>\n",
       "    </tr>\n",
       "    <tr>\n",
       "      <th>date</th>\n",
       "      <th></th>\n",
       "      <th></th>\n",
       "      <th></th>\n",
       "    </tr>\n",
       "  </thead>\n",
       "  <tbody>\n",
       "    <tr>\n",
       "      <th>1999-11-01</th>\n",
       "      <td>136.5000</td>\n",
       "      <td>135.5625</td>\n",
       "      <td>4006500.0</td>\n",
       "    </tr>\n",
       "    <tr>\n",
       "      <th>1999-11-02</th>\n",
       "      <td>135.9687</td>\n",
       "      <td>134.5937</td>\n",
       "      <td>6516900.0</td>\n",
       "    </tr>\n",
       "    <tr>\n",
       "      <th>1999-11-03</th>\n",
       "      <td>136.0000</td>\n",
       "      <td>135.5000</td>\n",
       "      <td>7222300.0</td>\n",
       "    </tr>\n",
       "    <tr>\n",
       "      <th>1999-11-04</th>\n",
       "      <td>136.7500</td>\n",
       "      <td>136.5312</td>\n",
       "      <td>7907500.0</td>\n",
       "    </tr>\n",
       "    <tr>\n",
       "      <th>1999-11-05</th>\n",
       "      <td>138.6250</td>\n",
       "      <td>137.8750</td>\n",
       "      <td>7431500.0</td>\n",
       "    </tr>\n",
       "  </tbody>\n",
       "</table>\n",
       "</div>"
      ],
      "text/plain": [
       "            SPY Open  SPY Close  SPY Volume\n",
       "date                                       \n",
       "1999-11-01  136.5000   135.5625   4006500.0\n",
       "1999-11-02  135.9687   134.5937   6516900.0\n",
       "1999-11-03  136.0000   135.5000   7222300.0\n",
       "1999-11-04  136.7500   136.5312   7907500.0\n",
       "1999-11-05  138.6250   137.8750   7431500.0"
      ]
     },
     "execution_count": 76,
     "metadata": {},
     "output_type": "execute_result"
    }
   ],
   "source": [
    "#Sort earliest to latest.\n",
    "stock_data_df.sort_index(inplace=True, ascending=True)\n",
    "stock_data_df.head()\n"
   ]
  },
  {
   "cell_type": "code",
   "execution_count": 77,
   "metadata": {},
   "outputs": [
    {
     "data": {
      "text/html": [
       "<div>\n",
       "<style scoped>\n",
       "    .dataframe tbody tr th:only-of-type {\n",
       "        vertical-align: middle;\n",
       "    }\n",
       "\n",
       "    .dataframe tbody tr th {\n",
       "        vertical-align: top;\n",
       "    }\n",
       "\n",
       "    .dataframe thead th {\n",
       "        text-align: right;\n",
       "    }\n",
       "</style>\n",
       "<table border=\"1\" class=\"dataframe\">\n",
       "  <thead>\n",
       "    <tr style=\"text-align: right;\">\n",
       "      <th></th>\n",
       "      <th>SPY Close</th>\n",
       "    </tr>\n",
       "    <tr>\n",
       "      <th>date</th>\n",
       "      <th></th>\n",
       "    </tr>\n",
       "  </thead>\n",
       "  <tbody>\n",
       "    <tr>\n",
       "      <th>1999-11-01</th>\n",
       "      <td>135.5625</td>\n",
       "    </tr>\n",
       "    <tr>\n",
       "      <th>1999-11-02</th>\n",
       "      <td>134.5937</td>\n",
       "    </tr>\n",
       "    <tr>\n",
       "      <th>1999-11-03</th>\n",
       "      <td>135.5000</td>\n",
       "    </tr>\n",
       "    <tr>\n",
       "      <th>1999-11-04</th>\n",
       "      <td>136.5312</td>\n",
       "    </tr>\n",
       "    <tr>\n",
       "      <th>1999-11-05</th>\n",
       "      <td>137.8750</td>\n",
       "    </tr>\n",
       "  </tbody>\n",
       "</table>\n",
       "</div>"
      ],
      "text/plain": [
       "            SPY Close\n",
       "date                 \n",
       "1999-11-01   135.5625\n",
       "1999-11-02   134.5937\n",
       "1999-11-03   135.5000\n",
       "1999-11-04   136.5312\n",
       "1999-11-05   137.8750"
      ]
     },
     "execution_count": 77,
     "metadata": {},
     "output_type": "execute_result"
    }
   ],
   "source": [
    "#To set up the crossover strategy select the one column we need, \"Close\", and set to dataframe\n",
    "signals_df = stock_data_df['SPY Close'].to_frame()\n",
    "signals_df.head()"
   ]
  },
  {
   "cell_type": "code",
   "execution_count": 78,
   "metadata": {},
   "outputs": [
    {
     "data": {
      "text/html": [
       "<div>\n",
       "<style scoped>\n",
       "    .dataframe tbody tr th:only-of-type {\n",
       "        vertical-align: middle;\n",
       "    }\n",
       "\n",
       "    .dataframe tbody tr th {\n",
       "        vertical-align: top;\n",
       "    }\n",
       "\n",
       "    .dataframe thead th {\n",
       "        text-align: right;\n",
       "    }\n",
       "</style>\n",
       "<table border=\"1\" class=\"dataframe\">\n",
       "  <thead>\n",
       "    <tr style=\"text-align: right;\">\n",
       "      <th></th>\n",
       "      <th>SPY Close</th>\n",
       "      <th>SMA2</th>\n",
       "      <th>SMA13</th>\n",
       "      <th>Signal</th>\n",
       "      <th>Buy/Sell</th>\n",
       "    </tr>\n",
       "    <tr>\n",
       "      <th>date</th>\n",
       "      <th></th>\n",
       "      <th></th>\n",
       "      <th></th>\n",
       "      <th></th>\n",
       "      <th></th>\n",
       "    </tr>\n",
       "  </thead>\n",
       "  <tbody>\n",
       "    <tr>\n",
       "      <th>1999-11-01</th>\n",
       "      <td>135.5625</td>\n",
       "      <td>NaN</td>\n",
       "      <td>NaN</td>\n",
       "      <td>0.0</td>\n",
       "      <td>NaN</td>\n",
       "    </tr>\n",
       "    <tr>\n",
       "      <th>1999-11-02</th>\n",
       "      <td>134.5937</td>\n",
       "      <td>135.07810</td>\n",
       "      <td>NaN</td>\n",
       "      <td>0.0</td>\n",
       "      <td>0.0</td>\n",
       "    </tr>\n",
       "    <tr>\n",
       "      <th>1999-11-03</th>\n",
       "      <td>135.5000</td>\n",
       "      <td>135.04685</td>\n",
       "      <td>NaN</td>\n",
       "      <td>0.0</td>\n",
       "      <td>0.0</td>\n",
       "    </tr>\n",
       "    <tr>\n",
       "      <th>1999-11-04</th>\n",
       "      <td>136.5312</td>\n",
       "      <td>136.01560</td>\n",
       "      <td>NaN</td>\n",
       "      <td>0.0</td>\n",
       "      <td>0.0</td>\n",
       "    </tr>\n",
       "    <tr>\n",
       "      <th>1999-11-05</th>\n",
       "      <td>137.8750</td>\n",
       "      <td>137.20310</td>\n",
       "      <td>NaN</td>\n",
       "      <td>0.0</td>\n",
       "      <td>0.0</td>\n",
       "    </tr>\n",
       "    <tr>\n",
       "      <th>...</th>\n",
       "      <td>...</td>\n",
       "      <td>...</td>\n",
       "      <td>...</td>\n",
       "      <td>...</td>\n",
       "      <td>...</td>\n",
       "    </tr>\n",
       "    <tr>\n",
       "      <th>2020-08-17</th>\n",
       "      <td>337.9100</td>\n",
       "      <td>337.37500</td>\n",
       "      <td>332.902308</td>\n",
       "      <td>1.0</td>\n",
       "      <td>0.0</td>\n",
       "    </tr>\n",
       "    <tr>\n",
       "      <th>2020-08-18</th>\n",
       "      <td>338.6400</td>\n",
       "      <td>338.27500</td>\n",
       "      <td>334.031538</td>\n",
       "      <td>1.0</td>\n",
       "      <td>0.0</td>\n",
       "    </tr>\n",
       "    <tr>\n",
       "      <th>2020-08-19</th>\n",
       "      <td>337.2300</td>\n",
       "      <td>337.93500</td>\n",
       "      <td>334.855385</td>\n",
       "      <td>1.0</td>\n",
       "      <td>0.0</td>\n",
       "    </tr>\n",
       "    <tr>\n",
       "      <th>2020-08-20</th>\n",
       "      <td>338.2800</td>\n",
       "      <td>337.75500</td>\n",
       "      <td>335.585385</td>\n",
       "      <td>1.0</td>\n",
       "      <td>0.0</td>\n",
       "    </tr>\n",
       "    <tr>\n",
       "      <th>2020-08-21</th>\n",
       "      <td>339.4800</td>\n",
       "      <td>338.88000</td>\n",
       "      <td>336.310000</td>\n",
       "      <td>1.0</td>\n",
       "      <td>0.0</td>\n",
       "    </tr>\n",
       "  </tbody>\n",
       "</table>\n",
       "<p>5236 rows × 5 columns</p>\n",
       "</div>"
      ],
      "text/plain": [
       "            SPY Close       SMA2       SMA13  Signal  Buy/Sell\n",
       "date                                                          \n",
       "1999-11-01   135.5625        NaN         NaN     0.0       NaN\n",
       "1999-11-02   134.5937  135.07810         NaN     0.0       0.0\n",
       "1999-11-03   135.5000  135.04685         NaN     0.0       0.0\n",
       "1999-11-04   136.5312  136.01560         NaN     0.0       0.0\n",
       "1999-11-05   137.8750  137.20310         NaN     0.0       0.0\n",
       "...               ...        ...         ...     ...       ...\n",
       "2020-08-17   337.9100  337.37500  332.902308     1.0       0.0\n",
       "2020-08-18   338.6400  338.27500  334.031538     1.0       0.0\n",
       "2020-08-19   337.2300  337.93500  334.855385     1.0       0.0\n",
       "2020-08-20   338.2800  337.75500  335.585385     1.0       0.0\n",
       "2020-08-21   339.4800  338.88000  336.310000     1.0       0.0\n",
       "\n",
       "[5236 rows x 5 columns]"
      ]
     },
     "execution_count": 78,
     "metadata": {},
     "output_type": "execute_result"
    }
   ],
   "source": [
    "#This function generates the signals dataframe\n",
    "signals.generate_sma2_sma13_signals(signals_df)"
   ]
  },
  {
   "cell_type": "code",
   "execution_count": 79,
   "metadata": {},
   "outputs": [
    {
     "name": "stdout",
     "output_type": "stream",
     "text": [
      "The signal is hold. No action taken\n",
      "Current positions are: [Position({   'asset_class': 'us_equity',\n",
      "    'asset_id': 'b28f4066-5c6d-479b-a2af-85dc1a8f16fb',\n",
      "    'avg_entry_price': '342.095',\n",
      "    'change_today': '0.0072758336279015',\n",
      "    'cost_basis': '202520.24',\n",
      "    'current_price': '341.95',\n",
      "    'exchange': 'ARCA',\n",
      "    'lastday_price': '339.48',\n",
      "    'market_value': '202434.4',\n",
      "    'qty': '592',\n",
      "    'side': 'long',\n",
      "    'symbol': 'SPY',\n",
      "    'unrealized_intraday_pl': '-85.84',\n",
      "    'unrealized_intraday_plpc': '-0.0004238588696122',\n",
      "    'unrealized_pl': '-85.84',\n",
      "    'unrealized_plpc': '-0.0004238588696122'})]\n"
     ]
    }
   ],
   "source": [
    "#Send Buy and Sell orders to alpaca using the signal, 1 = buy, -1 = sell, 0 = hold\n",
    "\n",
    "if signals_df['Buy/Sell'].iloc[-1] == 1.0:\n",
    "    symbol = \"SPY\"\n",
    "    alpaca_functions.buy(symbol)\n",
    "    \n",
    "elif signals_df['Buy/Sell'].iloc[-1] == -1.0:\n",
    "    symbol = \"SPY\"\n",
    "    alpaca_functions.sell(symbol)\n",
    "    \n",
    "elif signals_df['Buy/Sell'].iloc[-1] == 0.0:\n",
    "    print(\"The signal is hold. No action taken\")\n",
    "\n",
    "print(f\"Current positions are: {api.list_positions()}\")"
   ]
  },
  {
   "cell_type": "code",
   "execution_count": 80,
   "metadata": {},
   "outputs": [
    {
     "name": "stdout",
     "output_type": "stream",
     "text": [
      "No profits were transferred to the bank from alpaca today.\n"
     ]
    }
   ],
   "source": [
    "#On the first of the month we will send our profits from alpaca to the bank\n",
    "\n",
    "day_of_month = (date.today()).strftime(\"%d\")\n",
    "\n",
    "if day_of_month == '1':\n",
    "    transfer_profits_from_alpaca(bank_balance, beginning_deposit)\n",
    "else:\n",
    "    print(\"No profits were transferred to the bank from alpaca today.\")  \n",
    "    \n",
    "\n"
   ]
  },
  {
   "cell_type": "code",
   "execution_count": 81,
   "metadata": {},
   "outputs": [
    {
     "name": "stdout",
     "output_type": "stream",
     "text": [
      "No profits were transferred from the bank to binance today.\n",
      "bank balance: 130000\n",
      "binance balance: 0\n"
     ]
    }
   ],
   "source": [
    "#On the second day of the month we will send our profits from our bank to the binance cryptoexchange\n",
    "\n",
    "day_of_month = (date.today()).strftime(\"%d\")\n",
    "bank_balance  = 130000\n",
    "binance_balance = 0\n",
    "\n",
    "#If the the day of the month is 2, we transfer profits to binance and recalculate the bank balance and binance balance\n",
    "\n",
    "if day_of_month == '2':\n",
    "    #transfer function returns a list with the new bank balance and the new binance balance\n",
    "    balances = transfer_profits_to_exchange(bank_balance, binance_balance)\n",
    "    \n",
    "    #set the new bank and the new binance balances\n",
    "    bank_balance = balances[0]\n",
    "    binance_balance = balances[1]\n",
    "    \n",
    "else:\n",
    "    print(\"No profits were transferred from the bank to binance today.\")  \n",
    "\n",
    "print(\"bank balance:\", bank_balance)\n",
    "print(\"binance balance:\", binance_balance)"
   ]
  },
  {
   "cell_type": "code",
   "execution_count": 82,
   "metadata": {},
   "outputs": [
    {
     "data": {
      "text/plain": [
       "407.4"
      ]
     },
     "execution_count": 82,
     "metadata": {},
     "output_type": "execute_result"
    }
   ],
   "source": [
    "# Get price for ETH through binance api\n",
    "eth_price = get_eth_price()\n",
    "eth_price = float(eth_price)\n",
    "eth_price"
   ]
  },
  {
   "cell_type": "code",
   "execution_count": 83,
   "metadata": {},
   "outputs": [
    {
     "data": {
      "text/plain": [
       "0.0"
      ]
     },
     "execution_count": 83,
     "metadata": {},
     "output_type": "execute_result"
    }
   ],
   "source": [
    "#Calculate number of ether to buy\n",
    "eth_to_buy = binance_balance/eth_price\n",
    "eth_to_buy\n"
   ]
  },
  {
   "cell_type": "code",
   "execution_count": 89,
   "metadata": {},
   "outputs": [
    {
     "name": "stdout",
     "output_type": "stream",
     "text": [
      "b'{\"code\":-1022,\"msg\":\"Signature for this request is not valid.\"}'\n"
     ]
    },
    {
     "data": {
      "text/plain": [
       "b'{\"code\":-1022,\"msg\":\"Signature for this request is not valid.\"}'"
      ]
     },
     "execution_count": 89,
     "metadata": {},
     "output_type": "execute_result"
    }
   ],
   "source": [
    "#This buys one share of ETH, need to figure out how to change qty in the function. \n",
    "#Need to figure out how to correctly submit timestamp and signature\n",
    "buy_ETH()"
   ]
  },
  {
   "cell_type": "code",
   "execution_count": 90,
   "metadata": {},
   "outputs": [
    {
     "name": "stdout",
     "output_type": "stream",
     "text": [
      "b'{\"code\":-1022,\"msg\":\"Signature for this request is not valid.\"}'\n"
     ]
    },
    {
     "data": {
      "text/plain": [
       "b'{\"code\":-1022,\"msg\":\"Signature for this request is not valid.\"}'"
      ]
     },
     "execution_count": 90,
     "metadata": {},
     "output_type": "execute_result"
    }
   ],
   "source": [
    "#check account holdings, need to send proper signature\n",
    "get_account_holdings()"
   ]
  },
  {
   "cell_type": "code",
   "execution_count": 86,
   "metadata": {},
   "outputs": [
    {
     "name": "stdout",
     "output_type": "stream",
     "text": [
      "b'[{\"id\":0,\"price\":\"386.26000000\",\"qty\":\"1.00000000\",\"quoteQty\":\"386.26000000\",\"time\":1596440526404,\"isBuyerMaker\":true,\"isBestMatch\":true},{\"id\":1,\"price\":\"414.15000000\",\"qty\":\"0.02714000\",\"quoteQty\":\"11.24003100\",\"time\":1597851105665,\"isBuyerMaker\":true,\"isBestMatch\":true},{\"id\":2,\"price\":\"414.15000000\",\"qty\":\"0.02729000\",\"quoteQty\":\"11.30215350\",\"time\":1597854349295,\"isBuyerMaker\":true,\"isBestMatch\":true},{\"id\":3,\"price\":\"414.15000000\",\"qty\":\"0.02733000\",\"quoteQty\":\"11.31871950\",\"time\":1597854483275,\"isBuyerMaker\":true,\"isBestMatch\":true},{\"id\":4,\"price\":\"414.15000000\",\"qty\":\"0.02733000\",\"quoteQty\":\"11.31871950\",\"time\":1597854687743,\"isBuyerMaker\":true,\"isBestMatch\":true},{\"id\":5,\"price\":\"414.15000000\",\"qty\":\"0.02733000\",\"quoteQty\":\"11.31871950\",\"time\":1597854803719,\"isBuyerMaker\":true,\"isBestMatch\":true},{\"id\":6,\"price\":\"414.15000000\",\"qty\":\"0.02738000\",\"quoteQty\":\"11.33942700\",\"time\":1597854865008,\"isBuyerMaker\":true,\"isBestMatch\":true},{\"id\":7,\"price\":\"414.15000000\",\"qty\":\"0.02738000\",\"quoteQty\":\"11.33942700\",\"time\":1597854929976,\"isBuyerMaker\":true,\"isBestMatch\":true},{\"id\":8,\"price\":\"414.15000000\",\"qty\":\"0.02739000\",\"quoteQty\":\"11.34356850\",\"time\":1597855031684,\"isBuyerMaker\":true,\"isBestMatch\":true},{\"id\":9,\"price\":\"414.15000000\",\"qty\":\"0.02080000\",\"quoteQty\":\"8.61432000\",\"time\":1597855138427,\"isBuyerMaker\":true,\"isBestMatch\":true},{\"id\":10,\"price\":\"411.25000000\",\"qty\":\"0.00661000\",\"quoteQty\":\"2.71836250\",\"time\":1597855138427,\"isBuyerMaker\":true,\"isBestMatch\":true},{\"id\":11,\"price\":\"411.25000000\",\"qty\":\"0.02755000\",\"quoteQty\":\"11.32993750\",\"time\":1597855256449,\"isBuyerMaker\":true,\"isBestMatch\":true},{\"id\":12,\"price\":\"411.25000000\",\"qty\":\"0.20669000\",\"quoteQty\":\"85.00126250\",\"time\":1597857373453,\"isBuyerMaker\":true,\"isBestMatch\":true},{\"id\":13,\"price\":\"407.40000000\",\"qty\":\"1.00000000\",\"quoteQty\":\"407.40000000\",\"time\":1598226077748,\"isBuyerMaker\":false,\"isBestMatch\":true},{\"id\":14,\"price\":\"407.40000000\",\"qty\":\"1.00000000\",\"quoteQty\":\"407.40000000\",\"time\":1598226143460,\"isBuyerMaker\":false,\"isBestMatch\":true},{\"id\":15,\"price\":\"407.40000000\",\"qty\":\"1.00000000\",\"quoteQty\":\"407.40000000\",\"time\":1598226366292,\"isBuyerMaker\":false,\"isBestMatch\":true},{\"id\":16,\"price\":\"407.40000000\",\"qty\":\"1.00000000\",\"quoteQty\":\"407.40000000\",\"time\":1598227440986,\"isBuyerMaker\":false,\"isBestMatch\":true}]'\n"
     ]
    },
    {
     "data": {
      "text/plain": [
       "b'[{\"id\":0,\"price\":\"386.26000000\",\"qty\":\"1.00000000\",\"quoteQty\":\"386.26000000\",\"time\":1596440526404,\"isBuyerMaker\":true,\"isBestMatch\":true},{\"id\":1,\"price\":\"414.15000000\",\"qty\":\"0.02714000\",\"quoteQty\":\"11.24003100\",\"time\":1597851105665,\"isBuyerMaker\":true,\"isBestMatch\":true},{\"id\":2,\"price\":\"414.15000000\",\"qty\":\"0.02729000\",\"quoteQty\":\"11.30215350\",\"time\":1597854349295,\"isBuyerMaker\":true,\"isBestMatch\":true},{\"id\":3,\"price\":\"414.15000000\",\"qty\":\"0.02733000\",\"quoteQty\":\"11.31871950\",\"time\":1597854483275,\"isBuyerMaker\":true,\"isBestMatch\":true},{\"id\":4,\"price\":\"414.15000000\",\"qty\":\"0.02733000\",\"quoteQty\":\"11.31871950\",\"time\":1597854687743,\"isBuyerMaker\":true,\"isBestMatch\":true},{\"id\":5,\"price\":\"414.15000000\",\"qty\":\"0.02733000\",\"quoteQty\":\"11.31871950\",\"time\":1597854803719,\"isBuyerMaker\":true,\"isBestMatch\":true},{\"id\":6,\"price\":\"414.15000000\",\"qty\":\"0.02738000\",\"quoteQty\":\"11.33942700\",\"time\":1597854865008,\"isBuyerMaker\":true,\"isBestMatch\":true},{\"id\":7,\"price\":\"414.15000000\",\"qty\":\"0.02738000\",\"quoteQty\":\"11.33942700\",\"time\":1597854929976,\"isBuyerMaker\":true,\"isBestMatch\":true},{\"id\":8,\"price\":\"414.15000000\",\"qty\":\"0.02739000\",\"quoteQty\":\"11.34356850\",\"time\":1597855031684,\"isBuyerMaker\":true,\"isBestMatch\":true},{\"id\":9,\"price\":\"414.15000000\",\"qty\":\"0.02080000\",\"quoteQty\":\"8.61432000\",\"time\":1597855138427,\"isBuyerMaker\":true,\"isBestMatch\":true},{\"id\":10,\"price\":\"411.25000000\",\"qty\":\"0.00661000\",\"quoteQty\":\"2.71836250\",\"time\":1597855138427,\"isBuyerMaker\":true,\"isBestMatch\":true},{\"id\":11,\"price\":\"411.25000000\",\"qty\":\"0.02755000\",\"quoteQty\":\"11.32993750\",\"time\":1597855256449,\"isBuyerMaker\":true,\"isBestMatch\":true},{\"id\":12,\"price\":\"411.25000000\",\"qty\":\"0.20669000\",\"quoteQty\":\"85.00126250\",\"time\":1597857373453,\"isBuyerMaker\":true,\"isBestMatch\":true},{\"id\":13,\"price\":\"407.40000000\",\"qty\":\"1.00000000\",\"quoteQty\":\"407.40000000\",\"time\":1598226077748,\"isBuyerMaker\":false,\"isBestMatch\":true},{\"id\":14,\"price\":\"407.40000000\",\"qty\":\"1.00000000\",\"quoteQty\":\"407.40000000\",\"time\":1598226143460,\"isBuyerMaker\":false,\"isBestMatch\":true},{\"id\":15,\"price\":\"407.40000000\",\"qty\":\"1.00000000\",\"quoteQty\":\"407.40000000\",\"time\":1598226366292,\"isBuyerMaker\":false,\"isBestMatch\":true},{\"id\":16,\"price\":\"407.40000000\",\"qty\":\"1.00000000\",\"quoteQty\":\"407.40000000\",\"time\":1598227440986,\"isBuyerMaker\":false,\"isBestMatch\":true}]'"
      ]
     },
     "execution_count": 86,
     "metadata": {},
     "output_type": "execute_result"
    }
   ],
   "source": [
    "#check recent trades to see if trade went through\n",
    "check_recent_trades()\n"
   ]
  },
  {
   "cell_type": "code",
   "execution_count": 87,
   "metadata": {},
   "outputs": [
    {
     "name": "stdout",
     "output_type": "stream",
     "text": [
      "b'<!DOCTYPE html>\\n<html lang=\"en\">\\n<head>\\n    <title>Binance Spot Test Network</title>\\n    <link rel=\"shortcut icon\" type=\"image/x-icon\" href=\"/static/images/common/favicon.ico\"/>\\n    <style>\\nhtml {\\n    margin: 0;\\n}\\n\\nbody {\\n    display: flex;\\n    flex-direction: column;\\n    margin: 0;\\n    padding: 0;\\n    min-height: 100vh;\\n    font-family: BinancePlex, Arial, PingFangSC-Regular, \\'Microsoft YaHei\\', sans-serif !important;\\n}\\n\\n#header {\\n    height: 64px;\\n    background-color: #12161C;\\n    margin: 0;\\n    padding: 0;\\n}\\n\\n#body {\\n    display: flex;\\n    flex: 1;\\n    margin: 0;\\n    padding: 0;\\n}\\n\\n#content {\\n    width: 800px;\\n    margin-left: auto;\\n    margin-right: auto;\\n    line-height: 26px;\\n}\\n\\n#footer {\\n    background-color: #12161C;\\n    font-size: 12px;\\n    line-height: 16px;\\n    color: #76808F;\\n    text-align: center;\\n    margin-top: 20px;\\n    margin-bottom: 0;\\n    margin-left: 0;\\n    margin-right: 0;\\n    padding: 12px;\\n}\\n\\n#logo {\\n    position: absolute;\\n    width: 120px;\\n    height: 24px;\\n    margin-right: 16px;\\n    margin-left: 24px;\\n    margin-top: 18px;\\n    fill: #F0B90B;\\n}\\n\\n#title {\\n    position: absolute;\\n    margin-right: 16px;\\n    margin-left: 180px;\\n    margin-top: 12px;\\n    color: white;\\n    font-size: 24px;\\n}\\n\\n#login-state {\\n    position: absolute;\\n    top: 21px;\\n    right: 110px;\\n    color: white;\\n}\\n\\n#logout {\\n    position: absolute;\\n    top: 18px;\\n    right: 25px;\\n    color: white;\\n}\\n\\na {\\n    text-decoration: none;\\n    color: #1890ff;\\n}\\n\\na:hover {\\n    color: #40a9ff;\\n}\\n\\n.block {\\n    margin-bottom: 50px;\\n}\\n\\ncode {\\n    font-family: Consolas, Menlo, Monaco, \"Lucida Console\", \"Liberation Mono\", \"DejaVu Sans Mono\", \"Bitstream Vera Sans Mono\", \"Courier New\", monospace, serif;\\n    font-size: 12px;\\n    background-color: #f3f3f3;\\n    line-height: 18px;\\n    padding: 3px;\\n}\\n\\npre {\\n    display: inline-block;\\n    padding: 10px;\\n    font-family: Consolas, Menlo, Monaco, \"Lucida Console\", \"Liberation Mono\", \"DejaVu Sans Mono\", \"Bitstream Vera Sans Mono\", \"Courier New\", monospace, serif;\\n    font-size: 12px;\\n    background-color: #f3f3f3 !important;\\n    line-height: 18px;\\n}\\n\\ninput[type=\\'text\\'] {\\n    border: 1px solid gray;\\n    font-size: 18px;\\n    padding: 5px 10px;\\n}\\n\\ninput[type=\\'submit\\'] {\\n    border: none;\\n    background: #F0B90B;\\n    border-radius: 4px;\\n    padding: 4px 8px;\\n    font-size: 16px;\\n    font-weight: bold;\\n    cursor: pointer;\\n}\\n\\ntable {\\n    width: 100%;\\n    border: 0;\\n}\\n\\nthead {\\n    font-size: 14px;\\n    color: rgb(132, 142, 156);\\n    text-align: left;\\n}\\n\\ntbody tr:hover {\\n    background: #f0f0f0;\\n}\\n\\nth {\\n    margin: 0;\\n    padding: 5px 10px;\\n    border: none;\\n}\\n\\ntd {\\n    margin: 0;\\n    padding: 5px 10px;\\n    border-top: 1px solid #f2f2f2;\\n    border-bottom: none;\\n    border-left: none;\\n    border-right: none;\\n}\\n\\ntd.key-type {\\n    font-family: \"Lucida Console\", Monaco, monospace;\\n}\\n\\ntd.key-permissions {\\n    font-family: \"Lucida Console\", Monaco, monospace;\\n    font-size: 12px;\\n}\\n\\ntextarea {\\n    resize: none;\\n    font-family: \"Lucida Console\", Monaco, monospace;\\n    font-size: 12px;\\n    width: 100%;\\n}\\n\\n.error {\\n    color: red;\\n    font-size: 20px;\\n    font-weight: bold;\\n}\\n\\n.note {\\n    font-size: 12px;\\n}\\n\\n.back {\\n    margin-top: 40px;\\n}\\n\\nhr {\\n    border-top: 1px solid #e0e0e0;\\n    border-bottom: 0;\\n    border-left: 0;\\n    border-right: 0;\\n}\\n    </style>\\n    <link href=\"/static/fonts/index.min.css\" rel=\"stylesheet\" type=\"text/css\">\\n</head>\\n<body>\\n    <header id=\"header\">\\n        <a href=\"/\">\\n            <svg id=\"logo\" viewBox=\"0 0 5120 1024\"><path d=\"M230.997333 512L116.053333 626.986667 0 512l116.010667-116.010667L230.997333 512zM512 230.997333l197.973333 197.973334 116.053334-115.968L512 0 197.973333 314.026667l116.053334 115.968L512 230.997333z m395.989333 164.992L793.002667 512l116.010666 116.010667L1024.981333 512l-116.992-116.010667zM512 793.002667l-197.973333-198.997334-116.053334 116.010667L512 1024l314.026667-314.026667-116.053334-115.968L512 793.002667z m0-165.973334l116.010667-116.053333L512 396.032 395.989333 512 512 626.986667z m1220.010667 11.946667v-1.962667c0-75.008-40.021333-113.024-105.002667-138.026666 39.978667-21.973333 73.984-58.026667 73.984-121.002667v-1.962667c0-88.021333-70.997333-145.024-185.002667-145.024h-260.992v561.024h267.008c126.976 0.981333 210.005333-51.029333 210.005334-153.002666z m-154.026667-239.957333c0 41.984-34.005333 58.965333-89.002667 58.965333h-113.962666V338.986667h121.984c52.010667 0 80.981333 20.992 80.981333 58.026666v2.005334z m31.018667 224c0 41.984-32.981333 61.013333-87.04 61.013333h-146.944v-123.050667h142.976c63.018667 0 91.008 23.04 91.008 61.013334v1.024z m381.994666 169.984V230.997333h-123.989333v561.024h123.989333v0.981334z m664.021334 0V230.997333h-122.026667v346.026667l-262.997333-346.026667h-114.005334v561.024h122.026667v-356.010666l272 356.992h104.96z m683.946666 0L3098.026667 228.010667h-113.962667l-241.024 564.992h127.018667l50.986666-125.994667h237.013334l50.986666 125.994667h130.005334z m-224.981333-235.008h-148.992l75.008-181.973334 73.984 181.973334z m814.037333 235.008V230.997333h-122.026666v346.026667l-262.997334-346.026667h-114.005333v561.024h122.026667v-356.010666l272 356.992h104.96z m636.970667-91.008l-78.976-78.976c-44.032 39.978667-83.029333 65.962667-148.010667 65.962666-96 0-162.986667-80-162.986666-176v-2.986666c0-96 67.968-174.976 162.986666-174.976 55.978667 0 100.010667 23.978667 144 62.976l78.976-91.008c-51.968-50.986667-114.986667-86.997333-220.970666-86.997334-171.989333 0-292.992 130.986667-292.992 290.005334V512c0 160.981333 122.965333 288.981333 288 288.981333 107.989333 1.024 171.989333-36.992 229.973333-98.986666z m527.018667 91.008v-109.994667h-305.024v-118.016h265.002666v-109.994667h-265.002666V340.992h301.013333V230.997333h-422.997333v561.024h427.008v0.981334z\"></path></svg>\\n        </a>\\n        <div id=\"title\">Spot Test Network</div>\\n        \\n    </header>\\n    <div id=\"body\">\\n        <main id=\"content\">\\n            \\n    <div class=\"block\">\\n        <h2>\\n            Something bad happened :(\\n        </h2>\\n    </div>\\n\\n    <div class=\"back\">\\n        <a href=\"/\">Back</a>\\n    </div>\\n\\n        </main>\\n    </div>\\n    <footer id=\"footer\">\\n        <a href=\"/terms\">Terms</a>\\n        |\\n        <a href=\"/privacy\">Privacy</a>\\n        |\\n        &copy; 2017 - 2020 Binance.com. All rights reserved\\n    </footer>\\n</body>\\n</html>\\n<!-- request_id:  -->'\n"
     ]
    },
    {
     "data": {
      "text/plain": [
       "b'<!DOCTYPE html>\\n<html lang=\"en\">\\n<head>\\n    <title>Binance Spot Test Network</title>\\n    <link rel=\"shortcut icon\" type=\"image/x-icon\" href=\"/static/images/common/favicon.ico\"/>\\n    <style>\\nhtml {\\n    margin: 0;\\n}\\n\\nbody {\\n    display: flex;\\n    flex-direction: column;\\n    margin: 0;\\n    padding: 0;\\n    min-height: 100vh;\\n    font-family: BinancePlex, Arial, PingFangSC-Regular, \\'Microsoft YaHei\\', sans-serif !important;\\n}\\n\\n#header {\\n    height: 64px;\\n    background-color: #12161C;\\n    margin: 0;\\n    padding: 0;\\n}\\n\\n#body {\\n    display: flex;\\n    flex: 1;\\n    margin: 0;\\n    padding: 0;\\n}\\n\\n#content {\\n    width: 800px;\\n    margin-left: auto;\\n    margin-right: auto;\\n    line-height: 26px;\\n}\\n\\n#footer {\\n    background-color: #12161C;\\n    font-size: 12px;\\n    line-height: 16px;\\n    color: #76808F;\\n    text-align: center;\\n    margin-top: 20px;\\n    margin-bottom: 0;\\n    margin-left: 0;\\n    margin-right: 0;\\n    padding: 12px;\\n}\\n\\n#logo {\\n    position: absolute;\\n    width: 120px;\\n    height: 24px;\\n    margin-right: 16px;\\n    margin-left: 24px;\\n    margin-top: 18px;\\n    fill: #F0B90B;\\n}\\n\\n#title {\\n    position: absolute;\\n    margin-right: 16px;\\n    margin-left: 180px;\\n    margin-top: 12px;\\n    color: white;\\n    font-size: 24px;\\n}\\n\\n#login-state {\\n    position: absolute;\\n    top: 21px;\\n    right: 110px;\\n    color: white;\\n}\\n\\n#logout {\\n    position: absolute;\\n    top: 18px;\\n    right: 25px;\\n    color: white;\\n}\\n\\na {\\n    text-decoration: none;\\n    color: #1890ff;\\n}\\n\\na:hover {\\n    color: #40a9ff;\\n}\\n\\n.block {\\n    margin-bottom: 50px;\\n}\\n\\ncode {\\n    font-family: Consolas, Menlo, Monaco, \"Lucida Console\", \"Liberation Mono\", \"DejaVu Sans Mono\", \"Bitstream Vera Sans Mono\", \"Courier New\", monospace, serif;\\n    font-size: 12px;\\n    background-color: #f3f3f3;\\n    line-height: 18px;\\n    padding: 3px;\\n}\\n\\npre {\\n    display: inline-block;\\n    padding: 10px;\\n    font-family: Consolas, Menlo, Monaco, \"Lucida Console\", \"Liberation Mono\", \"DejaVu Sans Mono\", \"Bitstream Vera Sans Mono\", \"Courier New\", monospace, serif;\\n    font-size: 12px;\\n    background-color: #f3f3f3 !important;\\n    line-height: 18px;\\n}\\n\\ninput[type=\\'text\\'] {\\n    border: 1px solid gray;\\n    font-size: 18px;\\n    padding: 5px 10px;\\n}\\n\\ninput[type=\\'submit\\'] {\\n    border: none;\\n    background: #F0B90B;\\n    border-radius: 4px;\\n    padding: 4px 8px;\\n    font-size: 16px;\\n    font-weight: bold;\\n    cursor: pointer;\\n}\\n\\ntable {\\n    width: 100%;\\n    border: 0;\\n}\\n\\nthead {\\n    font-size: 14px;\\n    color: rgb(132, 142, 156);\\n    text-align: left;\\n}\\n\\ntbody tr:hover {\\n    background: #f0f0f0;\\n}\\n\\nth {\\n    margin: 0;\\n    padding: 5px 10px;\\n    border: none;\\n}\\n\\ntd {\\n    margin: 0;\\n    padding: 5px 10px;\\n    border-top: 1px solid #f2f2f2;\\n    border-bottom: none;\\n    border-left: none;\\n    border-right: none;\\n}\\n\\ntd.key-type {\\n    font-family: \"Lucida Console\", Monaco, monospace;\\n}\\n\\ntd.key-permissions {\\n    font-family: \"Lucida Console\", Monaco, monospace;\\n    font-size: 12px;\\n}\\n\\ntextarea {\\n    resize: none;\\n    font-family: \"Lucida Console\", Monaco, monospace;\\n    font-size: 12px;\\n    width: 100%;\\n}\\n\\n.error {\\n    color: red;\\n    font-size: 20px;\\n    font-weight: bold;\\n}\\n\\n.note {\\n    font-size: 12px;\\n}\\n\\n.back {\\n    margin-top: 40px;\\n}\\n\\nhr {\\n    border-top: 1px solid #e0e0e0;\\n    border-bottom: 0;\\n    border-left: 0;\\n    border-right: 0;\\n}\\n    </style>\\n    <link href=\"/static/fonts/index.min.css\" rel=\"stylesheet\" type=\"text/css\">\\n</head>\\n<body>\\n    <header id=\"header\">\\n        <a href=\"/\">\\n            <svg id=\"logo\" viewBox=\"0 0 5120 1024\"><path d=\"M230.997333 512L116.053333 626.986667 0 512l116.010667-116.010667L230.997333 512zM512 230.997333l197.973333 197.973334 116.053334-115.968L512 0 197.973333 314.026667l116.053334 115.968L512 230.997333z m395.989333 164.992L793.002667 512l116.010666 116.010667L1024.981333 512l-116.992-116.010667zM512 793.002667l-197.973333-198.997334-116.053334 116.010667L512 1024l314.026667-314.026667-116.053334-115.968L512 793.002667z m0-165.973334l116.010667-116.053333L512 396.032 395.989333 512 512 626.986667z m1220.010667 11.946667v-1.962667c0-75.008-40.021333-113.024-105.002667-138.026666 39.978667-21.973333 73.984-58.026667 73.984-121.002667v-1.962667c0-88.021333-70.997333-145.024-185.002667-145.024h-260.992v561.024h267.008c126.976 0.981333 210.005333-51.029333 210.005334-153.002666z m-154.026667-239.957333c0 41.984-34.005333 58.965333-89.002667 58.965333h-113.962666V338.986667h121.984c52.010667 0 80.981333 20.992 80.981333 58.026666v2.005334z m31.018667 224c0 41.984-32.981333 61.013333-87.04 61.013333h-146.944v-123.050667h142.976c63.018667 0 91.008 23.04 91.008 61.013334v1.024z m381.994666 169.984V230.997333h-123.989333v561.024h123.989333v0.981334z m664.021334 0V230.997333h-122.026667v346.026667l-262.997333-346.026667h-114.005334v561.024h122.026667v-356.010666l272 356.992h104.96z m683.946666 0L3098.026667 228.010667h-113.962667l-241.024 564.992h127.018667l50.986666-125.994667h237.013334l50.986666 125.994667h130.005334z m-224.981333-235.008h-148.992l75.008-181.973334 73.984 181.973334z m814.037333 235.008V230.997333h-122.026666v346.026667l-262.997334-346.026667h-114.005333v561.024h122.026667v-356.010666l272 356.992h104.96z m636.970667-91.008l-78.976-78.976c-44.032 39.978667-83.029333 65.962667-148.010667 65.962666-96 0-162.986667-80-162.986666-176v-2.986666c0-96 67.968-174.976 162.986666-174.976 55.978667 0 100.010667 23.978667 144 62.976l78.976-91.008c-51.968-50.986667-114.986667-86.997333-220.970666-86.997334-171.989333 0-292.992 130.986667-292.992 290.005334V512c0 160.981333 122.965333 288.981333 288 288.981333 107.989333 1.024 171.989333-36.992 229.973333-98.986666z m527.018667 91.008v-109.994667h-305.024v-118.016h265.002666v-109.994667h-265.002666V340.992h301.013333V230.997333h-422.997333v561.024h427.008v0.981334z\"></path></svg>\\n        </a>\\n        <div id=\"title\">Spot Test Network</div>\\n        \\n    </header>\\n    <div id=\"body\">\\n        <main id=\"content\">\\n            \\n    <div class=\"block\">\\n        <h2>\\n            Something bad happened :(\\n        </h2>\\n    </div>\\n\\n    <div class=\"back\">\\n        <a href=\"/\">Back</a>\\n    </div>\\n\\n        </main>\\n    </div>\\n    <footer id=\"footer\">\\n        <a href=\"/terms\">Terms</a>\\n        |\\n        <a href=\"/privacy\">Privacy</a>\\n        |\\n        &copy; 2017 - 2020 Binance.com. All rights reserved\\n    </footer>\\n</body>\\n</html>\\n<!-- request_id:  -->'"
      ]
     },
     "execution_count": 87,
     "metadata": {},
     "output_type": "execute_result"
    }
   ],
   "source": [
    "#After checking the balance we send the ether to the account address of our profitsplitter.\n",
    "#The profitsplitter should automatically divide the profits and send ether to each team member's wallet.\n",
    "\n",
    "address = '0xf7748a5b4B867293FeC8ec0c3d3f2dCAc29d7a2e'\n",
    "withdraw()\n",
    "\n"
   ]
  },
  {
   "cell_type": "code",
   "execution_count": 88,
   "metadata": {},
   "outputs": [
    {
     "name": "stdout",
     "output_type": "stream",
     "text": [
      "b'{\"code\":-1022,\"msg\":\"Signature for this request is not valid.\"}'\n"
     ]
    },
    {
     "data": {
      "text/plain": [
       "b'{\"code\":-1022,\"msg\":\"Signature for this request is not valid.\"}'"
      ]
     },
     "execution_count": 88,
     "metadata": {},
     "output_type": "execute_result"
    }
   ],
   "source": [
    " get_account_holdings()  "
   ]
  },
  {
   "cell_type": "code",
   "execution_count": null,
   "metadata": {},
   "outputs": [],
   "source": [
    "\n"
   ]
  },
  {
   "cell_type": "code",
   "execution_count": 126,
   "metadata": {},
   "outputs": [
    {
     "ename": "UnboundLocalError",
     "evalue": "local variable 'querystring' referenced before assignment",
     "output_type": "error",
     "traceback": [
      "\u001b[1;31m---------------------------------------------------------------------------\u001b[0m",
      "\u001b[1;31mUnboundLocalError\u001b[0m                         Traceback (most recent call last)",
      "\u001b[1;32m<ipython-input-126-2976cf88378c>\u001b[0m in \u001b[0;36m<module>\u001b[1;34m\u001b[0m\n\u001b[0;32m     35\u001b[0m     \u001b[1;32mreturn\u001b[0m\u001b[1;33m(\u001b[0m\u001b[1;33m(\u001b[0m\u001b[0mresponse\u001b[0m\u001b[1;33m.\u001b[0m\u001b[0mtext\u001b[0m\u001b[1;33m.\u001b[0m\u001b[0mencode\u001b[0m\u001b[1;33m(\u001b[0m\u001b[1;34m'utf8'\u001b[0m\u001b[1;33m)\u001b[0m\u001b[1;33m)\u001b[0m\u001b[1;33m)\u001b[0m\u001b[1;33m\u001b[0m\u001b[1;33m\u001b[0m\u001b[0m\n\u001b[0;32m     36\u001b[0m \u001b[1;33m\u001b[0m\u001b[0m\n\u001b[1;32m---> 37\u001b[1;33m \u001b[0mbuy_ETH\u001b[0m\u001b[1;33m(\u001b[0m\u001b[1;33m)\u001b[0m\u001b[1;33m\u001b[0m\u001b[1;33m\u001b[0m\u001b[0m\n\u001b[0m",
      "\u001b[1;32m<ipython-input-126-2976cf88378c>\u001b[0m in \u001b[0;36mbuy_ETH\u001b[1;34m()\u001b[0m\n\u001b[0;32m     17\u001b[0m     \u001b[1;31m#separate parameters from url\u001b[0m\u001b[1;33m\u001b[0m\u001b[1;33m\u001b[0m\u001b[1;33m\u001b[0m\u001b[0m\n\u001b[0;32m     18\u001b[0m     \u001b[0mquery_string\u001b[0m \u001b[1;33m=\u001b[0m \u001b[1;34mf\"symbol=ETHBUSD&side=BUY&type=MARKET&quantity=1&newClientOrderId=my_order_id_1&newOrderRespType=ACK&timestamp={timestamp}\"\u001b[0m\u001b[1;33m\u001b[0m\u001b[1;33m\u001b[0m\u001b[0m\n\u001b[1;32m---> 19\u001b[1;33m     \u001b[0mquerystring\u001b[0m \u001b[1;33m=\u001b[0m \u001b[0murllib\u001b[0m\u001b[1;33m.\u001b[0m\u001b[0mparse\u001b[0m\u001b[1;33m.\u001b[0m\u001b[0mquote\u001b[0m\u001b[1;33m(\u001b[0m\u001b[0mquerystring\u001b[0m\u001b[1;33m)\u001b[0m\u001b[1;33m\u001b[0m\u001b[1;33m\u001b[0m\u001b[0m\n\u001b[0m\u001b[0;32m     20\u001b[0m \u001b[1;33m\u001b[0m\u001b[0m\n\u001b[0;32m     21\u001b[0m      \u001b[1;31m#use secret key and query string to create signature\u001b[0m\u001b[1;33m\u001b[0m\u001b[1;33m\u001b[0m\u001b[1;33m\u001b[0m\u001b[0m\n",
      "\u001b[1;31mUnboundLocalError\u001b[0m: local variable 'querystring' referenced before assignment"
     ]
    }
   ],
   "source": [
    "import urllib3\n",
    "import urllib.request\n",
    "import urllib.parse\n",
    "\n",
    "\n",
    "def buy_ETH():\n",
    "    \n",
    "    '''Buy request for binance api, this will buy Ether'''\n",
    "    \n",
    "    secret = 'NhqPtmdSJYdKjVHjA7PZj4Mge3R5YNiP1e3UZjInClVN65XAbvqqM6A7H5fATj0j'\n",
    "    \n",
    "    #Get timestamp in milliseconds \n",
    "    timestamp = int(time.time()*1000)\n",
    "  \n",
    "    #timestamp_hashed = hmac.new(secret.encode('utf-8'),(timestamp.encode('utf-8'), hashlib.sha256).hexdigest())\n",
    "   \n",
    "    #separate parameters from url\n",
    "    query_string = f\"symbol=ETHBUSD&side=BUY&type=MARKET&quantity=1&newClientOrderId=my_order_id_1&newOrderRespType=ACK&timestamp={timestamp}\" \n",
    "    query_string = urllib.parse.quote(querystring)\n",
    "    \n",
    "     #use secret key and query string to create signature\n",
    "\n",
    "    signature = hmac.new(secret.encode('utf-8'), query_string.encode('utf-8'), hashlib.sha256).hexdigest()\n",
    "   \n",
    "    url = f\"https://testnet.binance.vision/api/v3/order?symbol=ETHBUSD&side=BUY&type=MARKET&quantity=1&newClientOrderId=my_order_id_1&newOrderRespType=ACK&timestamp={timestamp}&signature={signature}\" \n",
    "\n",
    "    payload = {}\n",
    "    headers = {\n",
    "       'Content-Type': 'application/json',\n",
    "       'X-MBX-APIKEY': 'IfBnaRxLujIJRXGkIgNq2z3g1F8QC9kA59sJ6xRPObURqdCE5jdGDpp8kFv72YcU'\n",
    "     }\n",
    "\n",
    "    response = requests.request(\"POST\", url, headers=headers, data = payload)\n",
    "    #print(response.text.encode('utf8'))\n",
    "    return((response.text.encode('utf8')))\n",
    "\n",
    "buy_ETH()"
   ]
  },
  {
   "cell_type": "code",
   "execution_count": 125,
   "metadata": {},
   "outputs": [
    {
     "data": {
      "text/plain": [
       "'ac411cefa4b695a3298c64f23365490e534e9c558cbe2c5f7f6bf3dff25ec853'"
      ]
     },
     "execution_count": 125,
     "metadata": {},
     "output_type": "execute_result"
    }
   ],
   "source": [
    "import urllib3\n",
    "import urllib.request\n",
    "import urllib.parse\n",
    "\n",
    "\n",
    "api_key = 'IfBnaRxLujIJRXGkIgNq2z3g1F8QC9kA59sJ6xRPObURqdCE5jdGDpp8kFv72YcU'\n",
    "api_secret = 'NhqPtmdSJYdKjVHjA7PZj4Mge3R5YNiP1e3UZjInClVN65XAbvqqM6A7H5fATj0j'\n",
    "request_url = 'https://api.binance.com/api/v3/openOrders?'\n",
    "timestamp = int(time.time() * 1000)\n",
    "symbol = 'BNBBTC'\n",
    "querystring = '{symbol : symbol, timestamp : timestamp}'\n",
    "querystring = urllib.parse.quote(querystring)\n",
    "signature = hmac.new(api_secret.encode('utf-8'), querystring.encode('utf-8'), hashlib.sha256).hexdigest()\n",
    "request_url += querystring + '&signature=' + signature\n",
    "r = requests.get(request_url, headers={\"X-MBX-APIKEY\": api_key})\n",
    "signature"
   ]
  },
  {
   "cell_type": "code",
   "execution_count": null,
   "metadata": {},
   "outputs": [],
   "source": []
  },
  {
   "cell_type": "code",
   "execution_count": null,
   "metadata": {},
   "outputs": [],
   "source": []
  }
 ],
 "metadata": {
  "kernelspec": {
   "display_name": "Python 3",
   "language": "python",
   "name": "python3"
  },
  "language_info": {
   "codemirror_mode": {
    "name": "ipython",
    "version": 3
   },
   "file_extension": ".py",
   "mimetype": "text/x-python",
   "name": "python",
   "nbconvert_exporter": "python",
   "pygments_lexer": "ipython3",
   "version": "3.7.6"
  }
 },
 "nbformat": 4,
 "nbformat_minor": 4
}
