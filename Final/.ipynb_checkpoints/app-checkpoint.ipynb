{
 "cells": [
  {
   "cell_type": "code",
   "execution_count": 1,
   "metadata": {},
   "outputs": [
    {
     "name": "stderr",
     "output_type": "stream",
     "text": [
      "Python-dotenv could not parse statement starting at line 11\n",
      "Python-dotenv could not parse statement starting at line 15\n"
     ]
    }
   ],
   "source": [
    "from alpaca_functions import *\n",
    "import alpaca_functions\n",
    "import stonk_pull \n",
    "import signals\n",
    "import datetime\n",
    "from binance2 import *\n",
    "import binance2\n",
    "import json\n",
    "from datetime import date\n",
    "from time import mktime\n",
    "import time\n",
    "import urllib3\n",
    "import urllib.request\n",
    "import math\n",
    "from dotenv import load_dotenv\n"
   ]
  },
  {
   "cell_type": "code",
   "execution_count": 2,
   "metadata": {},
   "outputs": [],
   "source": [
    "# This simulates holding a current bank account that can send and receive\n",
    "# money via ACH transfers to and from Alpaca\n",
    "# We are assuming we have 100,000 in the bank and we are sending 100,000 to our alpaca algorithm\n",
    "\n",
    "#We will be using STRIPE as our shared bank account, see stripe.py \n",
    "\n",
    "beginning_deposit = 100000\n",
    "\n",
    "bank_balance = 100000\n",
    "\n",
    "send_to_alpaca_amount = 100000\n",
    "\n",
    "withdraw_from_alpaca_amount = 0\n",
    "\n",
    "binance_balance = 0\n",
    "\n",
    "profits = 0"
   ]
  },
  {
   "cell_type": "code",
   "execution_count": 3,
   "metadata": {},
   "outputs": [
    {
     "name": "stderr",
     "output_type": "stream",
     "text": [
      "Python-dotenv could not parse statement starting at line 11\n",
      "Python-dotenv could not parse statement starting at line 15\n",
      "C:\\Users\\costa\\desktop\\byte\\rice\\ru-hou-fin-pt-03-2020-u-c\\Project3_DoH\\Final\\stonk_pull.py:16: UserWarning: Make sure your api keys are renamed to fit this function or alter the function to fit your names\n",
      "  warnings.warn('Make sure your api keys are renamed to fit this function or alter the function to fit your names')\n"
     ]
    }
   ],
   "source": [
    "#load alpaca api keys\n",
    "api = stonk_pull.load()\n"
   ]
  },
  {
   "cell_type": "code",
   "execution_count": 4,
   "metadata": {},
   "outputs": [
    {
     "name": "stdout",
     "output_type": "stream",
     "text": [
      "\n",
      "Transfer to alpaca successful. Your bank balance is now 0 dollars\n",
      "\n"
     ]
    },
    {
     "data": {
      "text/plain": [
       "0"
      ]
     },
     "execution_count": 4,
     "metadata": {},
     "output_type": "execute_result"
    }
   ],
   "source": [
    "# Send money to alpaca. This function calculates a new bank balance after we send money to alpaca\n",
    "# In reality this would be an ACH transfer from our bank to alpaca.\n",
    "bank_balance = send_to_alpaca(send_to_alpaca_amount, bank_balance)\n",
    "bank_balance"
   ]
  },
  {
   "cell_type": "code",
   "execution_count": 5,
   "metadata": {},
   "outputs": [
    {
     "data": {
      "text/html": [
       "<div>\n",
       "<style scoped>\n",
       "    .dataframe tbody tr th:only-of-type {\n",
       "        vertical-align: middle;\n",
       "    }\n",
       "\n",
       "    .dataframe tbody tr th {\n",
       "        vertical-align: top;\n",
       "    }\n",
       "\n",
       "    .dataframe thead th {\n",
       "        text-align: right;\n",
       "    }\n",
       "</style>\n",
       "<table border=\"1\" class=\"dataframe\">\n",
       "  <thead>\n",
       "    <tr style=\"text-align: right;\">\n",
       "      <th></th>\n",
       "      <th>SPY Open</th>\n",
       "      <th>SPY High</th>\n",
       "      <th>SPY Low</th>\n",
       "      <th>SPY Close</th>\n",
       "      <th>SPY Adjusted Close</th>\n",
       "      <th>SPY Volume</th>\n",
       "      <th>SPY Dividend Amount</th>\n",
       "      <th>SPY Split Coefficient</th>\n",
       "    </tr>\n",
       "    <tr>\n",
       "      <th>date</th>\n",
       "      <th></th>\n",
       "      <th></th>\n",
       "      <th></th>\n",
       "      <th></th>\n",
       "      <th></th>\n",
       "      <th></th>\n",
       "      <th></th>\n",
       "      <th></th>\n",
       "    </tr>\n",
       "  </thead>\n",
       "  <tbody>\n",
       "    <tr>\n",
       "      <th>2020-08-24</th>\n",
       "      <td>342.12</td>\n",
       "      <td>343.00</td>\n",
       "      <td>339.4504</td>\n",
       "      <td>342.92</td>\n",
       "      <td>342.92</td>\n",
       "      <td>48588662.0</td>\n",
       "      <td>0.0</td>\n",
       "      <td>1.0</td>\n",
       "    </tr>\n",
       "    <tr>\n",
       "      <th>2020-08-21</th>\n",
       "      <td>337.92</td>\n",
       "      <td>339.72</td>\n",
       "      <td>337.5500</td>\n",
       "      <td>339.48</td>\n",
       "      <td>339.48</td>\n",
       "      <td>55106628.0</td>\n",
       "      <td>0.0</td>\n",
       "      <td>1.0</td>\n",
       "    </tr>\n",
       "    <tr>\n",
       "      <th>2020-08-20</th>\n",
       "      <td>335.36</td>\n",
       "      <td>338.80</td>\n",
       "      <td>335.2200</td>\n",
       "      <td>338.28</td>\n",
       "      <td>338.28</td>\n",
       "      <td>42207826.0</td>\n",
       "      <td>0.0</td>\n",
       "      <td>1.0</td>\n",
       "    </tr>\n",
       "    <tr>\n",
       "      <th>2020-08-19</th>\n",
       "      <td>339.05</td>\n",
       "      <td>339.61</td>\n",
       "      <td>336.6200</td>\n",
       "      <td>337.23</td>\n",
       "      <td>337.23</td>\n",
       "      <td>68054244.0</td>\n",
       "      <td>0.0</td>\n",
       "      <td>1.0</td>\n",
       "    </tr>\n",
       "    <tr>\n",
       "      <th>2020-08-18</th>\n",
       "      <td>338.34</td>\n",
       "      <td>339.10</td>\n",
       "      <td>336.6100</td>\n",
       "      <td>338.64</td>\n",
       "      <td>338.64</td>\n",
       "      <td>38733908.0</td>\n",
       "      <td>0.0</td>\n",
       "      <td>1.0</td>\n",
       "    </tr>\n",
       "  </tbody>\n",
       "</table>\n",
       "</div>"
      ],
      "text/plain": [
       "            SPY Open  SPY High   SPY Low  SPY Close  SPY Adjusted Close  \\\n",
       "date                                                                      \n",
       "2020-08-24    342.12    343.00  339.4504     342.92              342.92   \n",
       "2020-08-21    337.92    339.72  337.5500     339.48              339.48   \n",
       "2020-08-20    335.36    338.80  335.2200     338.28              338.28   \n",
       "2020-08-19    339.05    339.61  336.6200     337.23              337.23   \n",
       "2020-08-18    338.34    339.10  336.6100     338.64              338.64   \n",
       "\n",
       "            SPY Volume  SPY Dividend Amount  SPY Split Coefficient  \n",
       "date                                                                \n",
       "2020-08-24  48588662.0                  0.0                    1.0  \n",
       "2020-08-21  55106628.0                  0.0                    1.0  \n",
       "2020-08-20  42207826.0                  0.0                    1.0  \n",
       "2020-08-19  68054244.0                  0.0                    1.0  \n",
       "2020-08-18  38733908.0                  0.0                    1.0  "
      ]
     },
     "execution_count": 5,
     "metadata": {},
     "output_type": "execute_result"
    }
   ],
   "source": [
    "#Pull the data from alphavantage\n",
    "data = stonk_pull.data_pull(api)\n",
    "data.head()"
   ]
  },
  {
   "cell_type": "code",
   "execution_count": 6,
   "metadata": {},
   "outputs": [
    {
     "data": {
      "text/html": [
       "<div>\n",
       "<style scoped>\n",
       "    .dataframe tbody tr th:only-of-type {\n",
       "        vertical-align: middle;\n",
       "    }\n",
       "\n",
       "    .dataframe tbody tr th {\n",
       "        vertical-align: top;\n",
       "    }\n",
       "\n",
       "    .dataframe thead th {\n",
       "        text-align: right;\n",
       "    }\n",
       "</style>\n",
       "<table border=\"1\" class=\"dataframe\">\n",
       "  <thead>\n",
       "    <tr style=\"text-align: right;\">\n",
       "      <th></th>\n",
       "      <th>SPY Open</th>\n",
       "      <th>SPY Close</th>\n",
       "      <th>SPY Volume</th>\n",
       "    </tr>\n",
       "    <tr>\n",
       "      <th>date</th>\n",
       "      <th></th>\n",
       "      <th></th>\n",
       "      <th></th>\n",
       "    </tr>\n",
       "  </thead>\n",
       "  <tbody>\n",
       "    <tr>\n",
       "      <th>2020-08-24</th>\n",
       "      <td>342.12</td>\n",
       "      <td>342.92</td>\n",
       "      <td>48588662.0</td>\n",
       "    </tr>\n",
       "    <tr>\n",
       "      <th>2020-08-21</th>\n",
       "      <td>337.92</td>\n",
       "      <td>339.48</td>\n",
       "      <td>55106628.0</td>\n",
       "    </tr>\n",
       "    <tr>\n",
       "      <th>2020-08-20</th>\n",
       "      <td>335.36</td>\n",
       "      <td>338.28</td>\n",
       "      <td>42207826.0</td>\n",
       "    </tr>\n",
       "    <tr>\n",
       "      <th>2020-08-19</th>\n",
       "      <td>339.05</td>\n",
       "      <td>337.23</td>\n",
       "      <td>68054244.0</td>\n",
       "    </tr>\n",
       "    <tr>\n",
       "      <th>2020-08-18</th>\n",
       "      <td>338.34</td>\n",
       "      <td>338.64</td>\n",
       "      <td>38733908.0</td>\n",
       "    </tr>\n",
       "  </tbody>\n",
       "</table>\n",
       "</div>"
      ],
      "text/plain": [
       "            SPY Open  SPY Close  SPY Volume\n",
       "date                                       \n",
       "2020-08-24    342.12     342.92  48588662.0\n",
       "2020-08-21    337.92     339.48  55106628.0\n",
       "2020-08-20    335.36     338.28  42207826.0\n",
       "2020-08-19    339.05     337.23  68054244.0\n",
       "2020-08-18    338.34     338.64  38733908.0"
      ]
     },
     "execution_count": 6,
     "metadata": {},
     "output_type": "execute_result"
    }
   ],
   "source": [
    "#Clean the data\n",
    "stock_data_df = stonk_pull.data_clean(data)\n",
    "stock_data_df.head()\n"
   ]
  },
  {
   "cell_type": "code",
   "execution_count": 7,
   "metadata": {},
   "outputs": [
    {
     "data": {
      "text/html": [
       "<div>\n",
       "<style scoped>\n",
       "    .dataframe tbody tr th:only-of-type {\n",
       "        vertical-align: middle;\n",
       "    }\n",
       "\n",
       "    .dataframe tbody tr th {\n",
       "        vertical-align: top;\n",
       "    }\n",
       "\n",
       "    .dataframe thead th {\n",
       "        text-align: right;\n",
       "    }\n",
       "</style>\n",
       "<table border=\"1\" class=\"dataframe\">\n",
       "  <thead>\n",
       "    <tr style=\"text-align: right;\">\n",
       "      <th></th>\n",
       "      <th>SPY Open</th>\n",
       "      <th>SPY Close</th>\n",
       "      <th>SPY Volume</th>\n",
       "    </tr>\n",
       "    <tr>\n",
       "      <th>date</th>\n",
       "      <th></th>\n",
       "      <th></th>\n",
       "      <th></th>\n",
       "    </tr>\n",
       "  </thead>\n",
       "  <tbody>\n",
       "    <tr>\n",
       "      <th>1999-11-01</th>\n",
       "      <td>136.5000</td>\n",
       "      <td>135.5625</td>\n",
       "      <td>4006500.0</td>\n",
       "    </tr>\n",
       "    <tr>\n",
       "      <th>1999-11-02</th>\n",
       "      <td>135.9687</td>\n",
       "      <td>134.5937</td>\n",
       "      <td>6516900.0</td>\n",
       "    </tr>\n",
       "    <tr>\n",
       "      <th>1999-11-03</th>\n",
       "      <td>136.0000</td>\n",
       "      <td>135.5000</td>\n",
       "      <td>7222300.0</td>\n",
       "    </tr>\n",
       "    <tr>\n",
       "      <th>1999-11-04</th>\n",
       "      <td>136.7500</td>\n",
       "      <td>136.5312</td>\n",
       "      <td>7907500.0</td>\n",
       "    </tr>\n",
       "    <tr>\n",
       "      <th>1999-11-05</th>\n",
       "      <td>138.6250</td>\n",
       "      <td>137.8750</td>\n",
       "      <td>7431500.0</td>\n",
       "    </tr>\n",
       "  </tbody>\n",
       "</table>\n",
       "</div>"
      ],
      "text/plain": [
       "            SPY Open  SPY Close  SPY Volume\n",
       "date                                       \n",
       "1999-11-01  136.5000   135.5625   4006500.0\n",
       "1999-11-02  135.9687   134.5937   6516900.0\n",
       "1999-11-03  136.0000   135.5000   7222300.0\n",
       "1999-11-04  136.7500   136.5312   7907500.0\n",
       "1999-11-05  138.6250   137.8750   7431500.0"
      ]
     },
     "execution_count": 7,
     "metadata": {},
     "output_type": "execute_result"
    }
   ],
   "source": [
    "#Sort earliest to latest.\n",
    "stock_data_df.sort_index(inplace=True, ascending=True)\n",
    "stock_data_df.head()\n"
   ]
  },
  {
   "cell_type": "code",
   "execution_count": 8,
   "metadata": {},
   "outputs": [
    {
     "data": {
      "text/html": [
       "<div>\n",
       "<style scoped>\n",
       "    .dataframe tbody tr th:only-of-type {\n",
       "        vertical-align: middle;\n",
       "    }\n",
       "\n",
       "    .dataframe tbody tr th {\n",
       "        vertical-align: top;\n",
       "    }\n",
       "\n",
       "    .dataframe thead th {\n",
       "        text-align: right;\n",
       "    }\n",
       "</style>\n",
       "<table border=\"1\" class=\"dataframe\">\n",
       "  <thead>\n",
       "    <tr style=\"text-align: right;\">\n",
       "      <th></th>\n",
       "      <th>SPY Close</th>\n",
       "    </tr>\n",
       "    <tr>\n",
       "      <th>date</th>\n",
       "      <th></th>\n",
       "    </tr>\n",
       "  </thead>\n",
       "  <tbody>\n",
       "    <tr>\n",
       "      <th>1999-11-01</th>\n",
       "      <td>135.5625</td>\n",
       "    </tr>\n",
       "    <tr>\n",
       "      <th>1999-11-02</th>\n",
       "      <td>134.5937</td>\n",
       "    </tr>\n",
       "    <tr>\n",
       "      <th>1999-11-03</th>\n",
       "      <td>135.5000</td>\n",
       "    </tr>\n",
       "    <tr>\n",
       "      <th>1999-11-04</th>\n",
       "      <td>136.5312</td>\n",
       "    </tr>\n",
       "    <tr>\n",
       "      <th>1999-11-05</th>\n",
       "      <td>137.8750</td>\n",
       "    </tr>\n",
       "  </tbody>\n",
       "</table>\n",
       "</div>"
      ],
      "text/plain": [
       "            SPY Close\n",
       "date                 \n",
       "1999-11-01   135.5625\n",
       "1999-11-02   134.5937\n",
       "1999-11-03   135.5000\n",
       "1999-11-04   136.5312\n",
       "1999-11-05   137.8750"
      ]
     },
     "execution_count": 8,
     "metadata": {},
     "output_type": "execute_result"
    }
   ],
   "source": [
    "#To set up the crossover strategy select the one column we need, \"Close\", and set to dataframe\n",
    "signals_df = stock_data_df['SPY Close'].to_frame()\n",
    "signals_df.head()"
   ]
  },
  {
   "cell_type": "code",
   "execution_count": 9,
   "metadata": {},
   "outputs": [
    {
     "data": {
      "text/html": [
       "<div>\n",
       "<style scoped>\n",
       "    .dataframe tbody tr th:only-of-type {\n",
       "        vertical-align: middle;\n",
       "    }\n",
       "\n",
       "    .dataframe tbody tr th {\n",
       "        vertical-align: top;\n",
       "    }\n",
       "\n",
       "    .dataframe thead th {\n",
       "        text-align: right;\n",
       "    }\n",
       "</style>\n",
       "<table border=\"1\" class=\"dataframe\">\n",
       "  <thead>\n",
       "    <tr style=\"text-align: right;\">\n",
       "      <th></th>\n",
       "      <th>SPY Close</th>\n",
       "      <th>SMA2</th>\n",
       "      <th>SMA13</th>\n",
       "      <th>Signal</th>\n",
       "      <th>Buy/Sell</th>\n",
       "    </tr>\n",
       "    <tr>\n",
       "      <th>date</th>\n",
       "      <th></th>\n",
       "      <th></th>\n",
       "      <th></th>\n",
       "      <th></th>\n",
       "      <th></th>\n",
       "    </tr>\n",
       "  </thead>\n",
       "  <tbody>\n",
       "    <tr>\n",
       "      <th>1999-11-01</th>\n",
       "      <td>135.5625</td>\n",
       "      <td>NaN</td>\n",
       "      <td>NaN</td>\n",
       "      <td>0.0</td>\n",
       "      <td>NaN</td>\n",
       "    </tr>\n",
       "    <tr>\n",
       "      <th>1999-11-02</th>\n",
       "      <td>134.5937</td>\n",
       "      <td>135.07810</td>\n",
       "      <td>NaN</td>\n",
       "      <td>0.0</td>\n",
       "      <td>0.0</td>\n",
       "    </tr>\n",
       "    <tr>\n",
       "      <th>1999-11-03</th>\n",
       "      <td>135.5000</td>\n",
       "      <td>135.04685</td>\n",
       "      <td>NaN</td>\n",
       "      <td>0.0</td>\n",
       "      <td>0.0</td>\n",
       "    </tr>\n",
       "    <tr>\n",
       "      <th>1999-11-04</th>\n",
       "      <td>136.5312</td>\n",
       "      <td>136.01560</td>\n",
       "      <td>NaN</td>\n",
       "      <td>0.0</td>\n",
       "      <td>0.0</td>\n",
       "    </tr>\n",
       "    <tr>\n",
       "      <th>1999-11-05</th>\n",
       "      <td>137.8750</td>\n",
       "      <td>137.20310</td>\n",
       "      <td>NaN</td>\n",
       "      <td>0.0</td>\n",
       "      <td>0.0</td>\n",
       "    </tr>\n",
       "    <tr>\n",
       "      <th>...</th>\n",
       "      <td>...</td>\n",
       "      <td>...</td>\n",
       "      <td>...</td>\n",
       "      <td>...</td>\n",
       "      <td>...</td>\n",
       "    </tr>\n",
       "    <tr>\n",
       "      <th>2020-08-18</th>\n",
       "      <td>338.6400</td>\n",
       "      <td>338.27500</td>\n",
       "      <td>334.031538</td>\n",
       "      <td>1.0</td>\n",
       "      <td>0.0</td>\n",
       "    </tr>\n",
       "    <tr>\n",
       "      <th>2020-08-19</th>\n",
       "      <td>337.2300</td>\n",
       "      <td>337.93500</td>\n",
       "      <td>334.855385</td>\n",
       "      <td>1.0</td>\n",
       "      <td>0.0</td>\n",
       "    </tr>\n",
       "    <tr>\n",
       "      <th>2020-08-20</th>\n",
       "      <td>338.2800</td>\n",
       "      <td>337.75500</td>\n",
       "      <td>335.585385</td>\n",
       "      <td>1.0</td>\n",
       "      <td>0.0</td>\n",
       "    </tr>\n",
       "    <tr>\n",
       "      <th>2020-08-21</th>\n",
       "      <td>339.4800</td>\n",
       "      <td>338.88000</td>\n",
       "      <td>336.310000</td>\n",
       "      <td>1.0</td>\n",
       "      <td>0.0</td>\n",
       "    </tr>\n",
       "    <tr>\n",
       "      <th>2020-08-24</th>\n",
       "      <td>342.9200</td>\n",
       "      <td>341.20000</td>\n",
       "      <td>337.141538</td>\n",
       "      <td>1.0</td>\n",
       "      <td>0.0</td>\n",
       "    </tr>\n",
       "  </tbody>\n",
       "</table>\n",
       "<p>5237 rows × 5 columns</p>\n",
       "</div>"
      ],
      "text/plain": [
       "            SPY Close       SMA2       SMA13  Signal  Buy/Sell\n",
       "date                                                          \n",
       "1999-11-01   135.5625        NaN         NaN     0.0       NaN\n",
       "1999-11-02   134.5937  135.07810         NaN     0.0       0.0\n",
       "1999-11-03   135.5000  135.04685         NaN     0.0       0.0\n",
       "1999-11-04   136.5312  136.01560         NaN     0.0       0.0\n",
       "1999-11-05   137.8750  137.20310         NaN     0.0       0.0\n",
       "...               ...        ...         ...     ...       ...\n",
       "2020-08-18   338.6400  338.27500  334.031538     1.0       0.0\n",
       "2020-08-19   337.2300  337.93500  334.855385     1.0       0.0\n",
       "2020-08-20   338.2800  337.75500  335.585385     1.0       0.0\n",
       "2020-08-21   339.4800  338.88000  336.310000     1.0       0.0\n",
       "2020-08-24   342.9200  341.20000  337.141538     1.0       0.0\n",
       "\n",
       "[5237 rows x 5 columns]"
      ]
     },
     "execution_count": 9,
     "metadata": {},
     "output_type": "execute_result"
    }
   ],
   "source": [
    "#This function generates the signals dataframe\n",
    "signals.generate_sma2_sma13_signals(signals_df)"
   ]
  },
  {
   "cell_type": "code",
   "execution_count": 10,
   "metadata": {},
   "outputs": [
    {
     "name": "stdout",
     "output_type": "stream",
     "text": [
      "The signal is hold. No action taken\n",
      "Current positions are: [Position({   'asset_class': 'us_equity',\n",
      "    'asset_id': 'b28f4066-5c6d-479b-a2af-85dc1a8f16fb',\n",
      "    'avg_entry_price': '343.2',\n",
      "    'change_today': '0.0020704537501458',\n",
      "    'cost_basis': '99871.2',\n",
      "    'current_price': '343.63',\n",
      "    'exchange': 'ARCA',\n",
      "    'lastday_price': '342.92',\n",
      "    'market_value': '99996.33',\n",
      "    'qty': '291',\n",
      "    'side': 'long',\n",
      "    'symbol': 'SPY',\n",
      "    'unrealized_intraday_pl': '125.13',\n",
      "    'unrealized_intraday_plpc': '0.0012529137529138',\n",
      "    'unrealized_pl': '125.13',\n",
      "    'unrealized_plpc': '0.0012529137529138'})]\n"
     ]
    }
   ],
   "source": [
    "#Send Buy and Sell orders to alpaca using the signal, 1 = buy, -1 = sell, 0 = hold\n",
    "\n",
    "if signals_df['Buy/Sell'].iloc[-1] == 1.0:\n",
    "    symbol = \"SPY\"\n",
    "    alpaca_functions.buy(symbol)\n",
    "    \n",
    "elif signals_df['Buy/Sell'].iloc[-1] == -1.0:\n",
    "    symbol = \"SPY\"\n",
    "    alpaca_functions.sell_all(symbol)\n",
    "    \n",
    "elif signals_df['Buy/Sell'].iloc[-1] == 0.0:\n",
    "    print(\"The signal is hold. No action taken\")\n",
    "\n",
    "print(f\"Current positions are: {api.list_positions()}\")"
   ]
  },
  {
   "cell_type": "code",
   "execution_count": 14,
   "metadata": {},
   "outputs": [
    {
     "name": "stdout",
     "output_type": "stream",
     "text": [
      "Your withdrawal from alpaca was successful. Your new bank balance is $877.3999999999942\n"
     ]
    }
   ],
   "source": [
    "#On the first of the month we will send our profits from alpaca to the bank\n",
    "\n",
    "day_of_month = (date.today()).strftime(\"%d\")\n",
    "\n",
    "if day_of_month == '25':\n",
    "    bank_balance = transfer_profits_from_alpaca(bank_balance, beginning_deposit)\n",
    "else:\n",
    "    print(\"No profits were transferred to the bank from alpaca today.\")  \n",
    "    \n",
    "\n"
   ]
  },
  {
   "cell_type": "code",
   "execution_count": 15,
   "metadata": {},
   "outputs": [
    {
     "data": {
      "text/plain": [
       "877.3999999999942"
      ]
     },
     "execution_count": 15,
     "metadata": {},
     "output_type": "execute_result"
    }
   ],
   "source": [
    "bank_balance"
   ]
  },
  {
   "cell_type": "code",
   "execution_count": 16,
   "metadata": {},
   "outputs": [
    {
     "name": "stdout",
     "output_type": "stream",
     "text": [
      "\n",
      "Transfer to Binance successful. Your binance_balance is now 877.3999999999942.\n",
      "Your bank balance is now 0.\n",
      "bank balance: 0\n",
      "binance balance: 877.3999999999942\n"
     ]
    },
    {
     "data": {
      "text/plain": [
       "[0, 877.3999999999942]"
      ]
     },
     "execution_count": 16,
     "metadata": {},
     "output_type": "execute_result"
    }
   ],
   "source": [
    "#On the second day of the month we will send our profits from our bank to the binance cryptoexchange\n",
    "\n",
    "day_of_month = (date.today()).strftime(\"%d\")\n",
    "\n",
    "#If the the day of the month is 2, we transfer profits to binance and recalculate the bank balance and binance balance\n",
    "\n",
    "if day_of_month == '25':\n",
    "    #transfer function returns a list with the new bank balance and the new binance balance\n",
    "    balances = transfer_profits_to_exchange(bank_balance, binance_balance)\n",
    "    \n",
    "    #set the new bank and the new binance balances\n",
    "    bank_balance = balances[0]\n",
    "    binance_balance = balances[1]\n",
    "    \n",
    "else:\n",
    "    print(\"No profits were transferred from the bank to binance today.\")  \n",
    "\n",
    "print(\"bank balance:\", bank_balance)\n",
    "print(\"binance balance:\", binance_balance)\n"
   ]
  },
  {
   "cell_type": "code",
   "execution_count": 17,
   "metadata": {},
   "outputs": [
    {
     "data": {
      "text/plain": [
       "407.4"
      ]
     },
     "execution_count": 17,
     "metadata": {},
     "output_type": "execute_result"
    }
   ],
   "source": [
    "# Get price for ETH through binance api\n",
    "eth_price = get_eth_price()\n",
    "eth_price = float(eth_price)\n",
    "eth_price"
   ]
  },
  {
   "cell_type": "code",
   "execution_count": 18,
   "metadata": {},
   "outputs": [
    {
     "data": {
      "text/plain": [
       "2"
      ]
     },
     "execution_count": 18,
     "metadata": {},
     "output_type": "execute_result"
    }
   ],
   "source": [
    "\n",
    "\n",
    "#Calculate number of ether to buy, round down to nearest integer because binance does not support fractional buys\n",
    "quantity = math.floor(binance_balance/eth_price)\n",
    "quantity\n"
   ]
  },
  {
   "cell_type": "code",
   "execution_count": 21,
   "metadata": {},
   "outputs": [
    {
     "name": "stdout",
     "output_type": "stream",
     "text": [
      "b'{\"symbol\":\"ETHBUSD\",\"orderId\":38,\"orderListId\":-1,\"clientOrderId\":\"my_order_id_1\",\"transactTime\":1598381542846}'\n"
     ]
    },
    {
     "data": {
      "text/plain": [
       "b'{\"symbol\":\"ETHBUSD\",\"orderId\":38,\"orderListId\":-1,\"clientOrderId\":\"my_order_id_1\",\"transactTime\":1598381542846}'"
      ]
     },
     "execution_count": 21,
     "metadata": {},
     "output_type": "execute_result"
    }
   ],
   "source": [
    "#This buys shares of ETH \n",
    "\n",
    "buy_ETH(quantity)"
   ]
  },
  {
   "cell_type": "code",
   "execution_count": 22,
   "metadata": {},
   "outputs": [
    {
     "name": "stdout",
     "output_type": "stream",
     "text": [
      "This is your account information and current holdings\n"
     ]
    },
    {
     "data": {
      "text/plain": [
       "{'makerCommission': 0,\n",
       " 'takerCommission': 0,\n",
       " 'buyerCommission': 0,\n",
       " 'sellerCommission': 0,\n",
       " 'canTrade': True,\n",
       " 'canWithdraw': False,\n",
       " 'canDeposit': False,\n",
       " 'updateTime': 1598381542846,\n",
       " 'accountType': 'SPOT',\n",
       " 'balances': [{'asset': 'BNB',\n",
       "   'free': '1000.00000000',\n",
       "   'locked': '0.00000000'},\n",
       "  {'asset': 'BTC', 'free': '0.99000000', 'locked': '0.00000000'},\n",
       "  {'asset': 'BUSD', 'free': '5558.07298600', 'locked': '0.00000000'},\n",
       "  {'asset': 'ETH', 'free': '110.90311000', 'locked': '0.00000000'},\n",
       "  {'asset': 'LTC', 'free': '500.00000000', 'locked': '0.00000000'},\n",
       "  {'asset': 'TRX', 'free': '500000.00000000', 'locked': '0.00000000'},\n",
       "  {'asset': 'USDT', 'free': '10400.00000000', 'locked': '0.00000000'},\n",
       "  {'asset': 'XRP', 'free': '50000.00000000', 'locked': '0.00000000'}],\n",
       " 'permissions': ['SPOT']}"
      ]
     },
     "execution_count": 22,
     "metadata": {},
     "output_type": "execute_result"
    }
   ],
   "source": [
    "#check account holdings\n",
    "holdings = get_account_holdings()\n",
    "\n",
    "#convert bytes object to string\n",
    "holdings = holdings.decode(\"utf-8\") \n",
    "    \n",
    "#convert str to json\n",
    "print(f\"This is your account information and current holdings\")\n",
    "holdings = json.loads(holdings)\n",
    "holdings"
   ]
  },
  {
   "cell_type": "code",
   "execution_count": null,
   "metadata": {},
   "outputs": [],
   "source": [
    "#check recent trades to see if trade went through\n",
    "recent_trades = json.loads((check_recent_trades()).decode('utf-8'))\n",
    "recent_trades"
   ]
  },
  {
   "cell_type": "code",
   "execution_count": null,
   "metadata": {},
   "outputs": [],
   "source": [
    "#After checking the balance we send the ether to the account address of our profitsplitter.\n",
    "#The profitsplitter should automatically divide the profits and send ether to each team member's wallet.\n",
    "\n",
    "quantity = 7\n",
    "#profit splitter address deployed on the Ropsten test network\n",
    "address = '0xf7748a5b4B867293FeC8ec0c3d3f2dCAc29d7a2e'\n",
    "\n",
    "#Note: This withdraw function will not work on the testnet but should work on the live binance api\n",
    "withdraw(quantity)\n",
    "\n"
   ]
  },
  {
   "cell_type": "code",
   "execution_count": null,
   "metadata": {},
   "outputs": [],
   "source": [
    "#The we check account holdings again to make sure the withdrawal was completed.\n",
    "holdings = get_account_holdings()\n",
    "\n",
    "#convert bytes object to string\n",
    "holdings = holdings.decode(\"utf-8\") \n",
    "    \n",
    "#convert str to json\n",
    "print(f\"This is your account information and current holdings\")\n",
    "holdings = json.loads(holdings)\n",
    "holdings"
   ]
  },
  {
   "cell_type": "code",
   "execution_count": null,
   "metadata": {},
   "outputs": [],
   "source": [
    "#Since we cannot use the withdraw function to send ether to our profitsplitter we use web3 instead.\n",
    "\n",
    "from web3 import Web3, HTTPProvider\n",
    "import json\n",
    "    \n",
    "from web3 import Web3 \n",
    "# from web3.middleware import geth_poa_middleware\n",
    "from dotenv import load_dotenv\n",
    "from eth_account import Account\n",
    "from pathlib import Path \n",
    "from getpass import getpass\n",
    "load_dotenv()\n",
    "import os\n",
    "\n",
    "w3 = Web3(Web3.HTTPProvider(\"http://127.0.0.1:8545\"))\n",
    "# w3.middleware_onion.inject(geth_poa_middleware, layer=0)\n",
    "\n",
    "private_key = os.getenv(\"private_key\")\n",
    "\n",
    "\n",
    "account_one = Account.from_key(secret_key)\n",
    "\n",
    "\n",
    "def create_raw_tx(account, recipient, amount):\n",
    "    \"\"\"Sets up dict for a transaction\"\"\"\n",
    "\n",
    "    gasEstimate = w3.eth.estimateGas({\n",
    "        \"from\":account.address,\n",
    "        \"to\":recipient,\n",
    "        \"value\":amount\n",
    "    })\n",
    "\n",
    "    return {\n",
    "        \"from\":account.address,\n",
    "        \"to\":recipient,\n",
    "        \"value\":amount,\n",
    "        \"gasPrice\":w3.eth.gasPrice,\n",
    "        \"gas\":gasEstimate,\n",
    "        \"nonce\": w3.eth.getTransactionCount(account.address)\n",
    "        }\n",
    "\n",
    "def send_tx(account, recipient, amount):\n",
    "    \"\"\"Transforms raw_tx and sends on network using w3\"\"\"\n",
    "\n",
    "    tx = create_raw_tx(account, recipient,amount)\n",
    "    signed_tx = account.sign_transaction(tx)\n",
    "    result = w3.eth.sendRawTransaction(signed_tx.rawTransaction)\n",
    "\n",
    "    print(result.hex())\n",
    "    return result.hex()\n",
    "\n",
    "\n",
    "send_tx(account_one, \"0x8AFbDa01e8eb1d90035c4820ae385c365C6E2f96\", int(50*10e-18))\n",
    "\n",
    "print(w3.eth.blockNumber)\n",
    "\n",
    "\n",
    "print(w3.eth.getBalance(\"0x06297Fe891046c0Bfaaf3577259CEc070E66103a\"))\n"
   ]
  },
  {
   "cell_type": "code",
   "execution_count": null,
   "metadata": {},
   "outputs": [],
   "source": [
    "account_one.address\n"
   ]
  },
  {
   "cell_type": "code",
   "execution_count": null,
   "metadata": {},
   "outputs": [],
   "source": [
    "account = api.get_account()\n",
    "cash = float(account.cash)\n",
    "cash\n"
   ]
  },
  {
   "cell_type": "code",
   "execution_count": null,
   "metadata": {},
   "outputs": [],
   "source": [
    "api.get_position('SPY').current_price\n"
   ]
  },
  {
   "cell_type": "code",
   "execution_count": null,
   "metadata": {},
   "outputs": [],
   "source": []
  },
  {
   "cell_type": "code",
   "execution_count": null,
   "metadata": {},
   "outputs": [],
   "source": [
    "bank_balance = 850\n",
    "binance_balance = 0\n",
    "\n"
   ]
  },
  {
   "cell_type": "code",
   "execution_count": null,
   "metadata": {},
   "outputs": [],
   "source": [
    "balances[0]"
   ]
  },
  {
   "cell_type": "code",
   "execution_count": null,
   "metadata": {},
   "outputs": [],
   "source": [
    "balances[1]"
   ]
  },
  {
   "cell_type": "code",
   "execution_count": null,
   "metadata": {},
   "outputs": [],
   "source": []
  }
 ],
 "metadata": {
  "kernelspec": {
   "display_name": "Python 3",
   "language": "python",
   "name": "python3"
  },
  "language_info": {
   "codemirror_mode": {
    "name": "ipython",
    "version": 3
   },
   "file_extension": ".py",
   "mimetype": "text/x-python",
   "name": "python",
   "nbconvert_exporter": "python",
   "pygments_lexer": "ipython3",
   "version": "3.7.6"
  }
 },
 "nbformat": 4,
 "nbformat_minor": 4
}
