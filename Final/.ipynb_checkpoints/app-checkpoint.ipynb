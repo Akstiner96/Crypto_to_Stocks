{
 "cells": [
  {
   "cell_type": "code",
   "execution_count": 2,
   "metadata": {},
   "outputs": [],
   "source": [
    "from alpaca_functions import *\n",
    "import alpaca_functions\n",
    "import stonk_pull \n",
    "import signals\n",
    "import datetime\n",
    "from binance import *\n",
    "import binance\n",
    "import json"
   ]
  },
  {
   "cell_type": "code",
   "execution_count": 3,
   "metadata": {},
   "outputs": [],
   "source": [
    "# This simulates holding a current bank account that can send and receive\n",
    "# money via ACH transfers to and from Alpaca\n",
    "# We are assuming we have 100,000 in the bank and we are sending 100,000 to our alpaca algorithm\n",
    "\n",
    "#We will be using STRIPE as our shared bank account, see stripe.py \n",
    "\n",
    "beginning_deposit = 100000\n",
    "\n",
    "bank_balance = 100000\n",
    "\n",
    "send_to_alpaca_amount = 100000\n",
    "\n",
    "withdraw_from_alpaca_amount = 0\n",
    "\n",
    "binance_balance = 0\n",
    "\n",
    "profits = 0"
   ]
  },
  {
   "cell_type": "code",
   "execution_count": 4,
   "metadata": {},
   "outputs": [
    {
     "name": "stderr",
     "output_type": "stream",
     "text": [
      "C:\\Users\\costa\\desktop\\byte\\rice\\ru-hou-fin-pt-03-2020-u-c\\Project3_Doh\\Final\\stonk_pull.py:16: UserWarning: Make sure your api keys are renamed to fit this function or alter the function to fit your names\n",
      "  warnings.warn('Make sure your api keys are renamed to fit this function or alter the function to fit your names')\n"
     ]
    }
   ],
   "source": [
    "#load alpaca api keys\n",
    "api = stonk_pull.load()\n"
   ]
  },
  {
   "cell_type": "code",
   "execution_count": 5,
   "metadata": {},
   "outputs": [
    {
     "name": "stdout",
     "output_type": "stream",
     "text": [
      "\n",
      "Transfer to alpaca successful. Your bank balance is now 0 dollars\n",
      "\n"
     ]
    },
    {
     "data": {
      "text/plain": [
       "0"
      ]
     },
     "execution_count": 5,
     "metadata": {},
     "output_type": "execute_result"
    }
   ],
   "source": [
    "# Send money to alpaca. This function calculates a new bank balance after we send money to alpaca\n",
    "# In reality this would be an ACH transfer from our bank to alpaca.\n",
    "send_to_alpaca(send_to_alpaca_amount, bank_balance) "
   ]
  },
  {
   "cell_type": "code",
   "execution_count": 6,
   "metadata": {},
   "outputs": [
    {
     "data": {
      "text/html": [
       "<div>\n",
       "<style scoped>\n",
       "    .dataframe tbody tr th:only-of-type {\n",
       "        vertical-align: middle;\n",
       "    }\n",
       "\n",
       "    .dataframe tbody tr th {\n",
       "        vertical-align: top;\n",
       "    }\n",
       "\n",
       "    .dataframe thead th {\n",
       "        text-align: right;\n",
       "    }\n",
       "</style>\n",
       "<table border=\"1\" class=\"dataframe\">\n",
       "  <thead>\n",
       "    <tr style=\"text-align: right;\">\n",
       "      <th></th>\n",
       "      <th>SPY Open</th>\n",
       "      <th>SPY High</th>\n",
       "      <th>SPY Low</th>\n",
       "      <th>SPY Close</th>\n",
       "      <th>SPY Adjusted Close</th>\n",
       "      <th>SPY Volume</th>\n",
       "      <th>SPY Dividend Amount</th>\n",
       "      <th>SPY Split Coefficient</th>\n",
       "    </tr>\n",
       "    <tr>\n",
       "      <th>date</th>\n",
       "      <th></th>\n",
       "      <th></th>\n",
       "      <th></th>\n",
       "      <th></th>\n",
       "      <th></th>\n",
       "      <th></th>\n",
       "      <th></th>\n",
       "      <th></th>\n",
       "    </tr>\n",
       "  </thead>\n",
       "  <tbody>\n",
       "    <tr>\n",
       "      <th>2020-08-21</th>\n",
       "      <td>337.92</td>\n",
       "      <td>339.72</td>\n",
       "      <td>337.5500</td>\n",
       "      <td>339.48</td>\n",
       "      <td>339.48</td>\n",
       "      <td>55106628.0</td>\n",
       "      <td>0.0</td>\n",
       "      <td>1.0</td>\n",
       "    </tr>\n",
       "    <tr>\n",
       "      <th>2020-08-20</th>\n",
       "      <td>335.36</td>\n",
       "      <td>338.80</td>\n",
       "      <td>335.2200</td>\n",
       "      <td>338.28</td>\n",
       "      <td>338.28</td>\n",
       "      <td>42207826.0</td>\n",
       "      <td>0.0</td>\n",
       "      <td>1.0</td>\n",
       "    </tr>\n",
       "    <tr>\n",
       "      <th>2020-08-19</th>\n",
       "      <td>339.05</td>\n",
       "      <td>339.61</td>\n",
       "      <td>336.6200</td>\n",
       "      <td>337.23</td>\n",
       "      <td>337.23</td>\n",
       "      <td>68054244.0</td>\n",
       "      <td>0.0</td>\n",
       "      <td>1.0</td>\n",
       "    </tr>\n",
       "    <tr>\n",
       "      <th>2020-08-18</th>\n",
       "      <td>338.34</td>\n",
       "      <td>339.10</td>\n",
       "      <td>336.6100</td>\n",
       "      <td>338.64</td>\n",
       "      <td>338.64</td>\n",
       "      <td>38733908.0</td>\n",
       "      <td>0.0</td>\n",
       "      <td>1.0</td>\n",
       "    </tr>\n",
       "    <tr>\n",
       "      <th>2020-08-17</th>\n",
       "      <td>337.94</td>\n",
       "      <td>338.34</td>\n",
       "      <td>336.8517</td>\n",
       "      <td>337.91</td>\n",
       "      <td>337.91</td>\n",
       "      <td>34496002.0</td>\n",
       "      <td>0.0</td>\n",
       "      <td>1.0</td>\n",
       "    </tr>\n",
       "  </tbody>\n",
       "</table>\n",
       "</div>"
      ],
      "text/plain": [
       "            SPY Open  SPY High   SPY Low  SPY Close  SPY Adjusted Close  \\\n",
       "date                                                                      \n",
       "2020-08-21    337.92    339.72  337.5500     339.48              339.48   \n",
       "2020-08-20    335.36    338.80  335.2200     338.28              338.28   \n",
       "2020-08-19    339.05    339.61  336.6200     337.23              337.23   \n",
       "2020-08-18    338.34    339.10  336.6100     338.64              338.64   \n",
       "2020-08-17    337.94    338.34  336.8517     337.91              337.91   \n",
       "\n",
       "            SPY Volume  SPY Dividend Amount  SPY Split Coefficient  \n",
       "date                                                                \n",
       "2020-08-21  55106628.0                  0.0                    1.0  \n",
       "2020-08-20  42207826.0                  0.0                    1.0  \n",
       "2020-08-19  68054244.0                  0.0                    1.0  \n",
       "2020-08-18  38733908.0                  0.0                    1.0  \n",
       "2020-08-17  34496002.0                  0.0                    1.0  "
      ]
     },
     "execution_count": 6,
     "metadata": {},
     "output_type": "execute_result"
    }
   ],
   "source": [
    "#Pull the data from alphavantage\n",
    "data = stonk_pull.data_pull(api)\n",
    "data.head()"
   ]
  },
  {
   "cell_type": "code",
   "execution_count": 7,
   "metadata": {},
   "outputs": [
    {
     "data": {
      "text/html": [
       "<div>\n",
       "<style scoped>\n",
       "    .dataframe tbody tr th:only-of-type {\n",
       "        vertical-align: middle;\n",
       "    }\n",
       "\n",
       "    .dataframe tbody tr th {\n",
       "        vertical-align: top;\n",
       "    }\n",
       "\n",
       "    .dataframe thead th {\n",
       "        text-align: right;\n",
       "    }\n",
       "</style>\n",
       "<table border=\"1\" class=\"dataframe\">\n",
       "  <thead>\n",
       "    <tr style=\"text-align: right;\">\n",
       "      <th></th>\n",
       "      <th>SPY Open</th>\n",
       "      <th>SPY Close</th>\n",
       "      <th>SPY Volume</th>\n",
       "    </tr>\n",
       "    <tr>\n",
       "      <th>date</th>\n",
       "      <th></th>\n",
       "      <th></th>\n",
       "      <th></th>\n",
       "    </tr>\n",
       "  </thead>\n",
       "  <tbody>\n",
       "    <tr>\n",
       "      <th>2020-08-21</th>\n",
       "      <td>337.92</td>\n",
       "      <td>339.48</td>\n",
       "      <td>55106628.0</td>\n",
       "    </tr>\n",
       "    <tr>\n",
       "      <th>2020-08-20</th>\n",
       "      <td>335.36</td>\n",
       "      <td>338.28</td>\n",
       "      <td>42207826.0</td>\n",
       "    </tr>\n",
       "    <tr>\n",
       "      <th>2020-08-19</th>\n",
       "      <td>339.05</td>\n",
       "      <td>337.23</td>\n",
       "      <td>68054244.0</td>\n",
       "    </tr>\n",
       "    <tr>\n",
       "      <th>2020-08-18</th>\n",
       "      <td>338.34</td>\n",
       "      <td>338.64</td>\n",
       "      <td>38733908.0</td>\n",
       "    </tr>\n",
       "    <tr>\n",
       "      <th>2020-08-17</th>\n",
       "      <td>337.94</td>\n",
       "      <td>337.91</td>\n",
       "      <td>34496002.0</td>\n",
       "    </tr>\n",
       "  </tbody>\n",
       "</table>\n",
       "</div>"
      ],
      "text/plain": [
       "            SPY Open  SPY Close  SPY Volume\n",
       "date                                       \n",
       "2020-08-21    337.92     339.48  55106628.0\n",
       "2020-08-20    335.36     338.28  42207826.0\n",
       "2020-08-19    339.05     337.23  68054244.0\n",
       "2020-08-18    338.34     338.64  38733908.0\n",
       "2020-08-17    337.94     337.91  34496002.0"
      ]
     },
     "execution_count": 7,
     "metadata": {},
     "output_type": "execute_result"
    }
   ],
   "source": [
    "#Clean the data\n",
    "stock_data_df = stonk_pull.data_clean(data)\n",
    "stock_data_df.head()\n"
   ]
  },
  {
   "cell_type": "code",
   "execution_count": 8,
   "metadata": {},
   "outputs": [
    {
     "data": {
      "text/html": [
       "<div>\n",
       "<style scoped>\n",
       "    .dataframe tbody tr th:only-of-type {\n",
       "        vertical-align: middle;\n",
       "    }\n",
       "\n",
       "    .dataframe tbody tr th {\n",
       "        vertical-align: top;\n",
       "    }\n",
       "\n",
       "    .dataframe thead th {\n",
       "        text-align: right;\n",
       "    }\n",
       "</style>\n",
       "<table border=\"1\" class=\"dataframe\">\n",
       "  <thead>\n",
       "    <tr style=\"text-align: right;\">\n",
       "      <th></th>\n",
       "      <th>SPY Open</th>\n",
       "      <th>SPY Close</th>\n",
       "      <th>SPY Volume</th>\n",
       "    </tr>\n",
       "    <tr>\n",
       "      <th>date</th>\n",
       "      <th></th>\n",
       "      <th></th>\n",
       "      <th></th>\n",
       "    </tr>\n",
       "  </thead>\n",
       "  <tbody>\n",
       "    <tr>\n",
       "      <th>1999-11-01</th>\n",
       "      <td>136.5000</td>\n",
       "      <td>135.5625</td>\n",
       "      <td>4006500.0</td>\n",
       "    </tr>\n",
       "    <tr>\n",
       "      <th>1999-11-02</th>\n",
       "      <td>135.9687</td>\n",
       "      <td>134.5937</td>\n",
       "      <td>6516900.0</td>\n",
       "    </tr>\n",
       "    <tr>\n",
       "      <th>1999-11-03</th>\n",
       "      <td>136.0000</td>\n",
       "      <td>135.5000</td>\n",
       "      <td>7222300.0</td>\n",
       "    </tr>\n",
       "    <tr>\n",
       "      <th>1999-11-04</th>\n",
       "      <td>136.7500</td>\n",
       "      <td>136.5312</td>\n",
       "      <td>7907500.0</td>\n",
       "    </tr>\n",
       "    <tr>\n",
       "      <th>1999-11-05</th>\n",
       "      <td>138.6250</td>\n",
       "      <td>137.8750</td>\n",
       "      <td>7431500.0</td>\n",
       "    </tr>\n",
       "  </tbody>\n",
       "</table>\n",
       "</div>"
      ],
      "text/plain": [
       "            SPY Open  SPY Close  SPY Volume\n",
       "date                                       \n",
       "1999-11-01  136.5000   135.5625   4006500.0\n",
       "1999-11-02  135.9687   134.5937   6516900.0\n",
       "1999-11-03  136.0000   135.5000   7222300.0\n",
       "1999-11-04  136.7500   136.5312   7907500.0\n",
       "1999-11-05  138.6250   137.8750   7431500.0"
      ]
     },
     "execution_count": 8,
     "metadata": {},
     "output_type": "execute_result"
    }
   ],
   "source": [
    "#Sort earliest to latest.\n",
    "stock_data_df.sort_index(inplace=True, ascending=True)\n",
    "stock_data_df.head()\n"
   ]
  },
  {
   "cell_type": "code",
   "execution_count": 9,
   "metadata": {},
   "outputs": [
    {
     "data": {
      "text/html": [
       "<div>\n",
       "<style scoped>\n",
       "    .dataframe tbody tr th:only-of-type {\n",
       "        vertical-align: middle;\n",
       "    }\n",
       "\n",
       "    .dataframe tbody tr th {\n",
       "        vertical-align: top;\n",
       "    }\n",
       "\n",
       "    .dataframe thead th {\n",
       "        text-align: right;\n",
       "    }\n",
       "</style>\n",
       "<table border=\"1\" class=\"dataframe\">\n",
       "  <thead>\n",
       "    <tr style=\"text-align: right;\">\n",
       "      <th></th>\n",
       "      <th>SPY Close</th>\n",
       "    </tr>\n",
       "    <tr>\n",
       "      <th>date</th>\n",
       "      <th></th>\n",
       "    </tr>\n",
       "  </thead>\n",
       "  <tbody>\n",
       "    <tr>\n",
       "      <th>1999-11-01</th>\n",
       "      <td>135.5625</td>\n",
       "    </tr>\n",
       "    <tr>\n",
       "      <th>1999-11-02</th>\n",
       "      <td>134.5937</td>\n",
       "    </tr>\n",
       "    <tr>\n",
       "      <th>1999-11-03</th>\n",
       "      <td>135.5000</td>\n",
       "    </tr>\n",
       "    <tr>\n",
       "      <th>1999-11-04</th>\n",
       "      <td>136.5312</td>\n",
       "    </tr>\n",
       "    <tr>\n",
       "      <th>1999-11-05</th>\n",
       "      <td>137.8750</td>\n",
       "    </tr>\n",
       "  </tbody>\n",
       "</table>\n",
       "</div>"
      ],
      "text/plain": [
       "            SPY Close\n",
       "date                 \n",
       "1999-11-01   135.5625\n",
       "1999-11-02   134.5937\n",
       "1999-11-03   135.5000\n",
       "1999-11-04   136.5312\n",
       "1999-11-05   137.8750"
      ]
     },
     "execution_count": 9,
     "metadata": {},
     "output_type": "execute_result"
    }
   ],
   "source": [
    "#To set up the crossover strategy select the one column we need, \"Close\", and set to dataframe\n",
    "signals_df = stock_data_df['SPY Close'].to_frame()\n",
    "signals_df.head()"
   ]
  },
  {
   "cell_type": "code",
   "execution_count": 10,
   "metadata": {},
   "outputs": [
    {
     "data": {
      "text/html": [
       "<div>\n",
       "<style scoped>\n",
       "    .dataframe tbody tr th:only-of-type {\n",
       "        vertical-align: middle;\n",
       "    }\n",
       "\n",
       "    .dataframe tbody tr th {\n",
       "        vertical-align: top;\n",
       "    }\n",
       "\n",
       "    .dataframe thead th {\n",
       "        text-align: right;\n",
       "    }\n",
       "</style>\n",
       "<table border=\"1\" class=\"dataframe\">\n",
       "  <thead>\n",
       "    <tr style=\"text-align: right;\">\n",
       "      <th></th>\n",
       "      <th>SPY Close</th>\n",
       "      <th>SMA2</th>\n",
       "      <th>SMA13</th>\n",
       "      <th>Signal</th>\n",
       "      <th>Buy/Sell</th>\n",
       "    </tr>\n",
       "    <tr>\n",
       "      <th>date</th>\n",
       "      <th></th>\n",
       "      <th></th>\n",
       "      <th></th>\n",
       "      <th></th>\n",
       "      <th></th>\n",
       "    </tr>\n",
       "  </thead>\n",
       "  <tbody>\n",
       "    <tr>\n",
       "      <th>1999-11-01</th>\n",
       "      <td>135.5625</td>\n",
       "      <td>NaN</td>\n",
       "      <td>NaN</td>\n",
       "      <td>0.0</td>\n",
       "      <td>NaN</td>\n",
       "    </tr>\n",
       "    <tr>\n",
       "      <th>1999-11-02</th>\n",
       "      <td>134.5937</td>\n",
       "      <td>135.07810</td>\n",
       "      <td>NaN</td>\n",
       "      <td>0.0</td>\n",
       "      <td>0.0</td>\n",
       "    </tr>\n",
       "    <tr>\n",
       "      <th>1999-11-03</th>\n",
       "      <td>135.5000</td>\n",
       "      <td>135.04685</td>\n",
       "      <td>NaN</td>\n",
       "      <td>0.0</td>\n",
       "      <td>0.0</td>\n",
       "    </tr>\n",
       "    <tr>\n",
       "      <th>1999-11-04</th>\n",
       "      <td>136.5312</td>\n",
       "      <td>136.01560</td>\n",
       "      <td>NaN</td>\n",
       "      <td>0.0</td>\n",
       "      <td>0.0</td>\n",
       "    </tr>\n",
       "    <tr>\n",
       "      <th>1999-11-05</th>\n",
       "      <td>137.8750</td>\n",
       "      <td>137.20310</td>\n",
       "      <td>NaN</td>\n",
       "      <td>0.0</td>\n",
       "      <td>0.0</td>\n",
       "    </tr>\n",
       "    <tr>\n",
       "      <th>...</th>\n",
       "      <td>...</td>\n",
       "      <td>...</td>\n",
       "      <td>...</td>\n",
       "      <td>...</td>\n",
       "      <td>...</td>\n",
       "    </tr>\n",
       "    <tr>\n",
       "      <th>2020-08-17</th>\n",
       "      <td>337.9100</td>\n",
       "      <td>337.37500</td>\n",
       "      <td>332.902308</td>\n",
       "      <td>1.0</td>\n",
       "      <td>0.0</td>\n",
       "    </tr>\n",
       "    <tr>\n",
       "      <th>2020-08-18</th>\n",
       "      <td>338.6400</td>\n",
       "      <td>338.27500</td>\n",
       "      <td>334.031538</td>\n",
       "      <td>1.0</td>\n",
       "      <td>0.0</td>\n",
       "    </tr>\n",
       "    <tr>\n",
       "      <th>2020-08-19</th>\n",
       "      <td>337.2300</td>\n",
       "      <td>337.93500</td>\n",
       "      <td>334.855385</td>\n",
       "      <td>1.0</td>\n",
       "      <td>0.0</td>\n",
       "    </tr>\n",
       "    <tr>\n",
       "      <th>2020-08-20</th>\n",
       "      <td>338.2800</td>\n",
       "      <td>337.75500</td>\n",
       "      <td>335.585385</td>\n",
       "      <td>1.0</td>\n",
       "      <td>0.0</td>\n",
       "    </tr>\n",
       "    <tr>\n",
       "      <th>2020-08-21</th>\n",
       "      <td>339.4800</td>\n",
       "      <td>338.88000</td>\n",
       "      <td>336.310000</td>\n",
       "      <td>1.0</td>\n",
       "      <td>0.0</td>\n",
       "    </tr>\n",
       "  </tbody>\n",
       "</table>\n",
       "<p>5236 rows × 5 columns</p>\n",
       "</div>"
      ],
      "text/plain": [
       "            SPY Close       SMA2       SMA13  Signal  Buy/Sell\n",
       "date                                                          \n",
       "1999-11-01   135.5625        NaN         NaN     0.0       NaN\n",
       "1999-11-02   134.5937  135.07810         NaN     0.0       0.0\n",
       "1999-11-03   135.5000  135.04685         NaN     0.0       0.0\n",
       "1999-11-04   136.5312  136.01560         NaN     0.0       0.0\n",
       "1999-11-05   137.8750  137.20310         NaN     0.0       0.0\n",
       "...               ...        ...         ...     ...       ...\n",
       "2020-08-17   337.9100  337.37500  332.902308     1.0       0.0\n",
       "2020-08-18   338.6400  338.27500  334.031538     1.0       0.0\n",
       "2020-08-19   337.2300  337.93500  334.855385     1.0       0.0\n",
       "2020-08-20   338.2800  337.75500  335.585385     1.0       0.0\n",
       "2020-08-21   339.4800  338.88000  336.310000     1.0       0.0\n",
       "\n",
       "[5236 rows x 5 columns]"
      ]
     },
     "execution_count": 10,
     "metadata": {},
     "output_type": "execute_result"
    }
   ],
   "source": [
    "#This function generates the signals dataframe\n",
    "signals.generate_sma2_sma13_signals(signals_df)"
   ]
  },
  {
   "cell_type": "code",
   "execution_count": 11,
   "metadata": {},
   "outputs": [
    {
     "name": "stdout",
     "output_type": "stream",
     "text": [
      "The signal is hold. No action taken\n",
      "Current positions are: []\n"
     ]
    }
   ],
   "source": [
    "#Send Buy and Sell orders to alpaca using the signal, 1 = buy, -1 = sell, 0 = hold\n",
    "\n",
    "if signals_df['Buy/Sell'].iloc[-1] == 1.0:\n",
    "    symbol = \"SPY\"\n",
    "    alpaca_functions.buy(symbol)\n",
    "    \n",
    "elif signals_df['Buy/Sell'].iloc[-1] == -1.0:\n",
    "    symbol = \"SPY\"\n",
    "    alpaca_functions.sell(symbol)\n",
    "    \n",
    "elif signals_df['Buy/Sell'].iloc[-1] == 0.0:\n",
    "    print(\"The signal is hold. No action taken\")\n",
    "\n",
    "print(f\"Current positions are: {api.list_positions()}\")"
   ]
  },
  {
   "cell_type": "code",
   "execution_count": 12,
   "metadata": {},
   "outputs": [
    {
     "name": "stdout",
     "output_type": "stream",
     "text": [
      "No profits were transferred to the bank from alpaca today.\n"
     ]
    }
   ],
   "source": [
    "#On the first of the month we will send our profits from alpaca to the bank\n",
    "\n",
    "day_of_month = (datetime.datetime.today()).strftime(\"%d\")\n",
    "\n",
    "if day_of_month == '1':\n",
    "    transfer_profits_from_alpaca(bank_balance, beginning_deposit)\n",
    "else:\n",
    "    print(\"No profits were transferred to the bank from alpaca today.\")  \n",
    "    \n",
    "\n"
   ]
  },
  {
   "cell_type": "code",
   "execution_count": 21,
   "metadata": {},
   "outputs": [
    {
     "name": "stdout",
     "output_type": "stream",
     "text": [
      "\n",
      "Transfer to Binance successful. Your binance_balance is now 30000.\n",
      "Your bank balance is now 100000.\n",
      "bank balance: 100000\n",
      "binance balance: 30000\n"
     ]
    }
   ],
   "source": [
    "#On the second day of the month we will send our profits to a cryptoexchange\n",
    "\n",
    "day_of_month = (datetime.datetime.today()).strftime(\"%d\")\n",
    "bank_balance  = 130000\n",
    "binance_balance = 0\n",
    "\n",
    "#If the the day of the month is 2, we transfer profits to binance and recalculate the bank balance and binance balance\n",
    "\n",
    "if day_of_month == '23':\n",
    "    #transfer function returns a list with the new bank balance and the new binance balance\n",
    "    balances = transfer_profits_to_exchange(bank_balance, binance_balance)\n",
    "    \n",
    "    #set the new bank and the new binance balances\n",
    "    bank_balance = balances[0]\n",
    "    binance_balance = balances[1]\n",
    "    \n",
    "else:\n",
    "    print(\"No profits were transferred from the bank to binance today.\")  \n",
    "\n",
    "print(\"bank balance:\", bank_balance)\n",
    "print(\"binance balance:\", binance_balance)"
   ]
  },
  {
   "cell_type": "code",
   "execution_count": 22,
   "metadata": {},
   "outputs": [
    {
     "data": {
      "text/plain": [
       "411.25"
      ]
     },
     "execution_count": 22,
     "metadata": {},
     "output_type": "execute_result"
    }
   ],
   "source": [
    "# Get price for ETH through binance api\n",
    "eth_price = get_eth_price()\n",
    "eth_price = float(eth_price)\n",
    "eth_price"
   ]
  },
  {
   "cell_type": "code",
   "execution_count": 23,
   "metadata": {},
   "outputs": [
    {
     "data": {
      "text/plain": [
       "72.94832826747721"
      ]
     },
     "execution_count": 23,
     "metadata": {},
     "output_type": "execute_result"
    }
   ],
   "source": [
    "\n",
    "shares_to_buy = binance_balance/eth_price\n",
    "shares_to_buy\n"
   ]
  },
  {
   "cell_type": "code",
   "execution_count": 25,
   "metadata": {},
   "outputs": [
    {
     "name": "stdout",
     "output_type": "stream",
     "text": [
      "b'{\"code\":-1021,\"msg\":\"Timestamp for this request is outside of the recvWindow.\"}'\n"
     ]
    },
    {
     "data": {
      "text/plain": [
       "b'{\"code\":-1021,\"msg\":\"Timestamp for this request is outside of the recvWindow.\"}'"
      ]
     },
     "execution_count": 25,
     "metadata": {},
     "output_type": "execute_result"
    }
   ],
   "source": [
    "#This buys one share of ETH, need to figure out how to change qty in the function. \n",
    "\n",
    "buy_ETH()"
   ]
  },
  {
   "cell_type": "code",
   "execution_count": 17,
   "metadata": {},
   "outputs": [],
   "source": []
  },
  {
   "cell_type": "code",
   "execution_count": null,
   "metadata": {},
   "outputs": [],
   "source": [
    "\n"
   ]
  },
  {
   "cell_type": "code",
   "execution_count": null,
   "metadata": {},
   "outputs": [],
   "source": [
    "\n",
    "\n"
   ]
  },
  {
   "cell_type": "code",
   "execution_count": null,
   "metadata": {},
   "outputs": [],
   "source": []
  },
  {
   "cell_type": "code",
   "execution_count": null,
   "metadata": {},
   "outputs": [],
   "source": []
  },
  {
   "cell_type": "code",
   "execution_count": null,
   "metadata": {},
   "outputs": [],
   "source": []
  },
  {
   "cell_type": "code",
   "execution_count": null,
   "metadata": {},
   "outputs": [],
   "source": []
  },
  {
   "cell_type": "code",
   "execution_count": null,
   "metadata": {},
   "outputs": [],
   "source": []
  },
  {
   "cell_type": "code",
   "execution_count": null,
   "metadata": {},
   "outputs": [],
   "source": []
  },
  {
   "cell_type": "code",
   "execution_count": null,
   "metadata": {},
   "outputs": [],
   "source": []
  }
 ],
 "metadata": {
  "kernelspec": {
   "display_name": "Python 3",
   "language": "python",
   "name": "python3"
  },
  "language_info": {
   "codemirror_mode": {
    "name": "ipython",
    "version": 3
   },
   "file_extension": ".py",
   "mimetype": "text/x-python",
   "name": "python",
   "nbconvert_exporter": "python",
   "pygments_lexer": "ipython3",
   "version": "3.7.6"
  }
 },
 "nbformat": 4,
 "nbformat_minor": 4
}
