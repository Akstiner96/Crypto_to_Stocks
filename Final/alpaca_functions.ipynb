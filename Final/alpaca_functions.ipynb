{
 "cells": [
  {
   "cell_type": "code",
   "execution_count": 69,
   "metadata": {},
   "outputs": [],
   "source": [
    "import numpy as np\n",
    "import pandas as pd\n",
    "\n",
    "import alpaca_trade_api as tradeapi\n",
    "import requests\n",
    "import os \n",
    "from dotenv import load_dotenv\n",
    "\n"
   ]
  },
  {
   "cell_type": "code",
   "execution_count": 70,
   "metadata": {},
   "outputs": [
    {
     "data": {
      "text/plain": [
       "str"
      ]
     },
     "execution_count": 70,
     "metadata": {},
     "output_type": "execute_result"
    }
   ],
   "source": [
    "#load alpaca keys\n",
    "\n",
    "load_dotenv()\n",
    "\n",
    "alpaca_api_key = os.getenv(\"Api_key\")\n",
    "alpaca_secret_key = os.getenv(\"Secret_key\")\n",
    "\n",
    "api = tradeapi.REST(alpaca_api_key, alpaca_secret_key, api_version='v2')\n",
    "\n",
    "\n",
    "type(alpaca_api_key)"
   ]
  },
  {
   "cell_type": "code",
   "execution_count": 72,
   "metadata": {},
   "outputs": [],
   "source": [
    "# This simulates holding a current bank account that can send and receive\n",
    "# money via ACH transfers to and from Alpaca\n",
    "# We are assuming we have 100,000 in the bank and we are sending 100,000 to our alpaca algorithm\n",
    "\n",
    "beginning_deposit = 100000\n",
    "\n",
    "bank_balance = 100000\n",
    "\n",
    "send_to_alpaca_amount = 100000\n",
    "\n",
    "withdraw_from_alpaca_amount = 0"
   ]
  },
  {
   "cell_type": "code",
   "execution_count": 73,
   "metadata": {},
   "outputs": [
    {
     "name": "stdout",
     "output_type": "stream",
     "text": [
      "\n",
      "Transfer to alpaca successful. Your bank balance is now 0 dollars\n",
      "\n"
     ]
    },
    {
     "data": {
      "text/plain": [
       "0"
      ]
     },
     "execution_count": 73,
     "metadata": {},
     "output_type": "execute_result"
    }
   ],
   "source": [
    "# This function calculates a new bank balance after we send money to alpaca.\n",
    "# In reality this would be an ACH transfer from our bank to alpaca.\n",
    "\n",
    "def send_to_alpaca(send_to_alpaca_amount, bank_balance):\n",
    "    if send_to_alpaca_amount > bank_balance:\n",
    "        print(\"Transfer not completed. Insufficient funds.\")\n",
    "    else:\n",
    "        bank_balance -= send_to_alpaca_amount\n",
    "        print()\n",
    "        print(f\"Transfer to alpaca successful. Your bank balance is now {bank_balance} dollars\")\n",
    "        print()\n",
    "    return bank_balance\n",
    "    \n",
    "send_to_alpaca(send_to_alpaca_amount, bank_balance)  "
   ]
  },
  {
   "cell_type": "code",
   "execution_count": 75,
   "metadata": {},
   "outputs": [
    {
     "name": "stdout",
     "output_type": "stream",
     "text": [
      "Your withdrawal was successful. Your new bank balance is $100218.3\n"
     ]
    },
    {
     "data": {
      "text/plain": [
       "100218.3"
      ]
     },
     "execution_count": 75,
     "metadata": {},
     "output_type": "execute_result"
    }
   ],
   "source": [
    "#This function calculates our profits and sends them back to our bank.\n",
    "#In reality this would be an ACH transfer too. If there are no profits no transfer takes place. \n",
    "\n",
    "def transfer_profits_from_alpaca(bank_balance, beginning_deposit):\n",
    "\n",
    "    # get our account data from alpaca \n",
    "    account = api.get_account()\n",
    "\n",
    "    #check to see if we are restricted\n",
    "    if account.trading_blocked:\n",
    "        print('Account is currently restricted from trading.')\n",
    "\n",
    "    #calculate how much profit we have. Withdraw that amount from alpaca to our bank.\n",
    "    \n",
    "    withdraw_from_alpaca_amount = 0\n",
    "    if float(account.portfolio_value) > beginning_deposit:\n",
    "\n",
    "        withdraw_from_alpaca_amount += (float(account.portfolio_value) - beginning_deposit)\n",
    "        bank_balance += withdraw_from_alpaca_amount\n",
    "        print(f\"Your withdrawal from alpaca was successful. Your new bank balance is ${bank_balance}\")\n",
    "        \n",
    "    else:\n",
    "        print(\"There are no profits to withdraw\")\n",
    "        \n",
    "    return bank_balance\n",
    "        \n",
    "#transfer_profits_from_alpaca(bank_balance, beginning_deposit)"
   ]
  },
  {
   "cell_type": "code",
   "execution_count": null,
   "metadata": {},
   "outputs": [],
   "source": [
    "#Transfer any amount from alpaca to the bank\n",
    "# Set withdraw_from_alpaca_amount = any amount\n",
    "\n",
    "def transfer_from_alpaca(withdraw_from_alpaca_amount, beginning_deposit):\n",
    "\n",
    "    # get our account data from alpaca \n",
    "    account = api.get_account()\n",
    "\n",
    "    #check to see if we are restricted\n",
    "    if account.trading_blocked:\n",
    "        print('Account is currently restricted from trading.')\n",
    "\n",
    "    #print current market value of account\n",
    "    print('Total market value is ${account.portfolio_value}.')\n",
    "    \n",
    "    if withdraw_from_alpaca_amount <= account.portfolio_value:\n",
    "        bank_balance += withdraw_from_alpaca_amount\n",
    "    print(f\"Your withdrawal was successful. Your new bank balance is ${bank_balance})\n",
    "        \n",
    "    else:\n",
    "        print(\"You do not have enough funds to withdraw that amount.\")\n",
    "    \n",
    "    \n",
    "    "
   ]
  },
  {
   "cell_type": "code",
   "execution_count": 57,
   "metadata": {},
   "outputs": [
    {
     "name": "stdout",
     "output_type": "stream",
     "text": [
      "295 shares of SPY\n"
     ]
    }
   ],
   "source": [
    "def positions():  \n",
    "    # Get a list of all of our positions.\n",
    "    portfolio = api.list_positions()\n",
    "\n",
    "    # Print the quantity of shares for each position.\n",
    "    for position in portfolio:\n",
    "        print(\"{} shares of {}\".format(position.qty, position.symbol))\n",
    "positions()"
   ]
  },
  {
   "cell_type": "code",
   "execution_count": 27,
   "metadata": {},
   "outputs": [],
   "source": [
    "#This buy function worked with alpaca. Still need to figure out how to get a price.\n",
    "\n",
    "symbol = \"SPY\"\n",
    "\n",
    "def buy(symbol):\n",
    "\n",
    "    # get our cash and last price from alpaca  \n",
    "    cash = float(api.get_account().cash) \n",
    "    \n",
    "    #hard coded price, have not figured out how to get price quote\n",
    "    price = 338.30\n",
    "    \n",
    "    qty = int(cash/price)\n",
    "    \n",
    "    api.submit_order(\n",
    "        symbol= symbol,\n",
    "        qty= qty,\n",
    "        side='buy',\n",
    "        type='market',\n",
    "        time_in_force='gtc'\n",
    "    )\n",
    "buy(\"SPY\")"
   ]
  },
  {
   "cell_type": "code",
   "execution_count": null,
   "metadata": {},
   "outputs": [],
   "source": [
    "#This sell order will sell all shares of a given symbol. \n",
    "\n",
    "def sell_all(symbol):\n",
    "    # get number of shares we hold of a symbol\n",
    "    qty = api.get_position(symbol).qty\n",
    "    \n",
    "    api.submit_order(\n",
    "        symbol= symbol,\n",
    "        qty= qty,\n",
    "        side='sell',\n",
    "        type='market',\n",
    "        time_in_force='gtc'\n",
    "    )\n",
    "    print(f\"Current positions are: {api.list_positions()}\")\n",
    "    \n",
    "sell_all(symbol)"
   ]
  },
  {
   "cell_type": "code",
   "execution_count": 86,
   "metadata": {},
   "outputs": [
    {
     "data": {
      "text/plain": [
       "'100218.3'"
      ]
     },
     "execution_count": 86,
     "metadata": {},
     "output_type": "execute_result"
    }
   ],
   "source": [
    "#useful commands:\n",
    "\n",
    "api.get_account().cash\n"
   ]
  },
  {
   "cell_type": "code",
   "execution_count": 87,
   "metadata": {},
   "outputs": [
    {
     "data": {
      "text/plain": [
       "Asset({   'class': 'us_equity',\n",
       "    'easy_to_borrow': False,\n",
       "    'exchange': 'ARCA',\n",
       "    'id': 'b28f4066-5c6d-479b-a2af-85dc1a8f16fb',\n",
       "    'marginable': True,\n",
       "    'name': 'SPDR S&P 500 ETF Trust',\n",
       "    'shortable': False,\n",
       "    'status': 'active',\n",
       "    'symbol': 'SPY',\n",
       "    'tradable': True})"
      ]
     },
     "execution_count": 87,
     "metadata": {},
     "output_type": "execute_result"
    }
   ],
   "source": [
    "api.get_asset('SPY')"
   ]
  },
  {
   "cell_type": "code",
   "execution_count": 88,
   "metadata": {},
   "outputs": [
    {
     "data": {
      "text/plain": [
       "[]"
      ]
     },
     "execution_count": 88,
     "metadata": {},
     "output_type": "execute_result"
    }
   ],
   "source": [
    "api.list_positions()"
   ]
  },
  {
   "cell_type": "code",
   "execution_count": 89,
   "metadata": {},
   "outputs": [
    {
     "data": {
      "text/plain": [
       "Account({   'account_blocked': False,\n",
       "    'account_number': 'PA28H2MKCPU1',\n",
       "    'buying_power': '400000',\n",
       "    'cash': '100218.3',\n",
       "    'created_at': '2020-03-31T23:27:27.856311Z',\n",
       "    'currency': 'USD',\n",
       "    'daytrade_count': 1,\n",
       "    'daytrading_buying_power': '400000',\n",
       "    'equity': '100218.3',\n",
       "    'id': 'd82d4219-a625-4081-a284-86afea53b4a5',\n",
       "    'initial_margin': '0',\n",
       "    'last_equity': '100000',\n",
       "    'last_maintenance_margin': '0',\n",
       "    'long_market_value': '0',\n",
       "    'maintenance_margin': '0',\n",
       "    'multiplier': '4',\n",
       "    'pattern_day_trader': False,\n",
       "    'portfolio_value': '100218.3',\n",
       "    'regt_buying_power': '200436.6',\n",
       "    'short_market_value': '0',\n",
       "    'shorting_enabled': True,\n",
       "    'sma': '0',\n",
       "    'status': 'ACTIVE',\n",
       "    'trade_suspended_by_user': False,\n",
       "    'trading_blocked': False,\n",
       "    'transfers_blocked': False})"
      ]
     },
     "execution_count": 89,
     "metadata": {},
     "output_type": "execute_result"
    }
   ],
   "source": [
    "account = api.get_account()\n",
    "account"
   ]
  },
  {
   "cell_type": "code",
   "execution_count": 90,
   "metadata": {},
   "outputs": [
    {
     "data": {
      "text/plain": [
       "'ACTIVE'"
      ]
     },
     "execution_count": 90,
     "metadata": {},
     "output_type": "execute_result"
    }
   ],
   "source": [
    "account.status"
   ]
  },
  {
   "cell_type": "code",
   "execution_count": 91,
   "metadata": {},
   "outputs": [
    {
     "data": {
      "text/plain": [
       "'100218.3'"
      ]
     },
     "execution_count": 91,
     "metadata": {},
     "output_type": "execute_result"
    }
   ],
   "source": [
    "account.portfolio_value\n"
   ]
  },
  {
   "cell_type": "code",
   "execution_count": 92,
   "metadata": {},
   "outputs": [
    {
     "data": {
      "text/plain": [
       "[]"
      ]
     },
     "execution_count": 92,
     "metadata": {},
     "output_type": "execute_result"
    }
   ],
   "source": [
    "api.list_orders()\n"
   ]
  },
  {
   "cell_type": "code",
   "execution_count": 94,
   "metadata": {},
   "outputs": [
    {
     "data": {
      "text/plain": [
       "'100218.3'"
      ]
     },
     "execution_count": 94,
     "metadata": {},
     "output_type": "execute_result"
    }
   ],
   "source": [
    "account.portfolio_value"
   ]
  },
  {
   "cell_type": "code",
   "execution_count": null,
   "metadata": {},
   "outputs": [],
   "source": [
    "api.get_position(\"SPY\")"
   ]
  },
  {
   "cell_type": "code",
   "execution_count": null,
   "metadata": {},
   "outputs": [],
   "source": [
    "api.get_position(\"SPY\").qty"
   ]
  }
 ],
 "metadata": {
  "kernelspec": {
   "display_name": "Python 3",
   "language": "python",
   "name": "python3"
  },
  "language_info": {
   "codemirror_mode": {
    "name": "ipython",
    "version": 3
   },
   "file_extension": ".py",
   "mimetype": "text/x-python",
   "name": "python",
   "nbconvert_exporter": "python",
   "pygments_lexer": "ipython3",
   "version": "3.7.7"
  }
 },
 "nbformat": 4,
 "nbformat_minor": 4
}
